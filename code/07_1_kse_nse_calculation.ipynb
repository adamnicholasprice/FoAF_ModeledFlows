{
 "cells": [
  {
   "cell_type": "code",
   "execution_count": null,
   "id": "4280d673-8692-4910-a10f-1e81772b3392",
   "metadata": {
    "tags": []
   },
   "outputs": [],
   "source": [
    "import pandas as pd\n",
    "import numpy as np\n",
    "np.seterr(all='ignore')\n",
    "import matplotlib.pyplot as plt\n",
    "from hydroeval import evaluator, nse, kge, pbias\n",
    "from tqdm import tqdm\n",
    "import datetime as dt"
   ]
  },
  {
   "cell_type": "code",
   "execution_count": null,
   "id": "7e330317-94c5-4b57-adb7-c44d1f7818e3",
   "metadata": {
    "tags": []
   },
   "outputs": [],
   "source": [
    "import warnings\n",
    "warnings.filterwarnings('ignore')\n",
    "\n",
    "pnwNP = pd.read_csv(\"../data/pnwNP_StatsLocations_SS.csv\")\n",
    "\n",
    "colnm = [\"time\",'obs','model','water_year']\n",
    "out_col = ['gage','model','nse','kge','kge_r','kge_a','kge_b','n_wateryear']\n",
    "# df_list = ['vic','prms','nwm0','nwm1']\n",
    "# df_list = [VIC,PRMS,NWM0,NWM1]\n",
    "\n",
    "out_df = pd.DataFrame(columns = out_col)\n",
    "\n",
    "# i = 1\n",
    "for i in tqdm(range(0,len(pnwNP))):\n",
    "# for i in tqdm(range(0,2)):\n",
    "\n",
    "    try:\n",
    "        ## Read in streamflow and simulation dataset\n",
    "        df = pd.read_csv('../data/pnwNP_modeledData_NWM3/'+str(pnwNP['gage'][i])+\".csv\")\n",
    "        df['time'] = pd.to_datetime(df['time'])\n",
    "        df['water_year'] = df.time.dt.year.where(df.time.dt.month < 10, df.time.dt.year + 1)\n",
    "\n",
    "\n",
    "        ## subset the dataset to only overlapping time periods\n",
    "        VIC = df[(df['streamflow_NWIS'].notna())&(df['streamflow_VIC'].notna())][['time','streamflow_NWIS','streamflow_VIC','water_year']].reset_index(drop=True)\n",
    "        VIC.columns = colnm\n",
    "        VIC.name = \"vic\"\n",
    "\n",
    "        PRMS = df[(df['streamflow_NWIS'].notna())&(df['streamflow_PRMS'].notna())][['time','streamflow_NWIS','streamflow_PRMS','water_year']].reset_index(drop=True)\n",
    "        PRMS.columns = colnm\n",
    "        PRMS.name = \"prms\"\n",
    "\n",
    "        NWM0 = df[(df['streamflow_NWIS'].notna())&(df['streamflow_NWM2d0'].notna())][['time','streamflow_NWIS','streamflow_NWM2d0','water_year']].reset_index(drop=True)\n",
    "        NWM0.columns = colnm\n",
    "        NWM0.name = \"nwm0\"\n",
    "\n",
    "        NWM1 = df[(df['streamflow_NWIS'].notna())&(df['streamflow_NWM2d1'].notna())][['time','streamflow_NWIS','streamflow_NWM2d1','water_year']].reset_index(drop=True)\n",
    "        NWM1.columns = colnm\n",
    "        NWM1.name = \"nwm1\"\n",
    "        \n",
    "        NWM3 = df[(df['streamflow_NWIS'].notna())&(df['streamflow_NWM3'].notna())][['time','streamflow_NWIS','streamflow_NWM3','water_year']].reset_index(drop=True)\n",
    "        NWM3.columns = colnm\n",
    "        NWM3.name = \"nwm3\"\n",
    "\n",
    "        temp = NWM3\n",
    "\n",
    "        df_list = [VIC,PRMS,NWM0,NWM1,NWM3]\n",
    "\n",
    "        for j, df in enumerate(df_list):\n",
    "            temp = pd.DataFrame(df_list[j])\n",
    "            ## Calculate hydrovariables\n",
    "            NSE = evaluator(nse,\n",
    "                            simulations = temp['model'],\n",
    "                            evaluation = temp['obs'], \n",
    "                            axis=1,\n",
    "                            transform='inv',\n",
    "                            epsilon=0.00001)\n",
    "\n",
    "            KGE = evaluator(kge,\n",
    "                            simulations = temp['model'],\n",
    "                            evaluation = temp['obs'], \n",
    "                            axis=1,\n",
    "                            transform='inv',\n",
    "                            epsilon=0.00001)\n",
    "\n",
    "            gage = pnwNP['gage'][i]\n",
    "\n",
    "\n",
    "            # ## Return hydrovaribles and write to list\n",
    "            out = pd.DataFrame(np.column_stack([int(gage),df_list[j].name,NSE,KGE,len(np.unique(temp[\"water_year\"]))]))\n",
    "            out.columns = out_col\n",
    "\n",
    "            out_df = pd.concat([out_df,out])\n",
    "\n",
    "    except:\n",
    "        print(\"No data\")\n",
    "        pass\n",
    "    "
   ]
  },
  {
   "cell_type": "code",
   "execution_count": null,
   "id": "b82132f1-2249-4207-bf69-2138afa43b0f",
   "metadata": {
    "tags": []
   },
   "outputs": [],
   "source": [
    "dat = pd.read_csv(\"../data/pnwNP_StatsLocations.csv\")\n",
    "out_df[\"n_wateryear\"] = out_df[\"n_wateryear\"].astype(int)\n",
    "tt = out_df\n",
    "tt = tt.reset_index(drop=True)\n",
    "tt['gage']=tt['gage'].astype(np.int64)\n",
    "tt = tt.merge(dat, how='inner', on='gage')"
   ]
  },
  {
   "cell_type": "code",
   "execution_count": null,
   "id": "ffa5ea1f-c182-45c6-aeb7-63e6d6be97b5",
   "metadata": {
    "tags": []
   },
   "outputs": [],
   "source": [
    "tt.to_csv(\"../data/pnwNP_modelStats_NewEps_NWM3.csv\")"
   ]
  }
 ],
 "metadata": {
  "kernelspec": {
   "display_name": "Python 3 (ipykernel)",
   "language": "python",
   "name": "python3"
  },
  "language_info": {
   "codemirror_mode": {
    "name": "ipython",
    "version": 3
   },
   "file_extension": ".py",
   "mimetype": "text/x-python",
   "name": "python",
   "nbconvert_exporter": "python",
   "pygments_lexer": "ipython3",
   "version": "3.11.4"
  }
 },
 "nbformat": 4,
 "nbformat_minor": 5
}
