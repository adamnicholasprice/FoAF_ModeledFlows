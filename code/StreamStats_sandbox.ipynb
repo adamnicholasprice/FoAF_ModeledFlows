{
 "cells": [
  {
   "cell_type": "code",
   "execution_count": 46,
   "id": "18cb495d-f210-41ea-9407-f31750f333c5",
   "metadata": {
    "tags": []
   },
   "outputs": [],
   "source": [
    "import pandas as pd\n",
    "import requests\n",
    "import json\n",
    "import numpy as np"
   ]
  },
  {
   "cell_type": "code",
   "execution_count": null,
   "id": "19463bcc-d0eb-441d-aa41-a2dca417461b",
   "metadata": {
    "tags": []
   },
   "outputs": [],
   "source": [
    "def getAllStreamStats(i):\n",
    "    ## Define gage location\n",
    "#     y_loc = dat[\"dec_lat_va\"][i]\n",
    "#     x_loc = dat[\"dec_long_va\"][i]\n",
    "    \n",
    "    y_loc = np.round(dat[\"dec_lat_va\"][i],2)\n",
    "    x_loc = np.round(dat[\"dec_long_va\"][i],2)\n",
    "    state = 'OR'\n",
    "    gage = dat[\"gage\"][i]\n",
    "    \n",
    "    \n",
    "    ## Define Streamstats API URLS\n",
    "    # Service URLS\n",
    "    StreamStatsServiceURLS = {\n",
    "        'watershed': 'https://streamstats.usgs.gov/streamstatsservices/watershed.geojson',\n",
    "        'basinCharacteristics': 'https://streamstats.usgs.gov/streamstatsservices/parameters.json',\n",
    "        'gage': 'https://streamstats.usgs.gov/gagestatsservices/stations'\n",
    "        }\n",
    "    NSSServiceURlS = {\n",
    "        'regressionRegions': 'https://streamstats.usgs.gov/nssservices/regressionregions/bylocation',\n",
    "        'scenarios': 'https://streamstats.usgs.gov/nssservices/scenarios',\n",
    "        'computeFlowStats': 'https://streamstats.usgs.gov/nssservices/scenarios/Estimate'\n",
    "    }\n",
    "\n",
    "    # Declare cookies for use of consistent StreamStats servers\n",
    "    global cookies \n",
    "    \n",
    "    # Step 1 - Get the watershed\n",
    "    print('Step 1 - Get the watershed')\n",
    "    watershedURLParams = {\n",
    "        'rcode': state, \n",
    "        'xlocation': x_loc, \n",
    "        'ylocation': y_loc,\n",
    "        'crs': 4326,\n",
    "    #     'crs': 4269,\n",
    "    }\n",
    "    delineatedBasin = None\n",
    "    while delineatedBasin is None: # Sometimes the watershed endpoint returns with no geometry - this loop is written to keep trying until a geometry is returned\n",
    "        print('Delineating basin...')\n",
    "        basinDelineationResponse = requests.get(url = StreamStatsServiceURLS['watershed'], params = watershedURLParams)\n",
    "        if basinDelineationResponse.status_code == 200:\n",
    "            cookies = basinDelineationResponse.cookies\n",
    "            try:\n",
    "                delineatedBasin = json.loads(basinDelineationResponse.content.decode('utf-8'))[\"featurecollection\"][1][\"feature\"][\"features\"][0][\"geometry\"] # this will be used in step 2\n",
    "                workspaceID = json.loads(basinDelineationResponse.content.decode('utf-8'))[\"workspaceID\"] # this will be used in step 4\n",
    "#             except:\n",
    "#                 print(\"No geometry returned. Retrying...\")\n",
    "#                 pass\n",
    "        else:\n",
    "            print(\"Error. Retrying...\")\n",
    "            pass\n",
    "\n",
    "    # Step 2 - Get the Regression Regions associated with the watershed\n",
    "    print('Step 2 - Get the Regression Regions associated with the watershed')\n",
    "    regressionRegionPOSTBody = delineatedBasin # from step 1\n",
    "\n",
    "    regressionRegions = None\n",
    "    while regressionRegions == None:\n",
    "        regressionRegionsResponse = requests.post(url = NSSServiceURlS['regressionRegions'], json=regressionRegionPOSTBody)\n",
    "        if regressionRegionsResponse.status_code == 200:\n",
    "            regressionRegions = json.loads(regressionRegionsResponse.content.decode('utf-8'))\n",
    "            regressionRegionCodes = [ sub['code'] for sub in regressionRegions ] # this will be used in step 3\n",
    "        else:\n",
    "            print(\"Error.\")\n",
    "            pass\n",
    "\n",
    "    # Step 3 - Get the Scenarios associated with the Regression Regions\n",
    "    print('Step 3 - Get the Scenarios associated with the Regression Regions')\n",
    "\n",
    "    scenarioURLParams = {\n",
    "        'regions': state, \n",
    "        'statisticgroups': 4, # this can be updated depending on which flow statistics you want to calculate (2 is associated with Peak Flow Statistics) - you can find all statistic groups available for your region at https://streamstats.usgs.gov/docs/nssservices/#/StatisticGroups/GET/StatisticGroups\n",
    "        'regressionregions': (','.join(regressionRegionCodes)) # from step 2, needs to be comma separated list\n",
    "    }\n",
    "    scenarioResponse = requests.get(url = NSSServiceURlS['scenarios'], params=scenarioURLParams)\n",
    "\n",
    "    parameters = None\n",
    "    while parameters == None:\n",
    "        if scenarioResponse.status_code == 200:\n",
    "            scenarios = json.loads(scenarioResponse.content.decode('utf-8'))[0] # this will be used in step 5\n",
    "            parameters = json.loads(scenarioResponse.content.decode('utf-8'))[0][\"regressionRegions\"][0][\"parameters\"]\n",
    "            parameterCodes = [ sub['code'] for sub in parameters ] # this will be used in step 4\n",
    "        else:\n",
    "            print(\"Error.\")\n",
    "            pass\n",
    "\n",
    "    # Step 4 - Compute the basin characteristics\n",
    "    print('Step 4 - Compute the basin characteristics')\n",
    "    basinCharacteristicsURLParams = {\n",
    "        'rcode': state, \n",
    "        'workspaceID': workspaceID, # from step 1\n",
    "        'includeparameters': (','.join(parameterCodes)) # from step 3\n",
    "    }\n",
    "\n",
    "    basinCharacteristics = None\n",
    "    while basinCharacteristics is None:\n",
    "        basinCharacteristicsResponse = requests.get(url = StreamStatsServiceURLS['basinCharacteristics'], params=basinCharacteristicsURLParams, cookies=cookies)\n",
    "        if basinCharacteristicsResponse.status_code == 200:\n",
    "            basinCharacteristics = json.loads(basinCharacteristicsResponse.content.decode('utf-8')) # this will be used in step 5\n",
    "        else:\n",
    "            print(\"Error.\")\n",
    "            pass\n",
    "\n",
    "    # Step 5 - Compute Flow Statistics\n",
    "    print('Step 5 - Compute Flow Statistics')\n",
    "    flowStatsURLParams = {\n",
    "        'regions': state\n",
    "    }\n",
    "    flowStatsPOSTBody = [] \n",
    "    for counter, x in enumerate(scenarios['regressionRegions'][0]['parameters']): # from step 3 & step 4\n",
    "        for p in basinCharacteristics['parameters']:\n",
    "            if x['code'].lower() == p['code'].lower():\n",
    "                scenarios['regressionRegions'][0]['parameters'][counter]['value'] = p['value']\n",
    "    flowStatsPOSTBody.append(scenarios)\n",
    "\n",
    "    flowStats = None\n",
    "    while flowStats == None:\n",
    "        flowStatsResponse = requests.post(url = NSSServiceURlS['computeFlowStats'], params = flowStatsURLParams, json=flowStatsPOSTBody)\n",
    "        if flowStatsResponse.status_code == 200:\n",
    "            flowStats = json.loads(flowStatsResponse.content.decode('utf-8'))\n",
    "        else:\n",
    "            print(\"Error.\")\n",
    "            pass\n",
    "\n",
    "    out = pd.json_normalize(flowStats,\n",
    "                             record_path=['regressionRegions',['results']],\n",
    "                            )[[\"code\",\"value\"]]\n",
    "    out[\"gage\"] = gage\n",
    "    return out"
   ]
  },
  {
   "cell_type": "code",
   "execution_count": 53,
   "id": "7f9826e5-7735-4a45-b52d-9bb57dd74533",
   "metadata": {},
   "outputs": [
    {
     "data": {
      "text/html": [
       "<div>\n",
       "<style scoped>\n",
       "    .dataframe tbody tr th:only-of-type {\n",
       "        vertical-align: middle;\n",
       "    }\n",
       "\n",
       "    .dataframe tbody tr th {\n",
       "        vertical-align: top;\n",
       "    }\n",
       "\n",
       "    .dataframe thead th {\n",
       "        text-align: right;\n",
       "    }\n",
       "</style>\n",
       "<table border=\"1\" class=\"dataframe\">\n",
       "  <thead>\n",
       "    <tr style=\"text-align: right;\">\n",
       "      <th></th>\n",
       "      <th>site_no</th>\n",
       "      <th>dec_lat_va</th>\n",
       "      <th>dec_long_va</th>\n",
       "      <th>gage</th>\n",
       "      <th>numZero</th>\n",
       "      <th>numOne</th>\n",
       "      <th>startDate</th>\n",
       "      <th>endDate</th>\n",
       "      <th>comid</th>\n",
       "      <th>numObs</th>\n",
       "      <th>propZero</th>\n",
       "      <th>propOne</th>\n",
       "      <th>geometry</th>\n",
       "    </tr>\n",
       "  </thead>\n",
       "  <tbody>\n",
       "    <tr>\n",
       "      <th>63</th>\n",
       "      <td>12115700</td>\n",
       "      <td>47.366216</td>\n",
       "      <td>-121.692882</td>\n",
       "      <td>12115700</td>\n",
       "      <td>1128</td>\n",
       "      <td>1888</td>\n",
       "      <td>1983-03-02</td>\n",
       "      <td>2020-12-31</td>\n",
       "      <td>24538136.0</td>\n",
       "      <td>13819</td>\n",
       "      <td>0.081627</td>\n",
       "      <td>0.136623</td>\n",
       "      <td>POINT (-121.6928821 47.36621625)</td>\n",
       "    </tr>\n",
       "  </tbody>\n",
       "</table>\n",
       "</div>"
      ],
      "text/plain": [
       "     site_no  dec_lat_va  dec_long_va      gage  numZero  numOne   startDate  \\\n",
       "63  12115700   47.366216  -121.692882  12115700     1128    1888  1983-03-02   \n",
       "\n",
       "       endDate       comid  numObs  propZero   propOne  \\\n",
       "63  2020-12-31  24538136.0   13819  0.081627  0.136623   \n",
       "\n",
       "                            geometry  \n",
       "63  POINT (-121.6928821 47.36621625)  "
      ]
     },
     "execution_count": 53,
     "metadata": {},
     "output_type": "execute_result"
    }
   ],
   "source": [
    "dat[dat['site_no']==12115700]"
   ]
  },
  {
   "cell_type": "code",
   "execution_count": 57,
   "id": "3e58921b-ca89-45ad-adba-a93414b18edb",
   "metadata": {},
   "outputs": [
    {
     "name": "stdout",
     "output_type": "stream",
     "text": [
      "Step 1 - Get the watershed\n",
      "Delineating basin...\n",
      "No geometry returned. Retrying...\n",
      "Delineating basin...\n"
     ]
    },
    {
     "ename": "KeyboardInterrupt",
     "evalue": "",
     "output_type": "error",
     "traceback": [
      "\u001b[0;31m---------------------------------------------------------------------------\u001b[0m",
      "\u001b[0;31mKeyboardInterrupt\u001b[0m                         Traceback (most recent call last)",
      "\u001b[0;32m<ipython-input-57-0014aab356ee>\u001b[0m in \u001b[0;36m<module>\u001b[0;34m\u001b[0m\n\u001b[1;32m      1\u001b[0m \u001b[0mi\u001b[0m\u001b[0;34m=\u001b[0m\u001b[0;36m63\u001b[0m\u001b[0;34m\u001b[0m\u001b[0;34m\u001b[0m\u001b[0m\n\u001b[0;32m----> 2\u001b[0;31m \u001b[0mgetAllStreamStats\u001b[0m\u001b[0;34m(\u001b[0m\u001b[0mi\u001b[0m\u001b[0;34m)\u001b[0m\u001b[0;34m\u001b[0m\u001b[0;34m\u001b[0m\u001b[0m\n\u001b[0m",
      "\u001b[0;32m<ipython-input-54-84ac20222fc4>\u001b[0m in \u001b[0;36mgetAllStreamStats\u001b[0;34m(i)\u001b[0m\n\u001b[1;32m     38\u001b[0m     \u001b[0;32mwhile\u001b[0m \u001b[0mdelineatedBasin\u001b[0m \u001b[0;32mis\u001b[0m \u001b[0;32mNone\u001b[0m\u001b[0;34m:\u001b[0m \u001b[0;31m# Sometimes the watershed endpoint returns with no geometry - this loop is written to keep trying until a geometry is returned\u001b[0m\u001b[0;34m\u001b[0m\u001b[0;34m\u001b[0m\u001b[0m\n\u001b[1;32m     39\u001b[0m         \u001b[0mprint\u001b[0m\u001b[0;34m(\u001b[0m\u001b[0;34m'Delineating basin...'\u001b[0m\u001b[0;34m)\u001b[0m\u001b[0;34m\u001b[0m\u001b[0;34m\u001b[0m\u001b[0m\n\u001b[0;32m---> 40\u001b[0;31m         \u001b[0mbasinDelineationResponse\u001b[0m \u001b[0;34m=\u001b[0m \u001b[0mrequests\u001b[0m\u001b[0;34m.\u001b[0m\u001b[0mget\u001b[0m\u001b[0;34m(\u001b[0m\u001b[0murl\u001b[0m \u001b[0;34m=\u001b[0m \u001b[0mStreamStatsServiceURLS\u001b[0m\u001b[0;34m[\u001b[0m\u001b[0;34m'watershed'\u001b[0m\u001b[0;34m]\u001b[0m\u001b[0;34m,\u001b[0m \u001b[0mparams\u001b[0m \u001b[0;34m=\u001b[0m \u001b[0mwatershedURLParams\u001b[0m\u001b[0;34m)\u001b[0m\u001b[0;34m\u001b[0m\u001b[0;34m\u001b[0m\u001b[0m\n\u001b[0m\u001b[1;32m     41\u001b[0m         \u001b[0;32mif\u001b[0m \u001b[0mbasinDelineationResponse\u001b[0m\u001b[0;34m.\u001b[0m\u001b[0mstatus_code\u001b[0m \u001b[0;34m==\u001b[0m \u001b[0;36m200\u001b[0m\u001b[0;34m:\u001b[0m\u001b[0;34m\u001b[0m\u001b[0;34m\u001b[0m\u001b[0m\n\u001b[1;32m     42\u001b[0m             \u001b[0mcookies\u001b[0m \u001b[0;34m=\u001b[0m \u001b[0mbasinDelineationResponse\u001b[0m\u001b[0;34m.\u001b[0m\u001b[0mcookies\u001b[0m\u001b[0;34m\u001b[0m\u001b[0;34m\u001b[0m\u001b[0m\n",
      "\u001b[0;32m/opt/miniconda3/lib/python3.9/site-packages/requests/api.py\u001b[0m in \u001b[0;36mget\u001b[0;34m(url, params, **kwargs)\u001b[0m\n\u001b[1;32m     74\u001b[0m \u001b[0;34m\u001b[0m\u001b[0m\n\u001b[1;32m     75\u001b[0m     \u001b[0mkwargs\u001b[0m\u001b[0;34m.\u001b[0m\u001b[0msetdefault\u001b[0m\u001b[0;34m(\u001b[0m\u001b[0;34m'allow_redirects'\u001b[0m\u001b[0;34m,\u001b[0m \u001b[0;32mTrue\u001b[0m\u001b[0;34m)\u001b[0m\u001b[0;34m\u001b[0m\u001b[0;34m\u001b[0m\u001b[0m\n\u001b[0;32m---> 76\u001b[0;31m     \u001b[0;32mreturn\u001b[0m \u001b[0mrequest\u001b[0m\u001b[0;34m(\u001b[0m\u001b[0;34m'get'\u001b[0m\u001b[0;34m,\u001b[0m \u001b[0murl\u001b[0m\u001b[0;34m,\u001b[0m \u001b[0mparams\u001b[0m\u001b[0;34m=\u001b[0m\u001b[0mparams\u001b[0m\u001b[0;34m,\u001b[0m \u001b[0;34m**\u001b[0m\u001b[0mkwargs\u001b[0m\u001b[0;34m)\u001b[0m\u001b[0;34m\u001b[0m\u001b[0;34m\u001b[0m\u001b[0m\n\u001b[0m\u001b[1;32m     77\u001b[0m \u001b[0;34m\u001b[0m\u001b[0m\n\u001b[1;32m     78\u001b[0m \u001b[0;34m\u001b[0m\u001b[0m\n",
      "\u001b[0;32m/opt/miniconda3/lib/python3.9/site-packages/requests/api.py\u001b[0m in \u001b[0;36mrequest\u001b[0;34m(method, url, **kwargs)\u001b[0m\n\u001b[1;32m     59\u001b[0m     \u001b[0;31m# cases, and look like a memory leak in others.\u001b[0m\u001b[0;34m\u001b[0m\u001b[0;34m\u001b[0m\u001b[0;34m\u001b[0m\u001b[0m\n\u001b[1;32m     60\u001b[0m     \u001b[0;32mwith\u001b[0m \u001b[0msessions\u001b[0m\u001b[0;34m.\u001b[0m\u001b[0mSession\u001b[0m\u001b[0;34m(\u001b[0m\u001b[0;34m)\u001b[0m \u001b[0;32mas\u001b[0m \u001b[0msession\u001b[0m\u001b[0;34m:\u001b[0m\u001b[0;34m\u001b[0m\u001b[0;34m\u001b[0m\u001b[0m\n\u001b[0;32m---> 61\u001b[0;31m         \u001b[0;32mreturn\u001b[0m \u001b[0msession\u001b[0m\u001b[0;34m.\u001b[0m\u001b[0mrequest\u001b[0m\u001b[0;34m(\u001b[0m\u001b[0mmethod\u001b[0m\u001b[0;34m=\u001b[0m\u001b[0mmethod\u001b[0m\u001b[0;34m,\u001b[0m \u001b[0murl\u001b[0m\u001b[0;34m=\u001b[0m\u001b[0murl\u001b[0m\u001b[0;34m,\u001b[0m \u001b[0;34m**\u001b[0m\u001b[0mkwargs\u001b[0m\u001b[0;34m)\u001b[0m\u001b[0;34m\u001b[0m\u001b[0;34m\u001b[0m\u001b[0m\n\u001b[0m\u001b[1;32m     62\u001b[0m \u001b[0;34m\u001b[0m\u001b[0m\n\u001b[1;32m     63\u001b[0m \u001b[0;34m\u001b[0m\u001b[0m\n",
      "\u001b[0;32m/opt/miniconda3/lib/python3.9/site-packages/requests/sessions.py\u001b[0m in \u001b[0;36mrequest\u001b[0;34m(self, method, url, params, data, headers, cookies, files, auth, timeout, allow_redirects, proxies, hooks, stream, verify, cert, json)\u001b[0m\n\u001b[1;32m    540\u001b[0m         }\n\u001b[1;32m    541\u001b[0m         \u001b[0msend_kwargs\u001b[0m\u001b[0;34m.\u001b[0m\u001b[0mupdate\u001b[0m\u001b[0;34m(\u001b[0m\u001b[0msettings\u001b[0m\u001b[0;34m)\u001b[0m\u001b[0;34m\u001b[0m\u001b[0;34m\u001b[0m\u001b[0m\n\u001b[0;32m--> 542\u001b[0;31m         \u001b[0mresp\u001b[0m \u001b[0;34m=\u001b[0m \u001b[0mself\u001b[0m\u001b[0;34m.\u001b[0m\u001b[0msend\u001b[0m\u001b[0;34m(\u001b[0m\u001b[0mprep\u001b[0m\u001b[0;34m,\u001b[0m \u001b[0;34m**\u001b[0m\u001b[0msend_kwargs\u001b[0m\u001b[0;34m)\u001b[0m\u001b[0;34m\u001b[0m\u001b[0;34m\u001b[0m\u001b[0m\n\u001b[0m\u001b[1;32m    543\u001b[0m \u001b[0;34m\u001b[0m\u001b[0m\n\u001b[1;32m    544\u001b[0m         \u001b[0;32mreturn\u001b[0m \u001b[0mresp\u001b[0m\u001b[0;34m\u001b[0m\u001b[0;34m\u001b[0m\u001b[0m\n",
      "\u001b[0;32m/opt/miniconda3/lib/python3.9/site-packages/requests/sessions.py\u001b[0m in \u001b[0;36msend\u001b[0;34m(self, request, **kwargs)\u001b[0m\n\u001b[1;32m    653\u001b[0m \u001b[0;34m\u001b[0m\u001b[0m\n\u001b[1;32m    654\u001b[0m         \u001b[0;31m# Send the request\u001b[0m\u001b[0;34m\u001b[0m\u001b[0;34m\u001b[0m\u001b[0;34m\u001b[0m\u001b[0m\n\u001b[0;32m--> 655\u001b[0;31m         \u001b[0mr\u001b[0m \u001b[0;34m=\u001b[0m \u001b[0madapter\u001b[0m\u001b[0;34m.\u001b[0m\u001b[0msend\u001b[0m\u001b[0;34m(\u001b[0m\u001b[0mrequest\u001b[0m\u001b[0;34m,\u001b[0m \u001b[0;34m**\u001b[0m\u001b[0mkwargs\u001b[0m\u001b[0;34m)\u001b[0m\u001b[0;34m\u001b[0m\u001b[0;34m\u001b[0m\u001b[0m\n\u001b[0m\u001b[1;32m    656\u001b[0m \u001b[0;34m\u001b[0m\u001b[0m\n\u001b[1;32m    657\u001b[0m         \u001b[0;31m# Total elapsed time of the request (approximately)\u001b[0m\u001b[0;34m\u001b[0m\u001b[0;34m\u001b[0m\u001b[0;34m\u001b[0m\u001b[0m\n",
      "\u001b[0;32m/opt/miniconda3/lib/python3.9/site-packages/requests/adapters.py\u001b[0m in \u001b[0;36msend\u001b[0;34m(self, request, stream, timeout, verify, cert, proxies)\u001b[0m\n\u001b[1;32m    437\u001b[0m         \u001b[0;32mtry\u001b[0m\u001b[0;34m:\u001b[0m\u001b[0;34m\u001b[0m\u001b[0;34m\u001b[0m\u001b[0m\n\u001b[1;32m    438\u001b[0m             \u001b[0;32mif\u001b[0m \u001b[0;32mnot\u001b[0m \u001b[0mchunked\u001b[0m\u001b[0;34m:\u001b[0m\u001b[0;34m\u001b[0m\u001b[0;34m\u001b[0m\u001b[0m\n\u001b[0;32m--> 439\u001b[0;31m                 resp = conn.urlopen(\n\u001b[0m\u001b[1;32m    440\u001b[0m                     \u001b[0mmethod\u001b[0m\u001b[0;34m=\u001b[0m\u001b[0mrequest\u001b[0m\u001b[0;34m.\u001b[0m\u001b[0mmethod\u001b[0m\u001b[0;34m,\u001b[0m\u001b[0;34m\u001b[0m\u001b[0;34m\u001b[0m\u001b[0m\n\u001b[1;32m    441\u001b[0m                     \u001b[0murl\u001b[0m\u001b[0;34m=\u001b[0m\u001b[0murl\u001b[0m\u001b[0;34m,\u001b[0m\u001b[0;34m\u001b[0m\u001b[0;34m\u001b[0m\u001b[0m\n",
      "\u001b[0;32m/opt/miniconda3/lib/python3.9/site-packages/urllib3/connectionpool.py\u001b[0m in \u001b[0;36murlopen\u001b[0;34m(self, method, url, body, headers, retries, redirect, assert_same_host, timeout, pool_timeout, release_conn, chunked, body_pos, **response_kw)\u001b[0m\n\u001b[1;32m    697\u001b[0m \u001b[0;34m\u001b[0m\u001b[0m\n\u001b[1;32m    698\u001b[0m             \u001b[0;31m# Make the request on the httplib connection object.\u001b[0m\u001b[0;34m\u001b[0m\u001b[0;34m\u001b[0m\u001b[0;34m\u001b[0m\u001b[0m\n\u001b[0;32m--> 699\u001b[0;31m             httplib_response = self._make_request(\n\u001b[0m\u001b[1;32m    700\u001b[0m                 \u001b[0mconn\u001b[0m\u001b[0;34m,\u001b[0m\u001b[0;34m\u001b[0m\u001b[0;34m\u001b[0m\u001b[0m\n\u001b[1;32m    701\u001b[0m                 \u001b[0mmethod\u001b[0m\u001b[0;34m,\u001b[0m\u001b[0;34m\u001b[0m\u001b[0;34m\u001b[0m\u001b[0m\n",
      "\u001b[0;32m/opt/miniconda3/lib/python3.9/site-packages/urllib3/connectionpool.py\u001b[0m in \u001b[0;36m_make_request\u001b[0;34m(self, conn, method, url, timeout, chunked, **httplib_request_kw)\u001b[0m\n\u001b[1;32m    443\u001b[0m                     \u001b[0;31m# Python 3 (including for exceptions like SystemExit).\u001b[0m\u001b[0;34m\u001b[0m\u001b[0;34m\u001b[0m\u001b[0;34m\u001b[0m\u001b[0m\n\u001b[1;32m    444\u001b[0m                     \u001b[0;31m# Otherwise it looks like a bug in the code.\u001b[0m\u001b[0;34m\u001b[0m\u001b[0;34m\u001b[0m\u001b[0;34m\u001b[0m\u001b[0m\n\u001b[0;32m--> 445\u001b[0;31m                     \u001b[0msix\u001b[0m\u001b[0;34m.\u001b[0m\u001b[0mraise_from\u001b[0m\u001b[0;34m(\u001b[0m\u001b[0me\u001b[0m\u001b[0;34m,\u001b[0m \u001b[0;32mNone\u001b[0m\u001b[0;34m)\u001b[0m\u001b[0;34m\u001b[0m\u001b[0;34m\u001b[0m\u001b[0m\n\u001b[0m\u001b[1;32m    446\u001b[0m         \u001b[0;32mexcept\u001b[0m \u001b[0;34m(\u001b[0m\u001b[0mSocketTimeout\u001b[0m\u001b[0;34m,\u001b[0m \u001b[0mBaseSSLError\u001b[0m\u001b[0;34m,\u001b[0m \u001b[0mSocketError\u001b[0m\u001b[0;34m)\u001b[0m \u001b[0;32mas\u001b[0m \u001b[0me\u001b[0m\u001b[0;34m:\u001b[0m\u001b[0;34m\u001b[0m\u001b[0;34m\u001b[0m\u001b[0m\n\u001b[1;32m    447\u001b[0m             \u001b[0mself\u001b[0m\u001b[0;34m.\u001b[0m\u001b[0m_raise_timeout\u001b[0m\u001b[0;34m(\u001b[0m\u001b[0merr\u001b[0m\u001b[0;34m=\u001b[0m\u001b[0me\u001b[0m\u001b[0;34m,\u001b[0m \u001b[0murl\u001b[0m\u001b[0;34m=\u001b[0m\u001b[0murl\u001b[0m\u001b[0;34m,\u001b[0m \u001b[0mtimeout_value\u001b[0m\u001b[0;34m=\u001b[0m\u001b[0mread_timeout\u001b[0m\u001b[0;34m)\u001b[0m\u001b[0;34m\u001b[0m\u001b[0;34m\u001b[0m\u001b[0m\n",
      "\u001b[0;32m/opt/miniconda3/lib/python3.9/site-packages/urllib3/packages/six.py\u001b[0m in \u001b[0;36mraise_from\u001b[0;34m(value, from_value)\u001b[0m\n",
      "\u001b[0;32m/opt/miniconda3/lib/python3.9/site-packages/urllib3/connectionpool.py\u001b[0m in \u001b[0;36m_make_request\u001b[0;34m(self, conn, method, url, timeout, chunked, **httplib_request_kw)\u001b[0m\n\u001b[1;32m    438\u001b[0m                 \u001b[0;31m# Python 3\u001b[0m\u001b[0;34m\u001b[0m\u001b[0;34m\u001b[0m\u001b[0;34m\u001b[0m\u001b[0m\n\u001b[1;32m    439\u001b[0m                 \u001b[0;32mtry\u001b[0m\u001b[0;34m:\u001b[0m\u001b[0;34m\u001b[0m\u001b[0;34m\u001b[0m\u001b[0m\n\u001b[0;32m--> 440\u001b[0;31m                     \u001b[0mhttplib_response\u001b[0m \u001b[0;34m=\u001b[0m \u001b[0mconn\u001b[0m\u001b[0;34m.\u001b[0m\u001b[0mgetresponse\u001b[0m\u001b[0;34m(\u001b[0m\u001b[0;34m)\u001b[0m\u001b[0;34m\u001b[0m\u001b[0;34m\u001b[0m\u001b[0m\n\u001b[0m\u001b[1;32m    441\u001b[0m                 \u001b[0;32mexcept\u001b[0m \u001b[0mBaseException\u001b[0m \u001b[0;32mas\u001b[0m \u001b[0me\u001b[0m\u001b[0;34m:\u001b[0m\u001b[0;34m\u001b[0m\u001b[0;34m\u001b[0m\u001b[0m\n\u001b[1;32m    442\u001b[0m                     \u001b[0;31m# Remove the TypeError from the exception chain in\u001b[0m\u001b[0;34m\u001b[0m\u001b[0;34m\u001b[0m\u001b[0;34m\u001b[0m\u001b[0m\n",
      "\u001b[0;32m/opt/miniconda3/lib/python3.9/http/client.py\u001b[0m in \u001b[0;36mgetresponse\u001b[0;34m(self)\u001b[0m\n\u001b[1;32m   1343\u001b[0m         \u001b[0;32mtry\u001b[0m\u001b[0;34m:\u001b[0m\u001b[0;34m\u001b[0m\u001b[0;34m\u001b[0m\u001b[0m\n\u001b[1;32m   1344\u001b[0m             \u001b[0;32mtry\u001b[0m\u001b[0;34m:\u001b[0m\u001b[0;34m\u001b[0m\u001b[0;34m\u001b[0m\u001b[0m\n\u001b[0;32m-> 1345\u001b[0;31m                 \u001b[0mresponse\u001b[0m\u001b[0;34m.\u001b[0m\u001b[0mbegin\u001b[0m\u001b[0;34m(\u001b[0m\u001b[0;34m)\u001b[0m\u001b[0;34m\u001b[0m\u001b[0;34m\u001b[0m\u001b[0m\n\u001b[0m\u001b[1;32m   1346\u001b[0m             \u001b[0;32mexcept\u001b[0m \u001b[0mConnectionError\u001b[0m\u001b[0;34m:\u001b[0m\u001b[0;34m\u001b[0m\u001b[0;34m\u001b[0m\u001b[0m\n\u001b[1;32m   1347\u001b[0m                 \u001b[0mself\u001b[0m\u001b[0;34m.\u001b[0m\u001b[0mclose\u001b[0m\u001b[0;34m(\u001b[0m\u001b[0;34m)\u001b[0m\u001b[0;34m\u001b[0m\u001b[0;34m\u001b[0m\u001b[0m\n",
      "\u001b[0;32m/opt/miniconda3/lib/python3.9/http/client.py\u001b[0m in \u001b[0;36mbegin\u001b[0;34m(self)\u001b[0m\n\u001b[1;32m    305\u001b[0m         \u001b[0;31m# read until we get a non-100 response\u001b[0m\u001b[0;34m\u001b[0m\u001b[0;34m\u001b[0m\u001b[0;34m\u001b[0m\u001b[0m\n\u001b[1;32m    306\u001b[0m         \u001b[0;32mwhile\u001b[0m \u001b[0;32mTrue\u001b[0m\u001b[0;34m:\u001b[0m\u001b[0;34m\u001b[0m\u001b[0;34m\u001b[0m\u001b[0m\n\u001b[0;32m--> 307\u001b[0;31m             \u001b[0mversion\u001b[0m\u001b[0;34m,\u001b[0m \u001b[0mstatus\u001b[0m\u001b[0;34m,\u001b[0m \u001b[0mreason\u001b[0m \u001b[0;34m=\u001b[0m \u001b[0mself\u001b[0m\u001b[0;34m.\u001b[0m\u001b[0m_read_status\u001b[0m\u001b[0;34m(\u001b[0m\u001b[0;34m)\u001b[0m\u001b[0;34m\u001b[0m\u001b[0;34m\u001b[0m\u001b[0m\n\u001b[0m\u001b[1;32m    308\u001b[0m             \u001b[0;32mif\u001b[0m \u001b[0mstatus\u001b[0m \u001b[0;34m!=\u001b[0m \u001b[0mCONTINUE\u001b[0m\u001b[0;34m:\u001b[0m\u001b[0;34m\u001b[0m\u001b[0;34m\u001b[0m\u001b[0m\n\u001b[1;32m    309\u001b[0m                 \u001b[0;32mbreak\u001b[0m\u001b[0;34m\u001b[0m\u001b[0;34m\u001b[0m\u001b[0m\n",
      "\u001b[0;32m/opt/miniconda3/lib/python3.9/http/client.py\u001b[0m in \u001b[0;36m_read_status\u001b[0;34m(self)\u001b[0m\n\u001b[1;32m    266\u001b[0m \u001b[0;34m\u001b[0m\u001b[0m\n\u001b[1;32m    267\u001b[0m     \u001b[0;32mdef\u001b[0m \u001b[0m_read_status\u001b[0m\u001b[0;34m(\u001b[0m\u001b[0mself\u001b[0m\u001b[0;34m)\u001b[0m\u001b[0;34m:\u001b[0m\u001b[0;34m\u001b[0m\u001b[0;34m\u001b[0m\u001b[0m\n\u001b[0;32m--> 268\u001b[0;31m         \u001b[0mline\u001b[0m \u001b[0;34m=\u001b[0m \u001b[0mstr\u001b[0m\u001b[0;34m(\u001b[0m\u001b[0mself\u001b[0m\u001b[0;34m.\u001b[0m\u001b[0mfp\u001b[0m\u001b[0;34m.\u001b[0m\u001b[0mreadline\u001b[0m\u001b[0;34m(\u001b[0m\u001b[0m_MAXLINE\u001b[0m \u001b[0;34m+\u001b[0m \u001b[0;36m1\u001b[0m\u001b[0;34m)\u001b[0m\u001b[0;34m,\u001b[0m \u001b[0;34m\"iso-8859-1\"\u001b[0m\u001b[0;34m)\u001b[0m\u001b[0;34m\u001b[0m\u001b[0;34m\u001b[0m\u001b[0m\n\u001b[0m\u001b[1;32m    269\u001b[0m         \u001b[0;32mif\u001b[0m \u001b[0mlen\u001b[0m\u001b[0;34m(\u001b[0m\u001b[0mline\u001b[0m\u001b[0;34m)\u001b[0m \u001b[0;34m>\u001b[0m \u001b[0m_MAXLINE\u001b[0m\u001b[0;34m:\u001b[0m\u001b[0;34m\u001b[0m\u001b[0;34m\u001b[0m\u001b[0m\n\u001b[1;32m    270\u001b[0m             \u001b[0;32mraise\u001b[0m \u001b[0mLineTooLong\u001b[0m\u001b[0;34m(\u001b[0m\u001b[0;34m\"status line\"\u001b[0m\u001b[0;34m)\u001b[0m\u001b[0;34m\u001b[0m\u001b[0;34m\u001b[0m\u001b[0m\n",
      "\u001b[0;32m/opt/miniconda3/lib/python3.9/socket.py\u001b[0m in \u001b[0;36mreadinto\u001b[0;34m(self, b)\u001b[0m\n\u001b[1;32m    702\u001b[0m         \u001b[0;32mwhile\u001b[0m \u001b[0;32mTrue\u001b[0m\u001b[0;34m:\u001b[0m\u001b[0;34m\u001b[0m\u001b[0;34m\u001b[0m\u001b[0m\n\u001b[1;32m    703\u001b[0m             \u001b[0;32mtry\u001b[0m\u001b[0;34m:\u001b[0m\u001b[0;34m\u001b[0m\u001b[0;34m\u001b[0m\u001b[0m\n\u001b[0;32m--> 704\u001b[0;31m                 \u001b[0;32mreturn\u001b[0m \u001b[0mself\u001b[0m\u001b[0;34m.\u001b[0m\u001b[0m_sock\u001b[0m\u001b[0;34m.\u001b[0m\u001b[0mrecv_into\u001b[0m\u001b[0;34m(\u001b[0m\u001b[0mb\u001b[0m\u001b[0;34m)\u001b[0m\u001b[0;34m\u001b[0m\u001b[0;34m\u001b[0m\u001b[0m\n\u001b[0m\u001b[1;32m    705\u001b[0m             \u001b[0;32mexcept\u001b[0m \u001b[0mtimeout\u001b[0m\u001b[0;34m:\u001b[0m\u001b[0;34m\u001b[0m\u001b[0;34m\u001b[0m\u001b[0m\n\u001b[1;32m    706\u001b[0m                 \u001b[0mself\u001b[0m\u001b[0;34m.\u001b[0m\u001b[0m_timeout_occurred\u001b[0m \u001b[0;34m=\u001b[0m \u001b[0;32mTrue\u001b[0m\u001b[0;34m\u001b[0m\u001b[0;34m\u001b[0m\u001b[0m\n",
      "\u001b[0;32m/opt/miniconda3/lib/python3.9/ssl.py\u001b[0m in \u001b[0;36mrecv_into\u001b[0;34m(self, buffer, nbytes, flags)\u001b[0m\n\u001b[1;32m   1239\u001b[0m                   \u001b[0;34m\"non-zero flags not allowed in calls to recv_into() on %s\"\u001b[0m \u001b[0;34m%\u001b[0m\u001b[0;34m\u001b[0m\u001b[0;34m\u001b[0m\u001b[0m\n\u001b[1;32m   1240\u001b[0m                   self.__class__)\n\u001b[0;32m-> 1241\u001b[0;31m             \u001b[0;32mreturn\u001b[0m \u001b[0mself\u001b[0m\u001b[0;34m.\u001b[0m\u001b[0mread\u001b[0m\u001b[0;34m(\u001b[0m\u001b[0mnbytes\u001b[0m\u001b[0;34m,\u001b[0m \u001b[0mbuffer\u001b[0m\u001b[0;34m)\u001b[0m\u001b[0;34m\u001b[0m\u001b[0;34m\u001b[0m\u001b[0m\n\u001b[0m\u001b[1;32m   1242\u001b[0m         \u001b[0;32melse\u001b[0m\u001b[0;34m:\u001b[0m\u001b[0;34m\u001b[0m\u001b[0;34m\u001b[0m\u001b[0m\n\u001b[1;32m   1243\u001b[0m             \u001b[0;32mreturn\u001b[0m \u001b[0msuper\u001b[0m\u001b[0;34m(\u001b[0m\u001b[0;34m)\u001b[0m\u001b[0;34m.\u001b[0m\u001b[0mrecv_into\u001b[0m\u001b[0;34m(\u001b[0m\u001b[0mbuffer\u001b[0m\u001b[0;34m,\u001b[0m \u001b[0mnbytes\u001b[0m\u001b[0;34m,\u001b[0m \u001b[0mflags\u001b[0m\u001b[0;34m)\u001b[0m\u001b[0;34m\u001b[0m\u001b[0;34m\u001b[0m\u001b[0m\n",
      "\u001b[0;32m/opt/miniconda3/lib/python3.9/ssl.py\u001b[0m in \u001b[0;36mread\u001b[0;34m(self, len, buffer)\u001b[0m\n\u001b[1;32m   1097\u001b[0m         \u001b[0;32mtry\u001b[0m\u001b[0;34m:\u001b[0m\u001b[0;34m\u001b[0m\u001b[0;34m\u001b[0m\u001b[0m\n\u001b[1;32m   1098\u001b[0m             \u001b[0;32mif\u001b[0m \u001b[0mbuffer\u001b[0m \u001b[0;32mis\u001b[0m \u001b[0;32mnot\u001b[0m \u001b[0;32mNone\u001b[0m\u001b[0;34m:\u001b[0m\u001b[0;34m\u001b[0m\u001b[0;34m\u001b[0m\u001b[0m\n\u001b[0;32m-> 1099\u001b[0;31m                 \u001b[0;32mreturn\u001b[0m \u001b[0mself\u001b[0m\u001b[0;34m.\u001b[0m\u001b[0m_sslobj\u001b[0m\u001b[0;34m.\u001b[0m\u001b[0mread\u001b[0m\u001b[0;34m(\u001b[0m\u001b[0mlen\u001b[0m\u001b[0;34m,\u001b[0m \u001b[0mbuffer\u001b[0m\u001b[0;34m)\u001b[0m\u001b[0;34m\u001b[0m\u001b[0;34m\u001b[0m\u001b[0m\n\u001b[0m\u001b[1;32m   1100\u001b[0m             \u001b[0;32melse\u001b[0m\u001b[0;34m:\u001b[0m\u001b[0;34m\u001b[0m\u001b[0;34m\u001b[0m\u001b[0m\n\u001b[1;32m   1101\u001b[0m                 \u001b[0;32mreturn\u001b[0m \u001b[0mself\u001b[0m\u001b[0;34m.\u001b[0m\u001b[0m_sslobj\u001b[0m\u001b[0;34m.\u001b[0m\u001b[0mread\u001b[0m\u001b[0;34m(\u001b[0m\u001b[0mlen\u001b[0m\u001b[0;34m)\u001b[0m\u001b[0;34m\u001b[0m\u001b[0;34m\u001b[0m\u001b[0m\n",
      "\u001b[0;31mKeyboardInterrupt\u001b[0m: "
     ]
    }
   ],
   "source": [
    "i=63\n",
    "getAllStreamStats(i)"
   ]
  },
  {
   "cell_type": "code",
   "execution_count": 26,
   "id": "4187d893-8087-4848-b43b-031899b01beb",
   "metadata": {},
   "outputs": [
    {
     "name": "stdout",
     "output_type": "stream",
     "text": [
      "Step 1 - Get the watershed\n",
      "Delineating basin...\n",
      "Step 2 - Get the Regression Regions associated with the watershed\n",
      "Step 3 - Get the Scenarios associated with the Regression Regions\n",
      "Step 4 - Compute the basin characteristics\n",
      "Step 5 - Compute Flow Statistics\n"
     ]
    }
   ],
   "source": [
    "## Define gage location\n",
    "y_loc = dat[\"dec_lat_va\"][i]\n",
    "x_loc = dat[\"dec_long_va\"][i]\n",
    "state = 'OR'\n",
    "gage = dat[\"gage\"][i]\n",
    "\n",
    "\n",
    "## Define Streamstats API URLS\n",
    "# Service URLS\n",
    "StreamStatsServiceURLS = {\n",
    "    'watershed': 'https://streamstats.usgs.gov/streamstatsservices/watershed.geojson',\n",
    "    'basinCharacteristics': 'https://streamstats.usgs.gov/streamstatsservices/parameters.json',\n",
    "    'gage': 'https://streamstats.usgs.gov/gagestatsservices/stations'\n",
    "    }\n",
    "NSSServiceURlS = {\n",
    "    'regressionRegions': 'https://streamstats.usgs.gov/nssservices/regressionregions/bylocation',\n",
    "    'scenarios': 'https://streamstats.usgs.gov/nssservices/scenarios',\n",
    "    'computeFlowStats': 'https://streamstats.usgs.gov/nssservices/scenarios/Estimate'\n",
    "}\n",
    "\n",
    "# Declare cookies for use of consistent StreamStats servers\n",
    "global cookies \n",
    "\n",
    "# Step 1 - Get the watershed\n",
    "print('Step 1 - Get the watershed')\n",
    "watershedURLParams = {\n",
    "    'rcode': state, \n",
    "    'xlocation': x_loc, \n",
    "    'ylocation': y_loc,\n",
    "    'crs': 4326,\n",
    "#     'crs': 4269,\n",
    "}\n",
    "delineatedBasin = None\n",
    "while delineatedBasin is None: # Sometimes the watershed endpoint returns with no geometry - this loop is written to keep trying until a geometry is returned\n",
    "    print('Delineating basin...')\n",
    "    basinDelineationResponse = requests.get(url = StreamStatsServiceURLS['watershed'], params = watershedURLParams)\n",
    "    if basinDelineationResponse.status_code == 200:\n",
    "        cookies = basinDelineationResponse.cookies\n",
    "        try:\n",
    "            delineatedBasin = json.loads(basinDelineationResponse.content.decode('utf-8'))[\"featurecollection\"][1][\"feature\"][\"features\"][0][\"geometry\"] # this will be used in step 2\n",
    "            workspaceID = json.loads(basinDelineationResponse.content.decode('utf-8'))[\"workspaceID\"] # this will be used in step 4\n",
    "        except:\n",
    "            print(\"No geometry returned. Retrying...\")\n",
    "    else:\n",
    "        print(\"Error. Retrying...\")\n",
    "\n",
    "# Step 2 - Get the Regression Regions associated with the watershed\n",
    "print('Step 2 - Get the Regression Regions associated with the watershed')\n",
    "regressionRegionPOSTBody = delineatedBasin # from step 1\n",
    "\n",
    "regressionRegions = None\n",
    "while regressionRegions == None:\n",
    "    regressionRegionsResponse = requests.post(url = NSSServiceURlS['regressionRegions'], json=regressionRegionPOSTBody)\n",
    "    if regressionRegionsResponse.status_code == 200:\n",
    "        regressionRegions = json.loads(regressionRegionsResponse.content.decode('utf-8'))\n",
    "        regressionRegionCodes = [ sub['code'] for sub in regressionRegions ] # this will be used in step 3\n",
    "    else:\n",
    "        print(\"Error.\")\n",
    "        pass\n",
    "\n",
    "# Step 3 - Get the Scenarios associated with the Regression Regions\n",
    "print('Step 3 - Get the Scenarios associated with the Regression Regions')\n",
    "\n",
    "scenarioURLParams = {\n",
    "    'regions': state, \n",
    "    'statisticgroups': 4, # this can be updated depending on which flow statistics you want to calculate (2 is associated with Peak Flow Statistics) - you can find all statistic groups available for your region at https://streamstats.usgs.gov/docs/nssservices/#/StatisticGroups/GET/StatisticGroups\n",
    "    'regressionregions': (','.join(regressionRegionCodes)) # from step 2, needs to be comma separated list\n",
    "}\n",
    "scenarioResponse = requests.get(url = NSSServiceURlS['scenarios'], params=scenarioURLParams)\n",
    "\n",
    "parameters = None\n",
    "while parameters == None:\n",
    "    if scenarioResponse.status_code == 200:\n",
    "        scenarios = json.loads(scenarioResponse.content.decode('utf-8'))[0] # this will be used in step 5\n",
    "        parameters = json.loads(scenarioResponse.content.decode('utf-8'))[0][\"regressionRegions\"][0][\"parameters\"]\n",
    "        parameterCodes = [ sub['code'] for sub in parameters ] # this will be used in step 4\n",
    "    else:\n",
    "        print(\"Error.\")\n",
    "        pass\n",
    "\n",
    "# Step 4 - Compute the basin characteristics\n",
    "print('Step 4 - Compute the basin characteristics')\n",
    "basinCharacteristicsURLParams = {\n",
    "    'rcode': state, \n",
    "    'workspaceID': workspaceID, # from step 1\n",
    "    'includeparameters': (','.join(parameterCodes)) # from step 3\n",
    "}\n",
    "\n",
    "basinCharacteristics = None\n",
    "while basinCharacteristics is None:\n",
    "    basinCharacteristicsResponse = requests.get(url = StreamStatsServiceURLS['basinCharacteristics'], params=basinCharacteristicsURLParams, cookies=cookies)\n",
    "    if basinCharacteristicsResponse.status_code == 200:\n",
    "        basinCharacteristics = json.loads(basinCharacteristicsResponse.content.decode('utf-8')) # this will be used in step 5\n",
    "    else:\n",
    "        print(\"Error.\")\n",
    "        pass\n",
    "\n",
    "# Step 5 - Compute Flow Statistics\n",
    "print('Step 5 - Compute Flow Statistics')\n",
    "flowStatsURLParams = {\n",
    "    'regions': state\n",
    "}\n",
    "flowStatsPOSTBody = [] \n",
    "for counter, x in enumerate(scenarios['regressionRegions'][0]['parameters']): # from step 3 & step 4\n",
    "    for p in basinCharacteristics['parameters']:\n",
    "        if x['code'].lower() == p['code'].lower():\n",
    "            scenarios['regressionRegions'][0]['parameters'][counter]['value'] = p['value']\n",
    "flowStatsPOSTBody.append(scenarios)\n",
    "\n",
    "flowStats = None\n",
    "while flowStats == None:\n",
    "    flowStatsResponse = requests.post(url = NSSServiceURlS['computeFlowStats'], params = flowStatsURLParams, json=flowStatsPOSTBody)\n",
    "    if flowStatsResponse.status_code == 200:\n",
    "        flowStats = json.loads(flowStatsResponse.content.decode('utf-8'))\n",
    "    else:\n",
    "        print(\"Error.\")\n",
    "        pass\n",
    "\n",
    "out = pd.json_normalize(flowStats,\n",
    "                         record_path=['regressionRegions',['results']],\n",
    "                        )[[\"code\",\"value\"]]\n",
    "out[\"gage\"] = gage"
   ]
  },
  {
   "cell_type": "code",
   "execution_count": 36,
   "id": "faf01106-2c60-4c9b-83bd-b72eef4a0431",
   "metadata": {},
   "outputs": [
    {
     "data": {
      "text/plain": [
       "{'regions': 'OR',\n",
       " 'statisticgroups': 4,\n",
       " 'regressionregions': 'GC1290,GC1410,GC729,GC1340,GC1825,GC1330,GC1855,GC1400,GC1390,GC1320,GC1370,GC1300,GC1380,GC1360,GC1350,GC1310,GC730,GC731,GC1826,GC1910,GC1828'}"
      ]
     },
     "execution_count": 36,
     "metadata": {},
     "output_type": "execute_result"
    }
   ],
   "source": [
    "scenarioURLParams"
   ]
  },
  {
   "cell_type": "code",
   "execution_count": 34,
   "id": "6ac62390-ada2-4d9b-b5c5-e792efc145b3",
   "metadata": {},
   "outputs": [
    {
     "data": {
      "text/plain": [
       "-0.9088983808327197"
      ]
     },
     "execution_count": 34,
     "metadata": {},
     "output_type": "execute_result"
    }
   ],
   "source": [
    "DRNAREA = 0.66\n",
    "MINTEMP = 41\n",
    "1.10745*(10**11.5732)*(DRNAREA**0.9144)*((MINTEMP-20)**(-9.4485))-1"
   ]
  },
  {
   "cell_type": "code",
   "execution_count": 3,
   "id": "6f2c650a-897a-42a3-bc8b-90f0320a24c1",
   "metadata": {
    "tags": []
   },
   "outputs": [
    {
     "name": "stderr",
     "output_type": "stream",
     "text": [
      "  0%|                                                     | 0/5 [00:00<?, ?it/s]"
     ]
    },
    {
     "name": "stdout",
     "output_type": "stream",
     "text": [
      "Step 1 - Get the watershed\n",
      "Delineating basin...\n",
      "No geometry returned. Retrying...\n",
      "Delineating basin...\n",
      "Step 2 - Get the Regression Regions associated with the watershed\n",
      "Step 3 - Get the Scenarios associated with the Regression Regions\n",
      "Step 4 - Compute the basin characteristics\n",
      "Step 5 - Compute Flow Statistics\n"
     ]
    },
    {
     "name": "stderr",
     "output_type": "stream",
     "text": [
      " 20%|████████▊                                   | 1/5 [02:52<11:29, 172.32s/it]"
     ]
    },
    {
     "name": "stdout",
     "output_type": "stream",
     "text": [
      "Step 1 - Get the watershed\n",
      "Delineating basin...\n",
      "Step 2 - Get the Regression Regions associated with the watershed\n",
      "Step 3 - Get the Scenarios associated with the Regression Regions\n",
      "Step 4 - Compute the basin characteristics\n",
      "Step 5 - Compute Flow Statistics\n"
     ]
    },
    {
     "name": "stderr",
     "output_type": "stream",
     "text": [
      " 40%|█████████████████▌                          | 2/5 [04:23<06:13, 124.64s/it]"
     ]
    },
    {
     "name": "stdout",
     "output_type": "stream",
     "text": [
      "Step 1 - Get the watershed\n",
      "Delineating basin...\n",
      "Step 2 - Get the Regression Regions associated with the watershed\n",
      "Step 3 - Get the Scenarios associated with the Regression Regions\n",
      "Step 4 - Compute the basin characteristics\n",
      "Step 5 - Compute Flow Statistics\n"
     ]
    },
    {
     "name": "stderr",
     "output_type": "stream",
     "text": [
      " 60%|██████████████████████████▍                 | 3/5 [05:50<03:34, 107.37s/it]"
     ]
    },
    {
     "name": "stdout",
     "output_type": "stream",
     "text": [
      "Step 1 - Get the watershed\n",
      "Delineating basin...\n",
      "Step 2 - Get the Regression Regions associated with the watershed\n",
      "Step 3 - Get the Scenarios associated with the Regression Regions\n",
      "Step 4 - Compute the basin characteristics\n",
      "Step 5 - Compute Flow Statistics\n"
     ]
    },
    {
     "name": "stderr",
     "output_type": "stream",
     "text": [
      " 80%|████████████████████████████████████         | 4/5 [07:08<01:35, 95.89s/it]"
     ]
    },
    {
     "name": "stdout",
     "output_type": "stream",
     "text": [
      "Step 1 - Get the watershed\n",
      "Delineating basin...\n",
      "Step 2 - Get the Regression Regions associated with the watershed\n",
      "Step 3 - Get the Scenarios associated with the Regression Regions\n",
      "Step 4 - Compute the basin characteristics\n",
      "Step 5 - Compute Flow Statistics\n"
     ]
    },
    {
     "name": "stderr",
     "output_type": "stream",
     "text": [
      "100%|████████████████████████████████████████████| 5/5 [08:43<00:00, 104.69s/it]\n"
     ]
    }
   ],
   "source": [
    "# dat = pd.read_csv(\"../data/pnwNP_StatsLocations.csv\")\n",
    "\n",
    "# from tqdm import tqdm\n",
    "# # for i in tqdm(range(len(pnwNP)+1)):\n",
    "# for i in tqdm(range(5)):\n",
    "#     try:\n",
    "#         out = getAllStreamStats(i)\n",
    "        \n",
    "#     except:\n",
    "#         pass"
   ]
  }
 ],
 "metadata": {
  "kernelspec": {
   "display_name": "Python 3",
   "language": "python",
   "name": "python3"
  },
  "language_info": {
   "codemirror_mode": {
    "name": "ipython",
    "version": 3
   },
   "file_extension": ".py",
   "mimetype": "text/x-python",
   "name": "python",
   "nbconvert_exporter": "python",
   "pygments_lexer": "ipython3",
   "version": "3.9.5"
  }
 },
 "nbformat": 4,
 "nbformat_minor": 5
}
