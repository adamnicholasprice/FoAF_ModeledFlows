{
 "cells": [
  {
   "cell_type": "code",
   "execution_count": 1,
   "id": "18cb495d-f210-41ea-9407-f31750f333c5",
   "metadata": {},
   "outputs": [],
   "source": [
    "import pandas as pd\n",
    "import requests\n",
    "import json"
   ]
  },
  {
   "cell_type": "code",
   "execution_count": 2,
   "id": "6f2c650a-897a-42a3-bc8b-90f0320a24c1",
   "metadata": {},
   "outputs": [],
   "source": [
    "dat = pd.read_csv(\"../data/pnwNP_StatsLocations.csv\")"
   ]
  },
  {
   "cell_type": "code",
   "execution_count": 3,
   "id": "ccf896df-7853-4f49-8e0b-76442ef718bc",
   "metadata": {},
   "outputs": [],
   "source": [
    "i=2"
   ]
  },
  {
   "cell_type": "code",
   "execution_count": 4,
   "id": "04642973-01d7-4428-8efc-6c425424a951",
   "metadata": {},
   "outputs": [
    {
     "data": {
      "text/plain": [
       "10378500"
      ]
     },
     "execution_count": 4,
     "metadata": {},
     "output_type": "execute_result"
    }
   ],
   "source": [
    "y_loc = dat[\"dec_lat_va\"][i]\n",
    "x_loc = dat[\"dec_long_va\"][i]\n",
    "state = 'OR'\n",
    "gage = dat[\"gage\"][i]\n",
    "gage"
   ]
  },
  {
   "cell_type": "code",
   "execution_count": 10,
   "id": "56c91bdb-1710-4a8d-831f-7349b2ce6699",
   "metadata": {},
   "outputs": [],
   "source": [
    "# Service URLS\n",
    "StreamStatsServiceURLS = {\n",
    "    'watershed': 'https://streamstats.usgs.gov/streamstatsservices/watershed.geojson',\n",
    "    'basinCharacteristics': 'https://streamstats.usgs.gov/streamstatsservices/parameters.json',\n",
    "    'gage': 'https://streamstats.usgs.gov/gagestatsservices/stations'\n",
    "    }\n",
    "NSSServiceURlS = {\n",
    "    'regressionRegions': 'https://streamstats.usgs.gov/nssservices/regressionregions/bylocation',\n",
    "    'scenarios': 'https://streamstats.usgs.gov/nssservices/scenarios',\n",
    "    'computeFlowStats': 'https://streamstats.usgs.gov/nssservices/scenarios/Estimate'\n",
    "}\n",
    "\n",
    "# Declare cookies for use of consistent StreamStats servers\n",
    "global cookies "
   ]
  },
  {
   "cell_type": "code",
   "execution_count": 6,
   "id": "19463bcc-d0eb-441d-aa41-a2dca417461b",
   "metadata": {},
   "outputs": [
    {
     "name": "stdout",
     "output_type": "stream",
     "text": [
      "Step 1 - Get the watershed\n",
      "Delineating basin...\n"
     ]
    }
   ],
   "source": [
    "# Step 1 - Get the watershed\n",
    "print('Step 1 - Get the watershed')\n",
    "watershedURLParams = {\n",
    "    'rcode': state, \n",
    "    'xlocation': x_loc, \n",
    "    'ylocation': y_loc,\n",
    "    'crs': 4326,\n",
    "#     'crs': 4269,\n",
    "}\n",
    "delineatedBasin = None\n",
    "while delineatedBasin is None: # Sometimes the watershed endpoint returns with no geometry - this loop is written to keep trying until a geometry is returned\n",
    "    print('Delineating basin...')\n",
    "    basinDelineationResponse = requests.get(url = StreamStatsServiceURLS['watershed'], params = watershedURLParams)\n",
    "    if basinDelineationResponse.status_code == 200:\n",
    "        cookies = basinDelineationResponse.cookies\n",
    "        try:\n",
    "            delineatedBasin = json.loads(basinDelineationResponse.content.decode('utf-8'))[\"featurecollection\"][1][\"feature\"][\"features\"][0][\"geometry\"] # this will be used in step 2\n",
    "            workspaceID = json.loads(basinDelineationResponse.content.decode('utf-8'))[\"workspaceID\"] # this will be used in step 4\n",
    "        except:\n",
    "            print(\"No geometry returned. Retrying...\")\n",
    "    else:\n",
    "        print(\"Error. Retrying...\")"
   ]
  },
  {
   "cell_type": "code",
   "execution_count": 7,
   "id": "b1704faa-56bb-477f-82e0-226323d433b3",
   "metadata": {},
   "outputs": [
    {
     "name": "stdout",
     "output_type": "stream",
     "text": [
      "Step 2 - Get the Regression Regions associated with the watershed\n"
     ]
    }
   ],
   "source": [
    "# Step 2 - Get the Regression Regions associated with the watershed\n",
    "print('Step 2 - Get the Regression Regions associated with the watershed')\n",
    "regressionRegionPOSTBody = delineatedBasin # from step 1\n",
    "\n",
    "regressionRegions = None\n",
    "while regressionRegions == None:\n",
    "    regressionRegionsResponse = requests.post(url = NSSServiceURlS['regressionRegions'], json=regressionRegionPOSTBody)\n",
    "    if regressionRegionsResponse.status_code == 200:\n",
    "        regressionRegions = json.loads(regressionRegionsResponse.content.decode('utf-8'))\n",
    "        regressionRegionCodes = [ sub['code'] for sub in regressionRegions ] # this will be used in step 3\n",
    "    else:\n",
    "        print(\"Error.\")"
   ]
  },
  {
   "cell_type": "code",
   "execution_count": 8,
   "id": "36cce69b-5203-412a-8c16-90df5a761444",
   "metadata": {},
   "outputs": [
    {
     "name": "stdout",
     "output_type": "stream",
     "text": [
      "Step 3 - Get the Scenarios associated with the Regression Regions\n"
     ]
    }
   ],
   "source": [
    "# Step 3 - Get the Scenarios associated with the Regression Regions\n",
    "print('Step 3 - Get the Scenarios associated with the Regression Regions')\n",
    "\n",
    "scenarioURLParams = {\n",
    "    'regions': state, \n",
    "    'statisticgroups': 4, # this can be updated depending on which flow statistics you want to calculate (2 is associated with Peak Flow Statistics) - you can find all statistic groups available for your region at https://streamstats.usgs.gov/docs/nssservices/#/StatisticGroups/GET/StatisticGroups\n",
    "    'regressionregions': (','.join(regressionRegionCodes)) # from step 2, needs to be comma separated list\n",
    "}\n",
    "scenarioResponse = requests.get(url = NSSServiceURlS['scenarios'], params=scenarioURLParams)\n",
    "\n",
    "parameters = None\n",
    "while parameters == None:\n",
    "    if scenarioResponse.status_code == 200:\n",
    "        scenarios = json.loads(scenarioResponse.content.decode('utf-8'))[0] # this will be used in step 5\n",
    "        parameters = json.loads(scenarioResponse.content.decode('utf-8'))[0][\"regressionRegions\"][0][\"parameters\"]\n",
    "        parameterCodes = [ sub['code'] for sub in parameters ] # this will be used in step 4\n",
    "    else:\n",
    "        print(\"Error.\")\n"
   ]
  },
  {
   "cell_type": "code",
   "execution_count": 11,
   "id": "b974af24-64b7-4a08-b14c-298b92f5d47f",
   "metadata": {},
   "outputs": [
    {
     "name": "stdout",
     "output_type": "stream",
     "text": [
      "Step 4 - Compute the basin characteristics\n"
     ]
    }
   ],
   "source": [
    "# Step 4 - Compute the basin characteristics\n",
    "print('Step 4 - Compute the basin characteristics')\n",
    "basinCharacteristicsURLParams = {\n",
    "    'rcode': state, \n",
    "    'workspaceID': workspaceID, # from step 1\n",
    "    'includeparameters': (','.join(parameterCodes)) # from step 3\n",
    "}\n",
    "\n",
    "basinCharacteristics = None\n",
    "while basinCharacteristics is None:\n",
    "    basinCharacteristicsResponse = requests.get(url = StreamStatsServiceURLS['basinCharacteristics'], params=basinCharacteristicsURLParams, cookies=cookies)\n",
    "    if basinCharacteristicsResponse.status_code == 200:\n",
    "        basinCharacteristics = json.loads(basinCharacteristicsResponse.content.decode('utf-8')) # this will be used in step 5\n",
    "    else:\n",
    "        print(\"Error.\")"
   ]
  },
  {
   "cell_type": "code",
   "execution_count": 12,
   "id": "345402d1-9319-4086-9bf8-74f6111e7aa3",
   "metadata": {},
   "outputs": [
    {
     "name": "stdout",
     "output_type": "stream",
     "text": [
      "Step 5 - Compute Flow Statistics\n",
      "[{'statisticGroupID': 4, 'statisticGroupName': 'Low-Flow Statistics', 'regressionRegions': [{'id': 489, 'name': 'LowFlow_Ann_Region08_2008_5126', 'code': 'GC1296', 'description': '', 'statusID': 4, 'citationID': 119, 'parameters': [{'id': 11599, 'name': 'Drainage Area', 'description': 'Area that drains to a point on a stream', 'code': 'DRNAREA', 'unitType': {'id': 35, 'unit': 'square miles', 'abbr': 'mi^2'}, 'value': -999.99, 'limits': {'max': 1591.119, 'min': 18.324}}, {'id': 11600, 'name': 'Mean Annual Precipitation', 'description': 'Mean Annual Precipitation', 'code': 'PRECIP', 'unitType': {'id': 36, 'unit': 'inches', 'abbr': 'in'}, 'value': -999.99, 'limits': {'max': 80.1552, 'min': 13.8701}}], 'results': [{'id': 0, 'name': '7 Day 2 Year Low Flow', 'code': 'M7D2Y', 'description': '7-Day mean low-flow that occurs on average once in 2 years', 'value': -99999.0, 'unit': {'id': 44, 'unit': 'cubic feet per second', 'abbr': 'ft^3/s'}, 'equation': 'max(0,1.53236*(10^(-4.9054)*DRNAREA^1.0929*PRECIP^2.6289-1))'}, {'id': 0, 'name': '7 Day 10 Year Low Flow', 'code': 'M7D10Y', 'description': '7-Day mean low-flow that occurs on average once in 10 years', 'value': -99999.0, 'unit': {'id': 44, 'unit': 'cubic feet per second', 'abbr': 'ft^3/s'}, 'equation': 'max(0,1.58609*(10^(-5.1445)*DRNAREA^1.0707*PRECIP^2.707-1))'}], 'disclaimer': 'One or more of the parameters is outside the suggested range. Estimates were extrapolated with unknown errors. Equation M7D2Y in GC1296 could not be calulated due to undefined basin characteristic. Equation M7D10Y in GC1296 could not be calulated due to undefined basin characteristic. '}], 'links': [{'rel': 'Citations', 'href': 'https://streamstats.usgs.gov/nssservices/citations?regressionregions=489', 'method': 'GET'}]}]\n"
     ]
    }
   ],
   "source": [
    "# Step 5 - Compute Flow Statistics\n",
    "print('Step 5 - Compute Flow Statistics')\n",
    "flowStatsURLParams = {\n",
    "    'regions': state\n",
    "}\n",
    "flowStatsPOSTBody = [] \n",
    "# for counter, x in enumerate(scenarios['regressionRegions'][0]['parameters']): # from step 3 & step 4\n",
    "#     for p in basinCharacteristics['parameters']:\n",
    "#         if x['code'].lower() == p['code'].lower():\n",
    "#             scenarios['regressionRegions'][0]['parameters'][counter]['value'] = p['value']\n",
    "flowStatsPOSTBody.append(scenarios)\n",
    "\n",
    "flowStats = None\n",
    "while flowStats == None:\n",
    "    flowStatsResponse = requests.post(url = NSSServiceURlS['computeFlowStats'], params = flowStatsURLParams, json=flowStatsPOSTBody)\n",
    "    if flowStatsResponse.status_code == 200:\n",
    "        flowStats = json.loads(flowStatsResponse.content.decode('utf-8'))\n",
    "        print(flowStats)\n",
    "    else:\n",
    "        print(\"Error.\")"
   ]
  },
  {
   "cell_type": "code",
   "execution_count": 15,
   "id": "b6fadae4-e267-4244-96e7-db7661c7c202",
   "metadata": {},
   "outputs": [
    {
     "data": {
      "text/plain": [
       "'https://streamstats.usgs.gov/nssservices/scenarios/Estimate?regions=OR'"
      ]
     },
     "execution_count": 15,
     "metadata": {},
     "output_type": "execute_result"
    }
   ],
   "source": [
    "flowStatsResponse.url"
   ]
  },
  {
   "cell_type": "code",
   "execution_count": 16,
   "id": "e4adcf48-930e-42bd-8ba1-6344cfa8c0e3",
   "metadata": {},
   "outputs": [
    {
     "data": {
      "text/plain": [
       "{'regions': 'OR'}"
      ]
     },
     "execution_count": 16,
     "metadata": {},
     "output_type": "execute_result"
    }
   ],
   "source": [
    "flowStatsURLParams"
   ]
  },
  {
   "cell_type": "code",
   "execution_count": 17,
   "id": "cd0f2090-7ed8-42cf-aecc-df0f14335cb6",
   "metadata": {},
   "outputs": [
    {
     "data": {
      "text/plain": [
       "[{'statisticGroupID': 4,\n",
       "  'statisticGroupName': 'Low-Flow Statistics',\n",
       "  'regressionRegions': [{'id': 489,\n",
       "    'name': 'LowFlow_Ann_Region08_2008_5126',\n",
       "    'code': 'GC1296',\n",
       "    'description': '',\n",
       "    'statusID': 4,\n",
       "    'citationID': 119,\n",
       "    'parameters': [{'id': 11599,\n",
       "      'name': 'Drainage Area',\n",
       "      'description': 'Area that drains to a point on a stream',\n",
       "      'code': 'DRNAREA',\n",
       "      'unitType': {'id': 35, 'unit': 'square miles', 'abbr': 'mi^2'},\n",
       "      'value': -999.99,\n",
       "      'limits': {'max': 1591.119, 'min': 18.324}},\n",
       "     {'id': 11600,\n",
       "      'name': 'Mean Annual Precipitation',\n",
       "      'description': 'Mean Annual Precipitation',\n",
       "      'code': 'PRECIP',\n",
       "      'unitType': {'id': 36, 'unit': 'inches', 'abbr': 'in'},\n",
       "      'value': -999.99,\n",
       "      'limits': {'max': 80.1552, 'min': 13.8701}}]}],\n",
       "  'links': [{'rel': 'Citations',\n",
       "    'href': 'https://streamstats.usgs.gov/nssservices/citations?regressionregions=489',\n",
       "    'method': 'GET'}]}]"
      ]
     },
     "execution_count": 17,
     "metadata": {},
     "output_type": "execute_result"
    }
   ],
   "source": [
    "flowStatsPOSTBody"
   ]
  },
  {
   "cell_type": "code",
   "execution_count": null,
   "id": "d6ba970d-2f21-4383-8681-a3747f409911",
   "metadata": {},
   "outputs": [],
   "source": []
  }
 ],
 "metadata": {
  "kernelspec": {
   "display_name": "Python 3",
   "language": "python",
   "name": "python3"
  },
  "language_info": {
   "codemirror_mode": {
    "name": "ipython",
    "version": 3
   },
   "file_extension": ".py",
   "mimetype": "text/x-python",
   "name": "python",
   "nbconvert_exporter": "python",
   "pygments_lexer": "ipython3",
   "version": "3.9.5"
  }
 },
 "nbformat": 4,
 "nbformat_minor": 5
}
