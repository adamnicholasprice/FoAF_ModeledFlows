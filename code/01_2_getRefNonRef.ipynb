{
 "cells": [
  {
   "cell_type": "code",
   "execution_count": 1,
   "id": "c10d9aca-026f-4dc7-bd44-f8abd56a3fbf",
   "metadata": {},
   "outputs": [
    {
     "name": "stderr",
     "output_type": "stream",
     "text": [
      "/opt/miniconda3/lib/python3.9/site-packages/dataretrieval/nadp.py:44: UserWarning: GDAL not installed. Some functions will not work.\n",
      "  warnings.warn('GDAL not installed. Some functions will not work.')\n"
     ]
    }
   ],
   "source": [
    "import pandas as pd\n",
    "import numpy as np\n",
    "import matplotlib.pyplot as plt\n",
    "import matplotlib.colors as pltc\n",
    "import geopandas\n",
    "import dataretrieval.nwis as nwis\n",
    "import contextily as cx\n",
    "from matplotlib.ticker import FormatStrFormatter\n",
    "import matplotlib as mpl\n",
    "mpl.rcParams['pdf.fonttype'] = 42"
   ]
  },
  {
   "cell_type": "code",
   "execution_count": null,
   "id": "7039dc5b-2602-4d08-856e-c9b9c37b8413",
   "metadata": {},
   "outputs": [],
   "source": []
  },
  {
   "cell_type": "code",
   "execution_count": 4,
   "id": "6cc89365-6a57-4c9a-b331-782e0a8524be",
   "metadata": {},
   "outputs": [],
   "source": [
    "npPNW = pd.read_csv('../data/PNW_DryingRegimeGages.csv')"
   ]
  },
  {
   "cell_type": "code",
   "execution_count": 12,
   "id": "1b62f717-e068-4d83-a46c-a5367afa3a1b",
   "metadata": {},
   "outputs": [],
   "source": [
    "classDat = pd.read_csv('../data/mean_annual_no_flow_and_climate_metric_means_for_no_flow_sites_082819_with_info.csv')\n",
    "classDat = classDat[['site', 'CLASS']]\n",
    "classDat.columns = ['gage', 'CLASS']"
   ]
  },
  {
   "cell_type": "code",
   "execution_count": 16,
   "id": "eca57937-d835-4d03-bafb-fee915bb0073",
   "metadata": {},
   "outputs": [],
   "source": [
    "NP = pd.merge(npPNW,classDat,on='gage')"
   ]
  },
  {
   "cell_type": "code",
   "execution_count": 17,
   "id": "88293da0-5621-47ad-b2d5-c4a786f5c819",
   "metadata": {},
   "outputs": [],
   "source": [
    "NP.to_csv('../data/PNW_DryingRegimeGages.csv')"
   ]
  },
  {
   "cell_type": "code",
   "execution_count": null,
   "id": "7e46ff4a-ad19-4c27-808e-d144fa2cca1d",
   "metadata": {},
   "outputs": [],
   "source": []
  }
 ],
 "metadata": {
  "kernelspec": {
   "display_name": "Python 3",
   "language": "python",
   "name": "python3"
  },
  "language_info": {
   "codemirror_mode": {
    "name": "ipython",
    "version": 3
   },
   "file_extension": ".py",
   "mimetype": "text/x-python",
   "name": "python",
   "nbconvert_exporter": "python",
   "pygments_lexer": "ipython3",
   "version": "3.9.5"
  }
 },
 "nbformat": 4,
 "nbformat_minor": 5
}
