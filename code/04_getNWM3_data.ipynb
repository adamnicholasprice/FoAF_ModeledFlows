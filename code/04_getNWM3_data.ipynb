{
 "cells": [
  {
   "cell_type": "code",
   "execution_count": null,
   "id": "db44cc5c-b834-42ad-ad71-6509ac6c8cf4",
   "metadata": {},
   "outputs": [],
   "source": [
    "import pandas as pd\n",
    "import numpy as np\n",
    "import xarray as xr\n",
    "import datetime as dt\n",
    "import s3fs\n",
    "import sys, os, glob,re\n",
    "import multiprocessing as mp\n",
    "import time as time\n",
    "import fsspec\n",
    "import geopandas\n",
    "\n",
    "## Cubic feet to cubic meters conversion factor\n",
    "cfs_2_cms = 0.0283168466"
   ]
  },
  {
   "cell_type": "code",
   "execution_count": null,
   "id": "a178dd34-876d-4131-b13a-43a1830a9fc9",
   "metadata": {},
   "outputs": [],
   "source": [
    "pnwNP = pd.read_csv(\"../data/pnwNPall_InfowStats.csv\")\n",
    "\n",
    "### Pull out sites\n",
    "shp = geopandas.read_file(\"../data/VIC_UW/shapefiles/columbia_seg.shp\")\n",
    "shp = pnwNP.merge(shp,how = 'left',left_on='comid',right_on='POI_ID')"
   ]
  },
  {
   "cell_type": "code",
   "execution_count": null,
   "id": "bddf8a1e-4b0c-449c-bb34-ff095783a5d0",
   "metadata": {},
   "outputs": [],
   "source": [
    "## Open NWM3.0\n",
    "fs = fsspec.filesystem('s3', anon=True)\n",
    "_file = fs.glob('noaa-nwm-retrospective-3-0-pds/CONUS/zarr/chrtout.zarr')\n",
    "\n",
    "ds3 = xr.open_dataset(fs.get_mapper(_file[0]), engine='zarr', backend_kwargs={'consolidated': True})"
   ]
  },
  {
   "cell_type": "code",
   "execution_count": null,
   "id": "19e101d9-9805-4bda-99c9-9d26fb5dd9ca",
   "metadata": {},
   "outputs": [],
   "source": [
    "def getModels(i):\n",
    "    print(shp['gage'][i])\n",
    "\n",
    "    try:\n",
    "        ## ## Get NWM 3.0 data\n",
    "        # slice all data using a specific reach identifier\n",
    "        df = ds3.sel(feature_id=shp['comid'][i]).streamflow.persist() \n",
    "\n",
    "        NWM3 = pd.DataFrame(df.to_pandas()).resample('1d').mean()\n",
    "        \n",
    "        \n",
    "        NWM3['time'] = pd.to_datetime(NWM3.index)\n",
    "        NWM3['time'] = NWM3['time'].dt.tz_localize(None)\n",
    "        NWM3.columns = [\"streamflow_NWM3\",\"time\"]\n",
    "        NWM3 = NWM3.reset_index(drop=True)\n",
    "        \n",
    "        \n",
    "        ## Read in previously constructed streamflow and simulation data\n",
    "        dat = pd.read_csv(\"../data/pnwNP_modeledData/\"+str(shp['gage'][i])+\".csv\")\n",
    "        dat['time'] = pd.to_datetime(dat['time'])\n",
    "\n",
    "        ## Merge NWM3 and data\n",
    "        datMain = pd.merge(dat,NWM3, on='time',how='outer')\n",
    "        \n",
    "        ## Weird rounding going on that writes to CSV so taking care of that here\n",
    "        datMain[\"streamflow_NWIS\"] = np.round(datMain[\"streamflow_NWIS\"],4)\n",
    "\n",
    "        ## Write to new directory\n",
    "        datMain.to_csv('../data/pnwNP_modeledData_NWM3/'+str(shp['gage'][i])+\".csv\")\n",
    "        \n",
    "\n",
    "    except:\n",
    "        print(\"No NWM data\")\n",
    "        pass"
   ]
  },
  {
   "cell_type": "code",
   "execution_count": null,
   "id": "d2d29b22-01b2-4515-9afd-05137db06546",
   "metadata": {
    "tags": []
   },
   "outputs": [],
   "source": [
    "import multiprocess\n",
    "cores = multiprocess.cpu_count()-4"
   ]
  },
  {
   "cell_type": "code",
   "execution_count": null,
   "id": "792c3db7-51f7-45c5-b5ff-a985d424a494",
   "metadata": {
    "tags": []
   },
   "outputs": [],
   "source": [
    "from joblib import Parallel, delayed\n",
    "Parallel(n_jobs=cores)(delayed(getModels)(i) for i in range(18, len(shp)))"
   ]
  },
  {
   "cell_type": "code",
   "execution_count": null,
   "id": "8a858554-ccef-4cec-a468-fd2a8f7fdbeb",
   "metadata": {},
   "outputs": [],
   "source": []
  }
 ],
 "metadata": {
  "kernelspec": {
   "display_name": "Python 3 (ipykernel)",
   "language": "python",
   "name": "python3"
  },
  "language_info": {
   "codemirror_mode": {
    "name": "ipython",
    "version": 3
   },
   "file_extension": ".py",
   "mimetype": "text/x-python",
   "name": "python",
   "nbconvert_exporter": "python",
   "pygments_lexer": "ipython3",
   "version": "3.11.4"
  }
 },
 "nbformat": 4,
 "nbformat_minor": 5
}
