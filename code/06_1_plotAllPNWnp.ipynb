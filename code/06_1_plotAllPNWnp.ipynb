{
 "cells": [
  {
   "cell_type": "code",
   "execution_count": null,
   "id": "1b61a0fe-b27f-4c49-b71b-5e40c737e757",
   "metadata": {
    "colab": {
     "base_uri": "https://localhost:8080/",
     "height": 367
    },
    "executionInfo": {
     "elapsed": 2113,
     "status": "error",
     "timestamp": 1706907154885,
     "user": {
      "displayName": "Adam Price",
      "userId": "10824786614787590084"
     },
     "user_tz": 480
    },
    "id": "1b61a0fe-b27f-4c49-b71b-5e40c737e757",
    "outputId": "2936bcf9-7310-48ff-b71f-803669bcb688",
    "tags": []
   },
   "outputs": [],
   "source": [
    "import pandas as pd\n",
    "import numpy as np\n",
    "import datetime as dt\n",
    "import matplotlib.pyplot as plt\n",
    "import seaborn as sns\n",
    "from matplotlib.ticker import FormatStrFormatter\n",
    "import matplotlib as mpl\n",
    "import matplotlib.colors as pltc\n",
    "import geopandas\n",
    "import mapclassify\n",
    "mpl.rcParams['pdf.fonttype'] = 42"
   ]
  },
  {
   "cell_type": "code",
   "execution_count": null,
   "id": "c701e958-75fb-4d55-885e-d1ac41a5c136",
   "metadata": {
    "id": "c701e958-75fb-4d55-885e-d1ac41a5c136",
    "tags": []
   },
   "outputs": [],
   "source": [
    "df = pd.read_csv(\"../data/pnwNP_StatsLocations.csv\")\n",
    "df = geopandas.GeoDataFrame(df, geometry=geopandas.points_from_xy(df.dec_long_va,df.dec_lat_va)).set_crs('epsg:4269')"
   ]
  },
  {
   "cell_type": "code",
   "execution_count": null,
   "id": "c9b13c60-8b29-48f1-8c62-77a0dadd2b79",
   "metadata": {
    "id": "c9b13c60-8b29-48f1-8c62-77a0dadd2b79",
    "tags": []
   },
   "outputs": [],
   "source": [
    "pnw_hydro = geopandas.read_file(\"../data/mapping/pnw_hydrologic_landscape_class/PNW Hydrologic Landscape Class.shp\")\n",
    "pnw_hydro_repro = pnw_hydro.to_crs(epsg=4269)\n",
    "pnw_hydro_repro.CLASS = pnw_hydro['CLASS'].astype(str).str[0:1]\n",
    "\n",
    "states = geopandas.read_file(\"../data/mapping/cb_2018_us_state_5m/cb_2018_us_state_5m.shp\")\n",
    "states = states.to_crs(epsg=4269)\n",
    "st = [\"Idaho\",'Washington','Oregon']\n",
    "states = states[states[\"NAME\"].isin(st)]\n",
    "\n",
    "rivs = geopandas.read_file(\"../data/mapping/rs16my07/\")\n",
    "rivs = rivs.set_crs(epsg=4269)\n",
    "rivs = geopandas.clip(rivs, states)\n",
    "rivs = rivs[rivs[\"STRAHLER\"]>=4]\n",
    "\n",
    "df = geopandas.clip(df, states)"
   ]
  },
  {
   "cell_type": "code",
   "execution_count": null,
   "id": "33ea6626-30cd-478d-b510-7f6b001174a6",
   "metadata": {
    "id": "33ea6626-30cd-478d-b510-7f6b001174a6",
    "outputId": "53fdc9a3-5ef3-44e2-eae0-9d51f7ad6b58",
    "tags": []
   },
   "outputs": [],
   "source": [
    "plt.rcParams.update({'font.size': 18})\n",
    "\n",
    "color_map = {'W': 'lightskyblue',\n",
    "          'V': 'dodgerblue' ,\n",
    "          'D': 'navajowhite',\n",
    "          'M': 'papayawhip',\n",
    "          'S': 'salmon' ,\n",
    "          'A': 'orangered' ,\n",
    "          'B': 'hotpink' }\n",
    "\n",
    "f,ax = plt.subplots(figsize=(15, 15))\n",
    "\n",
    "# pnw_hydro_repro.plot(ax=ax,legend=True,color = pnw_hydro_repro['CLASS'].map(color_map),alpha= .5)\n",
    "states.plot(ax=ax,facecolor=\"none\",edgecolor = \"black\")\n",
    "rivs.plot(ax=ax,\n",
    "          alpha = .5,\n",
    "          edgecolor='darkblue')\n",
    "breaks = [0.01,0.05,0.1,0.15,0.2,0.3,0.5,0.75,1]\n",
    "breaks\n",
    "df.plot(ax=ax,\n",
    "        markersize=100,\n",
    "        # alpha = .5,\n",
    "        edgecolor = \"black\",\n",
    "        legend=True,\n",
    "        scheme=\"user_defined\",\n",
    "        cmap=\"viridis\",\n",
    "        # classification_kwds={'bins':[100,300,1000,5000,10000]},\n",
    "        classification_kwds={'bins':breaks},\n",
    "        column='propZero')\n",
    "\n",
    "# ax.arrow(-112, 48, 0, 0.75, length_includes_head=True,\n",
    "#           head_width=0.4, head_length=0.6, overhang=.25, facecolor='k')\n",
    "# ax.text(x=-112.2, y=48.8, s='N', fontsize=30)\n",
    "ax.set_xlabel(\"Longitude (decDeg)\")\n",
    "ax.set_ylabel(\"Latitude (decDeg)\")\n",
    "ax.yaxis.set_major_formatter(FormatStrFormatter('%.1f'))\n",
    "ax.xaxis.set_major_formatter(FormatStrFormatter('%.1f'))\n",
    "ax.set_title('Proportion of Zero Flow Readings')\n",
    "# plt.colorbar(tmp, ax=ax)\n",
    "\n",
    "# cx.add_basemap(ax ,reset_extent= False,zoom=9,source=cx.providers.OpenStreetMap.Mapnik)\n",
    "\n",
    "# f.savefig('../docs/AllGagesMap_PropZero.png',dpi=600)\n",
    "# f.savefig('../docs/AllGagesMap_PropZero.pdf')"
   ]
  },
  {
   "cell_type": "code",
   "execution_count": null,
   "id": "30d6b760-d082-4774-a2ca-75682e9927b9",
   "metadata": {
    "id": "30d6b760-d082-4774-a2ca-75682e9927b9",
    "outputId": "e0034da7-7cc4-411a-c690-7ebaaaaf573b",
    "tags": []
   },
   "outputs": [],
   "source": [
    "plt.rcParams.update({'font.size': 18})\n",
    "\n",
    "\n",
    "color_map = {'W': 'lightskyblue',\n",
    "          'V': 'dodgerblue' ,\n",
    "          'D': 'navajowhite',\n",
    "          'M': 'papayawhip',\n",
    "          'S': 'salmon' ,\n",
    "          'A': 'orangered' ,\n",
    "          'B': 'hotpink' }\n",
    "\n",
    "f,ax = plt.subplots(figsize=(15, 15))\n",
    "\n",
    "# pnw_hydro_repro.plot(ax=ax,legend=True,color = pnw_hydro_repro['CLASS'].map(color_map),alpha= .5)\n",
    "states.plot(ax=ax,facecolor=\"lightgrey\",edgecolor = \"black\",alpha=.4)\n",
    "rivs.plot(ax=ax,\n",
    "          alpha = .7,\n",
    "          edgecolor='darkblue')\n",
    "\n",
    "\n",
    "df.plot(ax=ax,\n",
    "        markersize=100,\n",
    "        alpha = .5,\n",
    "        edgecolor = \"black\",\n",
    "        legend=True,\n",
    "#         scheme=\"EqualInterval\",\n",
    "#         scheme=\"HeadTailBreaks\",\n",
    "        scheme=\"user_defined\",\n",
    "        cmap=\"viridis\",\n",
    "#         classification_kwds={'bins':[.05,.1,.15,.2,.25, .3, .5, .7]},\n",
    "        classification_kwds={'bins':breaks},\n",
    "        column='propOne')\n",
    "\n",
    "# ax.arrow(-112, 48, 0, 0.75, length_includes_head=True,\n",
    "#           head_width=0.4, head_length=0.6, overhang=.25, facecolor='k')\n",
    "# ax.text(x=-112.2, y=48.8, s='N', fontsize=30)\n",
    "ax.set_xlabel(\"Longitude (decDeg)\")\n",
    "ax.set_ylabel(\"Latitude (decDeg)\")\n",
    "ax.yaxis.set_major_formatter(FormatStrFormatter('%.1f'))\n",
    "ax.xaxis.set_major_formatter(FormatStrFormatter('%.1f'))\n",
    "ax.set_title('Proportion of <1 cfs Readings')\n",
    "\n",
    "\n",
    "# f.savefig('../docs/AllGagesMap_PropOne_woLeg.png',dpi=600)\n",
    "# f.savefig('../docs/Gages2_PNW.pdf')"
   ]
  },
  {
   "cell_type": "code",
   "execution_count": null,
   "id": "73e513e1-e2c3-4b8c-94a1-b258ce78101c",
   "metadata": {
    "tags": []
   },
   "outputs": [],
   "source": [
    "plt.rcParams.update({'font.size': 18})\n",
    "\n",
    "color_map = {'W': 'lightskyblue',\n",
    "          'V': 'dodgerblue' ,\n",
    "          'D': 'navajowhite',\n",
    "          'M': 'papayawhip',\n",
    "          'S': 'salmon' ,\n",
    "          'A': 'orangered' ,\n",
    "          'B': 'hotpink' }\n",
    "\n",
    "f,ax = plt.subplots(figsize=(15, 15))\n",
    "\n",
    "pnw_hydro_repro.plot(ax=ax,legend=True,color = pnw_hydro_repro['CLASS'].map(color_map),alpha= .5)\n",
    "states.plot(ax=ax,facecolor=\"none\",edgecolor = \"black\")\n",
    "rivs.plot(ax=ax,\n",
    "          alpha = .5,\n",
    "          edgecolor='darkblue')\n",
    "tmp = df\n",
    "\n",
    "tmp.plot(ax=ax,\n",
    "        markersize=50,\n",
    "        alpha = .5,\n",
    "        edgecolor = \"black\",\n",
    "        color = \"black\",\n",
    "        column='propZero')\n",
    "\n",
    "# ax.arrow(-115, 48, 0, 0.75, length_includes_head=True,\n",
    "#           head_width=0.4, head_length=0.6, overhang=.25, facecolor='k')\n",
    "# ax.text(x=-115.2, y=48.8, s='N', fontsize=30)\n",
    "# ax.set_xlabel(\"Longitude (decDeg)\")\n",
    "# ax.set_ylabel(\"Latitude (decDeg)\")\n",
    "# ax.yaxis.set_major_formatter(FormatStrFormatter('%.1f'))\n",
    "# ax.xaxis.set_major_formatter(FormatStrFormatter('%.1f'))\n",
    "# ax.set_title('Streamgage Locations')\n",
    "\n",
    "\n",
    "f.savefig('../docs/AllGagesMap_Locations.png',dpi=600)"
   ]
  },
  {
   "cell_type": "code",
   "execution_count": null,
   "id": "73ebf79e-d66b-43b1-98ec-a3e670af6a31",
   "metadata": {
    "id": "73ebf79e-d66b-43b1-98ec-a3e670af6a31",
    "outputId": "6bbdf30f-053b-44a8-84f2-697fd1dfaf2b",
    "tags": []
   },
   "outputs": [],
   "source": [
    "f,ax = plt.subplots(figsize=(5, 5))\n",
    "df.hist(ax = ax,\n",
    "        column = 'propOne',\n",
    "        bins = 30,\n",
    "        grid=False,\n",
    "       color = \"salmon\")\n",
    "ax.set(xlim=(0,1))\n",
    "# plt.savefig(\"../docs/Allpnw_PropOneHist.png\",dpi=600)\n",
    "# plt.savefig(\"../docs/Allpnw_PropOneHist.pdf\")"
   ]
  },
  {
   "cell_type": "code",
   "execution_count": null,
   "id": "9cfa8171-f102-4c15-b2fe-1762396e0610",
   "metadata": {
    "id": "9cfa8171-f102-4c15-b2fe-1762396e0610",
    "outputId": "e52a462f-5250-4a66-9f61-2f906c60a95a",
    "tags": []
   },
   "outputs": [],
   "source": [
    "ax = tmp.hist(column = 'propZero')"
   ]
  },
  {
   "cell_type": "code",
   "execution_count": null,
   "id": "22287bc3-2b66-49ea-8c1b-ebff92101d2c",
   "metadata": {
    "id": "22287bc3-2b66-49ea-8c1b-ebff92101d2c",
    "outputId": "fe8c5de1-43b5-4b35-db26-716b44fd4447",
    "tags": []
   },
   "outputs": [],
   "source": [
    "f,ax = plt.subplots(figsize=(6, 4))\n",
    "plt.hist(x = [tmp['propZero'],df['propOne']],\n",
    "        bins = 100,\n",
    "       color = [\"darksalmon\",'dodgerblue'],\n",
    "        histtype = \"barstacked\")\n",
    "ax.set(xlim=(0,1))\n",
    "# plt.savefig(\"../docs/Allpnw_StackedPropHist.png\",dpi=600)\n",
    "# plt.savefig(\"../docs/Allpnw_StackedPropHist.pdf\")"
   ]
  }
 ],
 "metadata": {
  "colab": {
   "provenance": []
  },
  "kernelspec": {
   "display_name": "Python 3 (ipykernel)",
   "language": "python",
   "name": "python3"
  },
  "language_info": {
   "codemirror_mode": {
    "name": "ipython",
    "version": 3
   },
   "file_extension": ".py",
   "mimetype": "text/x-python",
   "name": "python",
   "nbconvert_exporter": "python",
   "pygments_lexer": "ipython3",
   "version": "3.11.4"
  }
 },
 "nbformat": 4,
 "nbformat_minor": 5
}
