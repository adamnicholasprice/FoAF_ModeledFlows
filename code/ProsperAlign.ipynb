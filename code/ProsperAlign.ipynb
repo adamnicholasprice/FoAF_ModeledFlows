{
 "cells": [
  {
   "cell_type": "code",
   "execution_count": 2,
   "id": "c7be94a9-3c8d-411b-8e73-6788fa0a657b",
   "metadata": {},
   "outputs": [],
   "source": [
    "import netCDF4 as nc\n",
    "import pandas as pd\n",
    "import numpy as np\n",
    "import matplotlib.pyplot as plt\n",
    "import geopandas\n",
    "import xarray as xr\n",
    "import matplotlib.colors as pltc\n",
    "import geopandas\n",
    "import datetime as dt\n",
    "from scipy import stats\n",
    "from sklearn import preprocessing\n",
    "import s3fs\n",
    "import matplotlib as mpl\n",
    "import rasterio\n",
    "mpl.rcParams['pdf.fonttype'] = 42\n",
    "\n",
    "## Cubic feet to cubic meters conversion factor\n",
    "cfs_2_cms = 0.0283168466"
   ]
  },
  {
   "cell_type": "code",
   "execution_count": 28,
   "id": "2bc68042-684b-4f13-be28-a12a9aa6e5ba",
   "metadata": {},
   "outputs": [],
   "source": [
    "src = rasterio.open(\"../data/PROSPER/SPP_MEAN.tif\")"
   ]
  },
  {
   "cell_type": "code",
   "execution_count": 26,
   "id": "75b92209-c38c-48e3-8043-2dc88ea7f41b",
   "metadata": {},
   "outputs": [],
   "source": [
    "starkey = geopandas.read_file(\"../data/starkey/mygeodata/Starkey_Experimental_Forest_and_Range_Streams.gdb-line.shp\").to_crs(epsg=5070) #https://www.fs.usda.gov/rds/archive/catalog/RDS-2018-0019"
   ]
  },
  {
   "cell_type": "code",
   "execution_count": 25,
   "id": "e4a0b75f-030c-47da-bb13-1158892f0bcc",
   "metadata": {},
   "outputs": [],
   "source": [
    "import rasterio\n",
    "from rasterio.mask import mask\n",
    "import geopandas as gpd\n",
    "\n",
    "inshp = '../data/starkey/mygeodata/Starkey_Experimental_Forest_and_Range_Streams.gdb-line.shp'\n",
    "inRas = '../data/PROSPER/SPP_MEAN.tif'\n",
    "outRas = '../data/STARKEY_PROSPER_SPP_MEAN.tif'\n",
    "\n",
    "\n",
    "Vector=gpd.read_file(inshp)\n",
    "\n",
    "# Vector=Vector[Vector['HYBAS_ID']==6060122060] # Subsetting to my AOI\n",
    "\n",
    "with rasterio.open(inRas) as src:\n",
    "    Vector=Vector.to_crs(src.crs)\n",
    "    # print(Vector.crs)\n",
    "    out_image, out_transform=mask(src,Vector.geometry,crop=True)\n",
    "    out_meta=src.meta.copy() # copy the metadata of the source DEM\n",
    "    \n",
    "out_meta.update({\n",
    "    \"driver\":\"Gtiff\",\n",
    "    \"height\":out_image.shape[1], # height starts with shape[1]\n",
    "    \"width\":out_image.shape[2], # width starts with shape[2]\n",
    "    \"transform\":out_transform\n",
    "})\n",
    "              \n",
    "with rasterio.open(outRas,'w',**out_meta) as dst:\n",
    "    dst.write(out_image)"
   ]
  },
  {
   "cell_type": "code",
   "execution_count": 32,
   "id": "e5418b8a-2faa-480f-b685-56b961ff8e08",
   "metadata": {},
   "outputs": [
    {
     "data": {
      "image/png": "[encoded data removed]",
      "text/plain": [
       "<Figure size 432x288 with 1 Axes>"
      ]
     },
     "metadata": {
      "needs_background": "light"
     },
     "output_type": "display_data"
    },
    {
     "data": {
      "text/plain": [
       "<AxesSubplot:>"
      ]
     },
     "execution_count": 32,
     "metadata": {},
     "output_type": "execute_result"
    }
   ],
   "source": [
    "from rasterio.plot import show\n",
    "\n",
    "src = rasterio.open(\"../data/STARKEY_PROSPER_SPP_MEAN.tif\")\n",
    "fig, ax = plt.subplots()\n",
    "\n",
    "# transform rasterio plot to real world coords\n",
    "# extent = [starkey.total_bounds[0], starkey.total_bounds[2], starkey.total_bounds[1], starkey.total_bounds[3]]\n",
    "rasterio.plot.show(src)\n",
    "\n",
    "# gdf.plot(ax=ax)"
   ]
  },
  {
   "cell_type": "code",
   "execution_count": 35,
   "id": "c0a39554-3411-48ce-abb4-0dfcc00fd7b3",
   "metadata": {},
   "outputs": [
    {
     "data": {
      "text/plain": [
       "array([[[-3.402823e+38, -3.402823e+38, -3.402823e+38, ...,\n",
       "         -3.402823e+38, -3.402823e+38, -3.402823e+38],\n",
       "        [-3.402823e+38, -3.402823e+38, -3.402823e+38, ...,\n",
       "         -3.402823e+38, -3.402823e+38, -3.402823e+38],\n",
       "        [-3.402823e+38, -3.402823e+38, -3.402823e+38, ...,\n",
       "         -3.402823e+38, -3.402823e+38, -3.402823e+38],\n",
       "        ...,\n",
       "        [-3.402823e+38, -3.402823e+38, -3.402823e+38, ...,\n",
       "         -3.402823e+38, -3.402823e+38, -3.402823e+38],\n",
       "        [-3.402823e+38, -3.402823e+38, -3.402823e+38, ...,\n",
       "         -3.402823e+38, -3.402823e+38, -3.402823e+38],\n",
       "        [-3.402823e+38, -3.402823e+38, -3.402823e+38, ...,\n",
       "         -3.402823e+38, -3.402823e+38, -3.402823e+38]]], dtype=float32)"
      ]
     },
     "execution_count": 35,
     "metadata": {},
     "output_type": "execute_result"
    }
   ],
   "source": []
  },
  {
   "cell_type": "code",
   "execution_count": null,
   "id": "9392e24c-8671-478e-8f45-453d57dac6ec",
   "metadata": {},
   "outputs": [],
   "source": []
  }
 ],
 "metadata": {
  "kernelspec": {
   "display_name": "Python 3",
   "language": "python",
   "name": "python3"
  },
  "language_info": {
   "codemirror_mode": {
    "name": "ipython",
    "version": 3
   },
   "file_extension": ".py",
   "mimetype": "text/x-python",
   "name": "python",
   "nbconvert_exporter": "python",
   "pygments_lexer": "ipython3",
   "version": "3.9.5"
  }
 },
 "nbformat": 4,
 "nbformat_minor": 5
}
