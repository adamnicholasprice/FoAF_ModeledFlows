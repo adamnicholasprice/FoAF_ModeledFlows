{
 "cells": [
  {
   "cell_type": "code",
   "execution_count": null,
   "id": "62ab04c1-fe94-406f-8b00-e158e55bf116",
   "metadata": {},
   "outputs": [],
   "source": [
    "library(dataRetrieval)\n",
    "library(tidyverse)\n",
    "library(dplyr)"
   ]
  },
  {
   "cell_type": "code",
   "execution_count": null,
   "id": "b27b7c3f-25b0-449e-bffb-e42b64dda176",
   "metadata": {},
   "outputs": [],
   "source": [
    "dat = read.csv('../data/PNW_DryingRegimeGages.csv')\n",
    "\n",
    "gageInfo  = dataRetrieval::readNWISsite(dat$gage)\n",
    "\n",
    "gageInfo <- gageInfo %>%\n",
    "  select(.,site_no,station_nm,dec_lat_va,dec_long_va)\n",
    "gageInfo$site_no = as.integer(gageInfo$site_no)\n",
    "\n",
    "\n",
    "ap_NLDI <- function(x){\n",
    "  as.integer(dataRetrieval::findNLDI(nwis=x)$origin$comid)\n",
    "}\n",
    "\n",
    "gageNHD = tibble(lapply(dat$gage,ap_NLDI)) %>%\n",
    "  unlist() %>%\n",
    "  data_frame() %>%\n",
    "  cbind(.,dat$gage)%>%\n",
    "  rename_with(.cols=1,~\"comid\")\n",
    "\n",
    "colnames(gageNHD) <- c('comid','gage')\n",
    "\n",
    "\n",
    "pnwNP <- dat %>%\n",
    "  left_join(x=dat,y=gageNHD, by=join_by(gage))\n",
    "\n",
    "\n",
    "write.csv(pnwNP,'../data/pnwNP_Info.csv',row.names = F)"
   ]
  },
  {
   "cell_type": "code",
   "execution_count": null,
   "id": "b0ccecc0-74a3-4993-b6eb-b2ba2c38fac6",
   "metadata": {},
   "outputs": [],
   "source": [
    "1+1"
   ]
  }
 ],
 "metadata": {
  "kernelspec": {
   "display_name": "R",
   "language": "R",
   "name": "ir"
  },
  "language_info": {
   "name": ""
  }
 },
 "nbformat": 4,
 "nbformat_minor": 5
}
