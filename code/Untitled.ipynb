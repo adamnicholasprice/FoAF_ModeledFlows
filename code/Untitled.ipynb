{
 "cells": [
  {
   "cell_type": "code",
   "execution_count": 2,
   "id": "54f570cf-58ab-4b92-8763-d582a60946de",
   "metadata": {
    "tags": []
   },
   "outputs": [],
   "source": [
    "import pandas as pd\n",
    "import numpy as np\n",
    "import matplotlib.pyplot as plt\n",
    "from hydroeval import evaluator, nse, kge, pbias\n",
    "from tqdm import tqdm\n",
    "import datetime as dt"
   ]
  },
  {
   "cell_type": "code",
   "execution_count": 3,
   "id": "246ba0ba-723c-4782-8bea-e7d97667367d",
   "metadata": {
    "tags": []
   },
   "outputs": [],
   "source": [
    "df = pd.read_csv(\"../data/pnwNP_modelStats_DELETEME.csv\")"
   ]
  },
  {
   "cell_type": "code",
   "execution_count": 5,
   "id": "27a6f2b2-e4ab-4b63-86c9-86532a3ae57f",
   "metadata": {
    "tags": []
   },
   "outputs": [
    {
     "data": {
      "text/html": [
       "<div>\n",
       "<style scoped>\n",
       "    .dataframe tbody tr th:only-of-type {\n",
       "        vertical-align: middle;\n",
       "    }\n",
       "\n",
       "    .dataframe tbody tr th {\n",
       "        vertical-align: top;\n",
       "    }\n",
       "\n",
       "    .dataframe thead th {\n",
       "        text-align: right;\n",
       "    }\n",
       "</style>\n",
       "<table border=\"1\" class=\"dataframe\">\n",
       "  <thead>\n",
       "    <tr style=\"text-align: right;\">\n",
       "      <th></th>\n",
       "      <th>Unnamed: 0</th>\n",
       "      <th>gage</th>\n",
       "      <th>model</th>\n",
       "      <th>nse</th>\n",
       "      <th>kge</th>\n",
       "      <th>kge_r</th>\n",
       "      <th>kge_a</th>\n",
       "      <th>kge_b</th>\n",
       "      <th>n_wateryear</th>\n",
       "      <th>site_no</th>\n",
       "      <th>dec_lat_va</th>\n",
       "      <th>dec_long_va</th>\n",
       "      <th>numZero</th>\n",
       "      <th>numOne</th>\n",
       "      <th>startDate</th>\n",
       "      <th>endDate</th>\n",
       "      <th>comid</th>\n",
       "      <th>numObs</th>\n",
       "      <th>propZero</th>\n",
       "      <th>propOne</th>\n",
       "    </tr>\n",
       "  </thead>\n",
       "  <tbody>\n",
       "    <tr>\n",
       "      <th>1718</th>\n",
       "      <td>1718</td>\n",
       "      <td>14202650</td>\n",
       "      <td>nwm0</td>\n",
       "      <td>-0.053110</td>\n",
       "      <td>-0.931900</td>\n",
       "      <td>-0.202744</td>\n",
       "      <td>0.041595</td>\n",
       "      <td>-0.169232</td>\n",
       "      <td>2</td>\n",
       "      <td>14202650</td>\n",
       "      <td>45.440642</td>\n",
       "      <td>-123.125000</td>\n",
       "      <td>1</td>\n",
       "      <td>140</td>\n",
       "      <td>2010-04-14</td>\n",
       "      <td>2020-12-31</td>\n",
       "      <td>23805138.0</td>\n",
       "      <td>3914</td>\n",
       "      <td>0.000255</td>\n",
       "      <td>0.035769</td>\n",
       "    </tr>\n",
       "    <tr>\n",
       "      <th>1719</th>\n",
       "      <td>1719</td>\n",
       "      <td>14202650</td>\n",
       "      <td>nwm1</td>\n",
       "      <td>-0.038002</td>\n",
       "      <td>-0.871674</td>\n",
       "      <td>-0.141334</td>\n",
       "      <td>0.021714</td>\n",
       "      <td>-0.115113</td>\n",
       "      <td>2</td>\n",
       "      <td>14202650</td>\n",
       "      <td>45.440642</td>\n",
       "      <td>-123.125000</td>\n",
       "      <td>1</td>\n",
       "      <td>140</td>\n",
       "      <td>2010-04-14</td>\n",
       "      <td>2020-12-31</td>\n",
       "      <td>23805138.0</td>\n",
       "      <td>3914</td>\n",
       "      <td>0.000255</td>\n",
       "      <td>0.035769</td>\n",
       "    </tr>\n",
       "    <tr>\n",
       "      <th>1774</th>\n",
       "      <td>1774</td>\n",
       "      <td>14211820</td>\n",
       "      <td>nwm0</td>\n",
       "      <td>-0.000643</td>\n",
       "      <td>-1.450993</td>\n",
       "      <td>-0.006270</td>\n",
       "      <td>0.007307</td>\n",
       "      <td>-1.002335</td>\n",
       "      <td>27</td>\n",
       "      <td>14211820</td>\n",
       "      <td>45.639005</td>\n",
       "      <td>-122.763155</td>\n",
       "      <td>2</td>\n",
       "      <td>1343</td>\n",
       "      <td>1988-10-15</td>\n",
       "      <td>2020-12-31</td>\n",
       "      <td>23815084.0</td>\n",
       "      <td>11765</td>\n",
       "      <td>0.000170</td>\n",
       "      <td>0.114152</td>\n",
       "    </tr>\n",
       "    <tr>\n",
       "      <th>1775</th>\n",
       "      <td>1775</td>\n",
       "      <td>14211820</td>\n",
       "      <td>nwm1</td>\n",
       "      <td>-0.000340</td>\n",
       "      <td>-1.038187</td>\n",
       "      <td>-0.011464</td>\n",
       "      <td>0.003074</td>\n",
       "      <td>-0.461946</td>\n",
       "      <td>33</td>\n",
       "      <td>14211820</td>\n",
       "      <td>45.639005</td>\n",
       "      <td>-122.763155</td>\n",
       "      <td>2</td>\n",
       "      <td>1343</td>\n",
       "      <td>1988-10-15</td>\n",
       "      <td>2020-12-31</td>\n",
       "      <td>23815084.0</td>\n",
       "      <td>11765</td>\n",
       "      <td>0.000170</td>\n",
       "      <td>0.114152</td>\n",
       "    </tr>\n",
       "  </tbody>\n",
       "</table>\n",
       "</div>"
      ],
      "text/plain": [
       "      Unnamed: 0      gage model       nse       kge     kge_r     kge_a  \\\n",
       "1718        1718  14202650  nwm0 -0.053110 -0.931900 -0.202744  0.041595   \n",
       "1719        1719  14202650  nwm1 -0.038002 -0.871674 -0.141334  0.021714   \n",
       "1774        1774  14211820  nwm0 -0.000643 -1.450993 -0.006270  0.007307   \n",
       "1775        1775  14211820  nwm1 -0.000340 -1.038187 -0.011464  0.003074   \n",
       "\n",
       "         kge_b  n_wateryear   site_no  dec_lat_va  dec_long_va  numZero  \\\n",
       "1718 -0.169232            2  14202650   45.440642  -123.125000        1   \n",
       "1719 -0.115113            2  14202650   45.440642  -123.125000        1   \n",
       "1774 -1.002335           27  14211820   45.639005  -122.763155        2   \n",
       "1775 -0.461946           33  14211820   45.639005  -122.763155        2   \n",
       "\n",
       "      numOne   startDate     endDate       comid  numObs  propZero   propOne  \n",
       "1718     140  2010-04-14  2020-12-31  23805138.0    3914  0.000255  0.035769  \n",
       "1719     140  2010-04-14  2020-12-31  23805138.0    3914  0.000255  0.035769  \n",
       "1774    1343  1988-10-15  2020-12-31  23815084.0   11765  0.000170  0.114152  \n",
       "1775    1343  1988-10-15  2020-12-31  23815084.0   11765  0.000170  0.114152  "
      ]
     },
     "execution_count": 5,
     "metadata": {},
     "output_type": "execute_result"
    }
   ],
   "source": [
    "df[df[\"kge_b\"]<0]"
   ]
  },
  {
   "cell_type": "code",
   "execution_count": 32,
   "id": "89dddf45-6df2-4880-8601-3b6ded6b742d",
   "metadata": {
    "tags": []
   },
   "outputs": [
    {
     "data": {
      "text/plain": [
       "array([[-0.72647433, -0.01571435,  0.00172426,  0.02404738]])"
      ]
     },
     "execution_count": 32,
     "metadata": {},
     "output_type": "execute_result"
    }
   ],
   "source": [
    "evaluator(kge,\n",
    "                simulations = dat['streamflow_NWM2d0'],\n",
    "                evaluation = dat[\"streamflow_NWIS\"], \n",
    "                axis=1,\n",
    "                transform='inv',\n",
    "                epsilon=0.00001)"
   ]
  },
  {
   "cell_type": "code",
   "execution_count": 6,
   "id": "2a61e893-e432-4944-b747-6e1a18e6b142",
   "metadata": {
    "tags": []
   },
   "outputs": [],
   "source": [
    "dat = pd.read_csv(\"../data/pnwNP_modeledData/14202650.csv\")"
   ]
  },
  {
   "cell_type": "code",
   "execution_count": 10,
   "id": "eb2b56a2-3cc1-487b-8997-d80da69aa296",
   "metadata": {
    "tags": []
   },
   "outputs": [
    {
     "data": {
      "text/html": [
       "<div>\n",
       "<style scoped>\n",
       "    .dataframe tbody tr th:only-of-type {\n",
       "        vertical-align: middle;\n",
       "    }\n",
       "\n",
       "    .dataframe tbody tr th {\n",
       "        vertical-align: top;\n",
       "    }\n",
       "\n",
       "    .dataframe thead th {\n",
       "        text-align: right;\n",
       "    }\n",
       "</style>\n",
       "<table border=\"1\" class=\"dataframe\">\n",
       "  <thead>\n",
       "    <tr style=\"text-align: right;\">\n",
       "      <th></th>\n",
       "      <th>Unnamed: 0</th>\n",
       "      <th>streamflow_VIC</th>\n",
       "      <th>streamflow_PRMS</th>\n",
       "      <th>streamflow_NWM2d0</th>\n",
       "      <th>streamflow_NWM2d1</th>\n",
       "      <th>streamflow_NWIS</th>\n",
       "      <th>gage</th>\n",
       "    </tr>\n",
       "  </thead>\n",
       "  <tbody>\n",
       "    <tr>\n",
       "      <th>count</th>\n",
       "      <td>15310.000000</td>\n",
       "      <td>0.0</td>\n",
       "      <td>0.0</td>\n",
       "      <td>9496.000000</td>\n",
       "      <td>15310.000000</td>\n",
       "      <td>533.000000</td>\n",
       "      <td>15310.0</td>\n",
       "    </tr>\n",
       "    <tr>\n",
       "      <th>mean</th>\n",
       "      <td>7654.500000</td>\n",
       "      <td>NaN</td>\n",
       "      <td>NaN</td>\n",
       "      <td>1.428885</td>\n",
       "      <td>1.284433</td>\n",
       "      <td>1.049491</td>\n",
       "      <td>14202650.0</td>\n",
       "    </tr>\n",
       "    <tr>\n",
       "      <th>std</th>\n",
       "      <td>4419.760646</td>\n",
       "      <td>NaN</td>\n",
       "      <td>NaN</td>\n",
       "      <td>2.226126</td>\n",
       "      <td>2.111928</td>\n",
       "      <td>1.411188</td>\n",
       "      <td>0.0</td>\n",
       "    </tr>\n",
       "    <tr>\n",
       "      <th>min</th>\n",
       "      <td>0.000000</td>\n",
       "      <td>NaN</td>\n",
       "      <td>NaN</td>\n",
       "      <td>0.020000</td>\n",
       "      <td>0.040000</td>\n",
       "      <td>-2.132259</td>\n",
       "      <td>14202650.0</td>\n",
       "    </tr>\n",
       "    <tr>\n",
       "      <th>25%</th>\n",
       "      <td>3827.250000</td>\n",
       "      <td>NaN</td>\n",
       "      <td>NaN</td>\n",
       "      <td>0.110000</td>\n",
       "      <td>0.150000</td>\n",
       "      <td>0.020388</td>\n",
       "      <td>14202650.0</td>\n",
       "    </tr>\n",
       "    <tr>\n",
       "      <th>50%</th>\n",
       "      <td>7654.500000</td>\n",
       "      <td>NaN</td>\n",
       "      <td>NaN</td>\n",
       "      <td>0.654792</td>\n",
       "      <td>0.481667</td>\n",
       "      <td>0.521030</td>\n",
       "      <td>14202650.0</td>\n",
       "    </tr>\n",
       "    <tr>\n",
       "      <th>75%</th>\n",
       "      <td>11481.750000</td>\n",
       "      <td>NaN</td>\n",
       "      <td>NaN</td>\n",
       "      <td>1.709167</td>\n",
       "      <td>1.509062</td>\n",
       "      <td>1.614060</td>\n",
       "      <td>14202650.0</td>\n",
       "    </tr>\n",
       "    <tr>\n",
       "      <th>max</th>\n",
       "      <td>15309.000000</td>\n",
       "      <td>NaN</td>\n",
       "      <td>NaN</td>\n",
       "      <td>34.875416</td>\n",
       "      <td>38.670832</td>\n",
       "      <td>7.022578</td>\n",
       "      <td>14202650.0</td>\n",
       "    </tr>\n",
       "  </tbody>\n",
       "</table>\n",
       "</div>"
      ],
      "text/plain": [
       "         Unnamed: 0  streamflow_VIC  streamflow_PRMS  streamflow_NWM2d0  \\\n",
       "count  15310.000000             0.0              0.0        9496.000000   \n",
       "mean    7654.500000             NaN              NaN           1.428885   \n",
       "std     4419.760646             NaN              NaN           2.226126   \n",
       "min        0.000000             NaN              NaN           0.020000   \n",
       "25%     3827.250000             NaN              NaN           0.110000   \n",
       "50%     7654.500000             NaN              NaN           0.654792   \n",
       "75%    11481.750000             NaN              NaN           1.709167   \n",
       "max    15309.000000             NaN              NaN          34.875416   \n",
       "\n",
       "       streamflow_NWM2d1  streamflow_NWIS        gage  \n",
       "count       15310.000000       533.000000     15310.0  \n",
       "mean            1.284433         1.049491  14202650.0  \n",
       "std             2.111928         1.411188         0.0  \n",
       "min             0.040000        -2.132259  14202650.0  \n",
       "25%             0.150000         0.020388  14202650.0  \n",
       "50%             0.481667         0.521030  14202650.0  \n",
       "75%             1.509062         1.614060  14202650.0  \n",
       "max            38.670832         7.022578  14202650.0  "
      ]
     },
     "execution_count": 10,
     "metadata": {},
     "output_type": "execute_result"
    }
   ],
   "source": [
    "dat.describe()"
   ]
  },
  {
   "cell_type": "code",
   "execution_count": 22,
   "id": "17bc24b1-8501-4951-91b0-24c748a419b5",
   "metadata": {
    "tags": []
   },
   "outputs": [
    {
     "data": {
      "text/plain": [
       "0.7218023798195474"
      ]
     },
     "execution_count": 22,
     "metadata": {},
     "output_type": "execute_result"
    }
   ],
   "source": [
    "((1/(np.mean(dat[\"streamflow_NWM2d0\"])+0.01))/(1/np.mean(dat[\"streamflow_NWIS\"]))-1)"
   ]
  },
  {
   "cell_type": "code",
   "execution_count": 31,
   "id": "062edb04-d228-4c55-984d-325ca9e9a699",
   "metadata": {
    "tags": []
   },
   "outputs": [
    {
     "data": {
      "text/plain": [
       "0.0004"
      ]
     },
     "execution_count": 31,
     "metadata": {},
     "output_type": "execute_result"
    }
   ],
   "source": [
    "0.04*0.01"
   ]
  },
  {
   "cell_type": "code",
   "execution_count": null,
   "id": "8453d4ca-07c5-41e7-b436-ea7708d23645",
   "metadata": {},
   "outputs": [],
   "source": []
  }
 ],
 "metadata": {
  "kernelspec": {
   "display_name": "Python 3 (ipykernel)",
   "language": "python",
   "name": "python3"
  },
  "language_info": {
   "codemirror_mode": {
    "name": "ipython",
    "version": 3
   },
   "file_extension": ".py",
   "mimetype": "text/x-python",
   "name": "python",
   "nbconvert_exporter": "python",
   "pygments_lexer": "ipython3",
   "version": "3.11.3"
  }
 },
 "nbformat": 4,
 "nbformat_minor": 5
}
