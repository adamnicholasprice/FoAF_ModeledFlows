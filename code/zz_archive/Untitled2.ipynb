{
 "cells": [
  {
   "cell_type": "code",
   "execution_count": 16,
   "id": "18eeffe0-6902-4fcf-82cf-50f6bf5017db",
   "metadata": {},
   "outputs": [],
   "source": [
    "import pandas as pd\n",
    "import numpy as np\n",
    "import dataretrieval.nwis as nwis\n",
    "import pynhd as nhd\n",
    "from pynhd import NLDI, WaterData, NHDPlusHR"
   ]
  },
  {
   "cell_type": "code",
   "execution_count": 2,
   "id": "b1254f8f-6736-42be-bdf3-d6d82e69c23c",
   "metadata": {},
   "outputs": [],
   "source": [
    "dat = pd.read_csv(\"../data/dryingRegimes_data_RF.csv\")\n",
    "gages = dat.gage.astype(\"string\").str.zfill(width=8)"
   ]
  },
  {
   "cell_type": "code",
   "execution_count": 4,
   "id": "5857819d-b7db-4f87-83ac-909e00beb90c",
   "metadata": {},
   "outputs": [],
   "source": [
    "siteINFO_huc = nwis.get_info(huc='17', siteType='ST')\n",
    "huc17 = pd.DataFrame(siteINFO_huc[0].site_no).astype(int)\n",
    "huc17.columns = ['gage']\n",
    "\n",
    "NP_HUC17 = pd.merge(dat,huc17,on='gage')"
   ]
  },
  {
   "cell_type": "code",
   "execution_count": 48,
   "id": "bc61ea9a-e690-467f-90f4-8226cd7d159d",
   "metadata": {},
   "outputs": [],
   "source": [
    "NP_summary = NP_HUC17.groupby(\"gage\").size().reset_index(name='counts')\n",
    "\n",
    "NP_gage = pd.DataFrame(NP_HUC17.gage.unique())\n",
    "NP_gage = NP_gage[0].astype(\"string\").str.zfill(width=8)\n",
    "station_id = ', '.join('\"{0}\"'.format(w) for w in NP_gage)"
   ]
  },
  {
   "cell_type": "code",
   "execution_count": 50,
   "id": "2ec0118c-2248-4799-af40-9de8092293f9",
   "metadata": {},
   "outputs": [],
   "source": [
    "station_id = \"13152500\"\n",
    "\n",
    "nldi = NLDI()\n",
    "\n",
    "flw_main = nldi.navigate_byid(\n",
    "    fsource=\"nwissite\",\n",
    "    fid=f\"USGS-{station_id}\",\n",
    "    navigation=\"upstreamMain\",\n",
    "    source=\"flowlines\",\n",
    "    distance=1000,\n",
    ")"
   ]
  },
  {
   "cell_type": "code",
   "execution_count": 61,
   "id": "04cf601d-22eb-4cc7-a6ef-03e2d9c6c773",
   "metadata": {},
   "outputs": [
    {
     "data": {
      "text/plain": [
       "Service configurations:\n",
       "    URL: https://hydro.nationalmap.gov/arcgis/rest/services/NHDPlus_HR/MapServer\n",
       "    Layer: NHDPlusGage (0)\n",
       "    Max record count: 1000\n",
       "    Query format: json\n",
       "    Units: meters\n",
       "    Extent: (-176.674, -14.610, 166.711, 70.608)\n",
       "    Feature types: None"
      ]
     },
     "execution_count": 61,
     "metadata": {},
     "output_type": "execute_result"
    }
   ],
   "source": [
    "pynhd.NHDPlusHR(\"gage\")"
   ]
  },
  {
   "cell_type": "code",
   "execution_count": 52,
   "id": "c5222f6e-949d-46be-b41c-9a289d6b4ee8",
   "metadata": {},
   "outputs": [],
   "source": [
    "flw_trib = nldi.navigate_byid(\n",
    "    fsource=\"nwissite\",\n",
    "    fid=f\"USGS-{station_id}\",\n",
    "    navigation=\"upstreamTributaries\",\n",
    "    source=\"flowlines\",\n",
    "    distance=1000,\n",
    ")"
   ]
  },
  {
   "cell_type": "code",
   "execution_count": 67,
   "id": "35161ced-380e-4a66-922a-2aff907dceee",
   "metadata": {},
   "outputs": [
    {
     "data": {
      "text/plain": [
       "<pandas.core.indexing._LocIndexer at 0x7fa953fdcd60>"
      ]
     },
     "execution_count": 67,
     "metadata": {},
     "output_type": "execute_result"
    }
   ],
   "source": [
    "siteINFO_huc[0].loc"
   ]
  },
  {
   "cell_type": "code",
   "execution_count": null,
   "id": "b2fb0aae-c26f-4a80-b626-2b45e16804be",
   "metadata": {},
   "outputs": [],
   "source": [
    "nldi.comid_byloc()"
   ]
  }
 ],
 "metadata": {
  "kernelspec": {
   "display_name": "Python 3",
   "language": "python",
   "name": "python3"
  },
  "language_info": {
   "codemirror_mode": {
    "name": "ipython",
    "version": 3
   },
   "file_extension": ".py",
   "mimetype": "text/x-python",
   "name": "python",
   "nbconvert_exporter": "python",
   "pygments_lexer": "ipython3",
   "version": "3.9.5"
  }
 },
 "nbformat": 4,
 "nbformat_minor": 5
}
