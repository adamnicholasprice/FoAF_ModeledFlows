{
 "cells": [
  {
   "cell_type": "code",
   "execution_count": null,
   "id": "42643ab2-95c5-4705-a79d-b4ecb5bc0b43",
   "metadata": {},
   "outputs": [],
   "source": [
    "import multiprocessing\n",
    "import os\n",
    "import fsspec\n",
    "import pandas as pd\n",
    "import xarray as xr\n",
    "from tqdm import tqdm\n",
    "\n",
    "#https://noaa-nwm-retro-v2-zarr-pds.s3.amazonaws.com/index.html\n",
    "#https://noaa-nwm-retrospective-2-1-zarr-pds.s3.amazonaws.com/index.html\n",
    "#        noaa-nwm-retrospective-2-1-zarr-pds/\n",
    "#https://noaa-nwm-retrospective-2-1-pds.s3.amazonaws.com/index.html\n",
    "\n",
    "\n",
    "\n",
    "# #%%\n",
    "# usgs_stations = pd.read_csv(\n",
    "# # change the path to the path of the csv file: NWM_USGS_Artifical_Path.csv or NWM_USGS_Natural_Flow.csv\n",
    "#     '/home/ismart/usgs_test.csv')\n",
    "# usgs_stations['USGS_ID'] = usgs_stations['USGS_ID'].apply(lambda x: '{:0>8}'.format(x))\n",
    "# #%%\n",
    "fs = fsspec.filesystem('s3', anon=True)\n",
    "_file = fs.glob('noaa-nwm-retrospective-2-1-zarr-pds/chrtout.zarr')\n",
    "\n",
    "ds = xr.open_dataset(fs.get_mapper(_file[0]), engine='zarr', backend_kwargs={'consolidated': True})\n"
   ]
  },
  {
   "cell_type": "code",
   "execution_count": null,
   "id": "a08ccf6a-139f-46c1-9a2e-2c44d923584c",
   "metadata": {},
   "outputs": [],
   "source": [
    "#%%\n",
    "def download_nwm_stations(row):\n",
    "    try:\n",
    "        print('\\nRunning station row : ', row, ' | NWM_ID : ', usgs_stations.loc[row, 'NWM_ID'], ' | USGS_ID : ',\n",
    "              usgs_stations.loc[row, 'USGS_ID'],'...')\n",
    "        Forecast_point = ds['streamflow'].sel(feature_id=int(usgs_stations.loc[row, 'NWM_ID']))\n",
    "        # Forecast_point = ds['velocity'].sel(feature_id=int(usgs_stations.loc[row, 'NWM_ID']))\n",
    "        Forecast_point = Forecast_point.to_pandas().to_frame()\n",
    "        Forecast_point.columns = [usgs_stations.loc[row, 'NWM_ID']]\n",
    "        # Forecast_point.to_csv(os.path.join(os.path.dirname(os.path.abspath(__file__)), 'data',\n",
    "        #                                    str(usgs_stations.loc[row, 'NWM_ID']) + '.csv'))\n",
    "        Forecast_point.to_csv(os.path.join('/home/ismart', str(usgs_stations.loc[row, 'NWM_ID']) + '.csv'))\n",
    "        \n",
    "    except:\n",
    "        print('\\nError with station row : ', row, ' | NWM_ID : ', usgs_stations.loc[row, 'NWM_ID'], ' | USGS_ID : ',\n",
    "              usgs_stations.loc[row, 'USGS_ID'])\n",
    "        pass\n",
    "    return 0\n",
    "\n",
    "\n",
    "def run(usgs_stations):\n",
    "    print('Getting list of files...')\n",
    "    files = [e for e in usgs_stations.index]\n",
    "    pool = multiprocessing.Pool(processes=6)\n",
    "    print('Downloading NWM Stations ...')\n",
    "    _stats = tqdm(pool.map(download_nwm_stations, files), desc='Processing rows', total=len(files))\n",
    "\n",
    "if __name__ == '__main__':\n",
    "    run(usgs_stations)"
   ]
  }
 ],
 "metadata": {
  "kernelspec": {
   "display_name": "Python 3",
   "language": "python",
   "name": "python3"
  },
  "language_info": {
   "codemirror_mode": {
    "name": "ipython",
    "version": 3
   },
   "file_extension": ".py",
   "mimetype": "text/x-python",
   "name": "python",
   "nbconvert_exporter": "python",
   "pygments_lexer": "ipython3",
   "version": "3.9.5"
  }
 },
 "nbformat": 4,
 "nbformat_minor": 5
}
