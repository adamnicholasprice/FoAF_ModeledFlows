{
 "cells": [
  {
   "cell_type": "code",
   "execution_count": 2,
   "id": "b8da9211-43ff-432d-acd2-f7e2da57db5d",
   "metadata": {},
   "outputs": [
    {
     "name": "stderr",
     "output_type": "stream",
     "text": [
      "/opt/miniconda3/lib/python3.9/site-packages/dataretrieval/nadp.py:44: UserWarning: GDAL not installed. Some functions will not work.\n",
      "  warnings.warn('GDAL not installed. Some functions will not work.')\n"
     ]
    }
   ],
   "source": [
    "import netCDF4 as nc\n",
    "import pandas as pd\n",
    "import numpy as np\n",
    "import matplotlib.pyplot as plt\n",
    "import geopandas\n",
    "import xarray as xr\n",
    "import matplotlib.colors as pltc\n",
    "import geopandas\n",
    "import dataretrieval.nwis as nwis\n",
    "import contextily as cx\n",
    "\n",
    "## Cubic feet to cubic meters conversion factor\n",
    "cfs_2_cms = 0.0283168466\n"
   ]
  },
  {
   "cell_type": "markdown",
   "id": "39a6ea28-ca9d-44db-88f9-8555fda035b1",
   "metadata": {},
   "source": [
    "#### Load NP sites from Drying Regimes"
   ]
  },
  {
   "cell_type": "code",
   "execution_count": 3,
   "id": "ba480edf-0f07-42d5-9f02-2b326c3a7e70",
   "metadata": {},
   "outputs": [],
   "source": [
    "pnwNP = pd.read_csv(\"../data/pnwNP_Info.csv\")"
   ]
  },
  {
   "cell_type": "markdown",
   "id": "b366e9e1-f09b-4e35-9647-f3ebad49cc68",
   "metadata": {},
   "source": [
    "#### Cross-reference with CIG provided shapefile to get stream segment"
   ]
  },
  {
   "cell_type": "code",
   "execution_count": 5,
   "id": "513238af-aafc-408a-898f-361945ed89a1",
   "metadata": {},
   "outputs": [
    {
     "data": {
      "text/plain": [
       "array([ 715,  774,  842,  866,  867,  868,  885,  909,  965, 1095, 1328,\n",
       "       1338, 1565, 1913, 1928, 2005, 2008, 3372, 4252, 4557, 4865, 5164,\n",
       "       5217, 5359, 5364, 5610, 5633])"
      ]
     },
     "execution_count": 5,
     "metadata": {},
     "output_type": "execute_result"
    }
   ],
   "source": [
    "shp = geopandas.read_file(\"../data/VIC_UW/shapefiles/columbia_seg.shp\")\n",
    "shp = shp.loc[shp['POI_ID'].isin(pnwNP[\"comid\"])]\n",
    "seg_ids = np.array(shp['seg_id'])"
   ]
  },
  {
   "cell_type": "markdown",
   "id": "a0fd70ff-18c4-4755-86d7-4f053acbac2e",
   "metadata": {
    "tags": []
   },
   "source": [
    "#### Get VIC data for corresponding stream segments and write to new netCDF."
   ]
  },
  {
   "cell_type": "code",
   "execution_count": null,
   "id": "74a105cf-18e5-451d-95ce-3e2caf49dc88",
   "metadata": {},
   "outputs": [],
   "source": [
    "## Open modeled datasets\n",
    "data = xr.open_mfdataset('../data/VIC_UW/vic_historical_first_route_all.nc')\n",
    "\n",
    "## Extract data at segment locations.\n",
    "data = data.where(data['reachID'].isin(seg_ids),drop=True)\n",
    "\n",
    "# # sort seg_ids in ascending order (not necessary)\n",
    "# data['seg'] = sorted(seg_ids)\n",
    "\n",
    "# # make new output directory\n",
    "# Path(f'/home/disk/rocinante/rawrgers/Data/Data_Requests/Rupp/nwfsc_data/{hydro}/projections/first_route/{model}/{scenario}/').mkdir(parents=True, exist_ok=True)\n",
    "\n",
    "\n",
    "# # # save the reachID (i.e., seg_ids) and IRFroutedRunoff (i.e., streamflow) to new netcdf file\n",
    "# gage = '13152500'\n",
    "# name = '../data/VIC_UW/' + gage\n",
    "name = \"../data/pnwNP_Gages_VIC.nc\"\n",
    "\n",
    "# out = data[['reachID','IRFroutedRunoff']].to_netcdf(name)"
   ]
  },
  {
   "cell_type": "markdown",
   "id": "56b11f4e-6afa-4ff0-b7b6-896d07ad9448",
   "metadata": {
    "tags": []
   },
   "source": [
    "#### Get PRMS data for corresponding stream segments and write to new netCDF."
   ]
  },
  {
   "cell_type": "code",
   "execution_count": 12,
   "id": "6d3f9f8d-a65a-4e49-8e2d-7368786fa877",
   "metadata": {},
   "outputs": [],
   "source": [
    "## Open modeled datasets\n",
    "data = xr.open_mfdataset('../data/VIC_UW/prms_historical_first_route_all.nc')\n",
    "\n",
    "## Extract data at segment locations.\n",
    "data = data.where(data['reachID'].isin(seg_ids),drop=True)\n",
    "\n",
    "# # sort seg_ids in ascending order (not necessary)\n",
    "# data['seg'] = sorted(seg_ids)\n",
    "\n",
    "# # make new output directory\n",
    "# Path(f'/home/disk/rocinante/rawrgers/Data/Data_Requests/Rupp/nwfsc_data/{hydro}/projections/first_route/{model}/{scenario}/').mkdir(parents=True, exist_ok=True)\n",
    "\n",
    "\n",
    "# # # save the reachID (i.e., seg_ids) and IRFroutedRunoff (i.e., streamflow) to new netcdf file\n",
    "# gage = '13152500'\n",
    "# name = '../data/VIC_UW/' + gage\n",
    "name = \"../data/pnwNP_Gages_PRMS.nc\"\n",
    "\n",
    "# out = data[['reachID','IRFroutedRunoff']].to_netcdf(name)"
   ]
  },
  {
   "cell_type": "markdown",
   "id": "77433210-dc77-4262-813c-5b768b4c7f69",
   "metadata": {},
   "source": [
    "## Example for Matt"
   ]
  },
  {
   "cell_type": "code",
   "execution_count": 20,
   "id": "bfe3efb7-d1d1-40d7-b986-158a4ba4ff03",
   "metadata": {},
   "outputs": [
    {
     "data": {
      "text/html": [
       "<div>\n",
       "<style scoped>\n",
       "    .dataframe tbody tr th:only-of-type {\n",
       "        vertical-align: middle;\n",
       "    }\n",
       "\n",
       "    .dataframe tbody tr th {\n",
       "        vertical-align: top;\n",
       "    }\n",
       "\n",
       "    .dataframe thead th {\n",
       "        text-align: right;\n",
       "    }\n",
       "</style>\n",
       "<table border=\"1\" class=\"dataframe\">\n",
       "  <thead>\n",
       "    <tr style=\"text-align: right;\">\n",
       "      <th></th>\n",
       "      <th></th>\n",
       "      <th>reachID</th>\n",
       "      <th>IRFroutedRunoff</th>\n",
       "    </tr>\n",
       "    <tr>\n",
       "      <th>time</th>\n",
       "      <th>seg</th>\n",
       "      <th></th>\n",
       "      <th></th>\n",
       "    </tr>\n",
       "  </thead>\n",
       "  <tbody>\n",
       "    <tr>\n",
       "      <th>1950-01-01</th>\n",
       "      <th>0</th>\n",
       "      <td>909.0</td>\n",
       "      <td>1.769737</td>\n",
       "    </tr>\n",
       "    <tr>\n",
       "      <th>1950-01-02</th>\n",
       "      <th>0</th>\n",
       "      <td>909.0</td>\n",
       "      <td>3.594224</td>\n",
       "    </tr>\n",
       "    <tr>\n",
       "      <th>1950-01-03</th>\n",
       "      <th>0</th>\n",
       "      <td>909.0</td>\n",
       "      <td>4.431946</td>\n",
       "    </tr>\n",
       "    <tr>\n",
       "      <th>1950-01-04</th>\n",
       "      <th>0</th>\n",
       "      <td>909.0</td>\n",
       "      <td>4.676565</td>\n",
       "    </tr>\n",
       "    <tr>\n",
       "      <th>1950-01-05</th>\n",
       "      <th>0</th>\n",
       "      <td>909.0</td>\n",
       "      <td>4.722897</td>\n",
       "    </tr>\n",
       "    <tr>\n",
       "      <th>...</th>\n",
       "      <th>...</th>\n",
       "      <td>...</td>\n",
       "      <td>...</td>\n",
       "    </tr>\n",
       "    <tr>\n",
       "      <th>2011-12-27</th>\n",
       "      <th>0</th>\n",
       "      <td>909.0</td>\n",
       "      <td>6.929360</td>\n",
       "    </tr>\n",
       "    <tr>\n",
       "      <th>2011-12-28</th>\n",
       "      <th>0</th>\n",
       "      <td>909.0</td>\n",
       "      <td>7.278639</td>\n",
       "    </tr>\n",
       "    <tr>\n",
       "      <th>2011-12-29</th>\n",
       "      <th>0</th>\n",
       "      <td>909.0</td>\n",
       "      <td>9.860347</td>\n",
       "    </tr>\n",
       "    <tr>\n",
       "      <th>2011-12-30</th>\n",
       "      <th>0</th>\n",
       "      <td>909.0</td>\n",
       "      <td>12.500869</td>\n",
       "    </tr>\n",
       "    <tr>\n",
       "      <th>2011-12-31</th>\n",
       "      <th>0</th>\n",
       "      <td>909.0</td>\n",
       "      <td>11.070797</td>\n",
       "    </tr>\n",
       "  </tbody>\n",
       "</table>\n",
       "<p>22645 rows × 2 columns</p>\n",
       "</div>"
      ],
      "text/plain": [
       "                reachID  IRFroutedRunoff\n",
       "time       seg                          \n",
       "1950-01-01 0      909.0         1.769737\n",
       "1950-01-02 0      909.0         3.594224\n",
       "1950-01-03 0      909.0         4.431946\n",
       "1950-01-04 0      909.0         4.676565\n",
       "1950-01-05 0      909.0         4.722897\n",
       "...                 ...              ...\n",
       "2011-12-27 0      909.0         6.929360\n",
       "2011-12-28 0      909.0         7.278639\n",
       "2011-12-29 0      909.0         9.860347\n",
       "2011-12-30 0      909.0        12.500869\n",
       "2011-12-31 0      909.0        11.070797\n",
       "\n",
       "[22645 rows x 2 columns]"
      ]
     },
     "execution_count": 20,
     "metadata": {},
     "output_type": "execute_result"
    }
   ],
   "source": [
    "seg_ids = [909]\n",
    "\n",
    "## Open modeled datasets\n",
    "data = xr.open_mfdataset('../data/VIC_UW/vic_historical_first_route_all.nc')\n",
    "\n",
    "## Extract data at segment locations.\n",
    "data = data.where(data['reachID'].isin(seg_ids),drop=True)\n",
    "\n",
    "dat = data[['reachID','IRFroutedRunoff']]\n",
    "comb = dat.to_dataframe()\n",
    "comb"
   ]
  },
  {
   "cell_type": "code",
   "execution_count": 93,
   "id": "d6ab06d4-5050-4033-952e-e8943e7eea04",
   "metadata": {},
   "outputs": [
    {
     "data": {
      "text/html": [
       "<div>\n",
       "<style scoped>\n",
       "    .dataframe tbody tr th:only-of-type {\n",
       "        vertical-align: middle;\n",
       "    }\n",
       "\n",
       "    .dataframe tbody tr th {\n",
       "        vertical-align: top;\n",
       "    }\n",
       "\n",
       "    .dataframe thead th {\n",
       "        text-align: right;\n",
       "    }\n",
       "</style>\n",
       "<table border=\"1\" class=\"dataframe\">\n",
       "  <thead>\n",
       "    <tr style=\"text-align: right;\">\n",
       "      <th></th>\n",
       "      <th>time</th>\n",
       "      <th>streamflowVIC</th>\n",
       "    </tr>\n",
       "  </thead>\n",
       "  <tbody>\n",
       "    <tr>\n",
       "      <th>0</th>\n",
       "      <td>1950-01-01</td>\n",
       "      <td>1.552698</td>\n",
       "    </tr>\n",
       "    <tr>\n",
       "      <th>1</th>\n",
       "      <td>1950-01-02</td>\n",
       "      <td>2.379748</td>\n",
       "    </tr>\n",
       "    <tr>\n",
       "      <th>2</th>\n",
       "      <td>1950-01-03</td>\n",
       "      <td>2.383910</td>\n",
       "    </tr>\n",
       "    <tr>\n",
       "      <th>3</th>\n",
       "      <td>1950-01-04</td>\n",
       "      <td>2.380371</td>\n",
       "    </tr>\n",
       "    <tr>\n",
       "      <th>4</th>\n",
       "      <td>1950-01-05</td>\n",
       "      <td>2.376831</td>\n",
       "    </tr>\n",
       "    <tr>\n",
       "      <th>...</th>\n",
       "      <td>...</td>\n",
       "      <td>...</td>\n",
       "    </tr>\n",
       "    <tr>\n",
       "      <th>22640</th>\n",
       "      <td>2011-12-27</td>\n",
       "      <td>2.257646</td>\n",
       "    </tr>\n",
       "    <tr>\n",
       "      <th>22641</th>\n",
       "      <td>2011-12-28</td>\n",
       "      <td>2.446745</td>\n",
       "    </tr>\n",
       "    <tr>\n",
       "      <th>22642</th>\n",
       "      <td>2011-12-29</td>\n",
       "      <td>7.097136</td>\n",
       "    </tr>\n",
       "    <tr>\n",
       "      <th>22643</th>\n",
       "      <td>2011-12-30</td>\n",
       "      <td>9.468021</td>\n",
       "    </tr>\n",
       "    <tr>\n",
       "      <th>22644</th>\n",
       "      <td>2011-12-31</td>\n",
       "      <td>4.568583</td>\n",
       "    </tr>\n",
       "  </tbody>\n",
       "</table>\n",
       "<p>22645 rows × 2 columns</p>\n",
       "</div>"
      ],
      "text/plain": [
       "            time  streamflowVIC\n",
       "0     1950-01-01       1.552698\n",
       "1     1950-01-02       2.379748\n",
       "2     1950-01-03       2.383910\n",
       "3     1950-01-04       2.380371\n",
       "4     1950-01-05       2.376831\n",
       "...          ...            ...\n",
       "22640 2011-12-27       2.257646\n",
       "22641 2011-12-28       2.446745\n",
       "22642 2011-12-29       7.097136\n",
       "22643 2011-12-30       9.468021\n",
       "22644 2011-12-31       4.568583\n",
       "\n",
       "[22645 rows x 2 columns]"
      ]
     },
     "execution_count": 93,
     "metadata": {},
     "output_type": "execute_result"
    }
   ],
   "source": [
    "maladVIC = pd.read_csv('../data/UW_StreamflowOutput/historical_livneh_VIC_P1-WOODGOOD-streamflow-1.0.csv',comment='#')\n",
    "maladVIC['date'] = pd.to_datetime(maladVIC['date'])\n",
    "maladVIC.columns = ['time','streamflowVIC']\n",
    "maladVIC['streamflowVIC'] = maladVIC['streamflowVIC'] * cfs_2_cms\n",
    "maladVIC"
   ]
  },
  {
   "cell_type": "markdown",
   "id": "7bb5ac6c-6b53-4421-b4bc-bcf12a39d23f",
   "metadata": {},
   "source": [
    "## Scratch space"
   ]
  }
 ],
 "metadata": {
  "kernelspec": {
   "display_name": "Python 3",
   "language": "python",
   "name": "python3"
  },
  "language_info": {
   "codemirror_mode": {
    "name": "ipython",
    "version": 3
   },
   "file_extension": ".py",
   "mimetype": "text/x-python",
   "name": "python",
   "nbconvert_exporter": "python",
   "pygments_lexer": "ipython3",
   "version": "3.9.5"
  }
 },
 "nbformat": 4,
 "nbformat_minor": 5
}
