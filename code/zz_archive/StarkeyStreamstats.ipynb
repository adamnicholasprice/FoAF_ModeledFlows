{
 "cells": [
  {
   "cell_type": "code",
   "execution_count": 2,
   "id": "9a16c50f-4651-42cc-97a6-52b390f3ddfe",
   "metadata": {
    "tags": []
   },
   "outputs": [
    {
     "name": "stderr",
     "output_type": "stream",
     "text": [
      "/Library/Frameworks/Python.framework/Versions/3.11/lib/python3.11/site-packages/dataretrieval/nadp.py:44: UserWarning: GDAL not installed. Some functions will not work.\n",
      "  warnings.warn('GDAL not installed. Some functions will not work.')\n"
     ]
    }
   ],
   "source": [
    "import pandas as pd\n",
    "import numpy as np\n",
    "import matplotlib.pyplot as plt\n",
    "import matplotlib.colors as pltc\n",
    "import geopandas\n",
    "import dataretrieval.nwis as nwis\n",
    "import contextily as cx\n",
    "from matplotlib.ticker import FormatStrFormatter\n",
    "import matplotlib as mpl\n",
    "from pynhd import NLDI, WaterData, NHDPlusHR, NHD\n",
    "import pynhd as nhd\n",
    "import seaborn as sns\n",
    "\n",
    "mpl.rcParams['pdf.fonttype'] = 42"
   ]
  },
  {
   "cell_type": "code",
   "execution_count": null,
   "id": "afea8a26-1c0e-4c99-835b-f957b19223ef",
   "metadata": {},
   "outputs": [],
   "source": [
    "starkey = geopandas.read_file(\"../data/starkey/mygeodata/Starkey_Experimental_Forest_and_Range_Streams.gdb-line.shp\") #https://www.fs.usda.gov/rds/archive/catalog/RDS-2018-0019\n",
    "s_type = {'Perennial': 'perennial',\n",
    "          'Intermittent': 'non-perennial' ,\n",
    "          'Ephemeral': 'non-perennial'}\n",
    "\n",
    "starkey['stype']=starkey['NHDType'].map(s_type)\n",
    "starkey['SUETstype']=starkey['StarkeyTyp'].map(s_type)\n",
    "\n",
    "# starkey_repro = starkey.to_crs(epsg=4269)\n",
    "starkey_repro = starkey.to_crs(epsg=3857)"
   ]
  },
  {
   "cell_type": "code",
   "execution_count": null,
   "id": "3b8e7300-1329-45d4-9b37-6a71da0caeb3",
   "metadata": {},
   "outputs": [],
   "source": [
    "starkey_repro = starkey.to_crs(epsg=3857)\n",
    "\n",
    "plt.rcParams.update({'font.size': 18})\n",
    "\n",
    "color_map = {'perennial': 'blue',\n",
    "          'non-perennial': 'green'}\n",
    "\n",
    "f,ax = plt.subplots(figsize=(15, 15))\n",
    "\n",
    "starkey_repro.plot(ax=ax,legend=True,color = starkey_repro['stype'].map(color_map),alpha= .6)\n",
    "\n",
    "# ax.arrow(-112, 48, 0, 0.75, length_includes_head=True,\n",
    "#           head_width=0.4, head_length=0.6, overhang=.25, facecolor='k')\n",
    "# ax.text(x=-112.2, y=48.8, s='N', fontsize=30)\n",
    "ax.set_xlabel(\"Longitude (decDeg)\")\n",
    "ax.set_ylabel(\"Latitude (decDeg)\")\n",
    "ax.yaxis.set_major_formatter(FormatStrFormatter('%.1f'))\n",
    "ax.xaxis.set_major_formatter(FormatStrFormatter('%.1f'))\n",
    "cx.add_basemap(ax ,reset_extent= False,zoom=15,source=cx.providers.USGS.USTopo,alpha=0.75)"
   ]
  },
  {
   "cell_type": "code",
   "execution_count": null,
   "id": "2e65efcb-462a-4e8e-9d65-82a9e958d09f",
   "metadata": {},
   "outputs": [],
   "source": [
    "# starkey_repro = starkey.to_crs(epsg=3857)\n",
    "\n",
    "plt.rcParams.update({'font.size': 18})\n",
    "\n",
    "color_map = {'perennial': 'blue',\n",
    "          'non-perennial': 'green'}\n",
    "\n",
    "f,ax = plt.subplots(figsize=(15, 15))\n",
    "\n",
    "starkey_repro.plot(ax=ax,legend=True,color = starkey_repro['SUETstype'].map(color_map))\n",
    "\n",
    "\n",
    "ax.arrow(-13190000, 5665000, 0, 2000, length_includes_head=True,\n",
    "          head_width=500, head_length=1000, overhang=.25, facecolor='k')\n",
    "ax.text(x=-13190280, y=5664400, s='N', fontsize=30)\n",
    "ax.set_xlabel(\"UTM Easting (m)\")\n",
    "ax.set_ylabel(\"UTM Northing (m)\")\n",
    "ax.yaxis.set_major_formatter(FormatStrFormatter('%.1f'))\n",
    "ax.xaxis.set_major_formatter(FormatStrFormatter('%.1f'))\n",
    "plt.locator_params(axis='y', nbins=6)\n",
    "plt.locator_params(axis='x', nbins=4)\n",
    "cx.add_basemap(ax ,reset_extent= False,zoom=15,source=cx.providers.USGS.USTopo)\n",
    "plt.savefig('../docs/starkey_NPmap.png',dpi=300)"
   ]
  },
  {
   "cell_type": "code",
   "execution_count": null,
   "id": "bac5564c-72a5-4e12-b338-9ec881ea024a",
   "metadata": {},
   "outputs": [],
   "source": [
    "f,ax = plt.subplots(figsize=(7, 7))\n",
    "\n",
    "\n",
    "starkey_count = starkey.groupby(['stype'])['Shape_Leng'].agg('sum').to_frame()\n",
    "plt.rcParams.update({'font.size': 18})\n",
    "colors = ['green', 'blue']\n",
    "explode = (0, 0.1)\n",
    "plt.pie(starkey_count['Shape_Leng'], \n",
    "        startangle=90, \n",
    "        colors=colors, \n",
    "        wedgeprops={'edgecolor': 'black'}, \n",
    "        autopct='%1.f%%', \n",
    "        explode=explode,\n",
    "        labels = starkey_count.index)\n",
    "plt.savefig('../docs/starkey_NPpie.png',dpi=600)"
   ]
  },
  {
   "cell_type": "code",
   "execution_count": null,
   "id": "752f250e-7fbd-4773-9fe4-96db56d5fe69",
   "metadata": {},
   "outputs": [],
   "source": [
    "f,ax = plt.subplots(figsize=(7, 7))\n",
    "\n",
    "\n",
    "starkey_count = starkey.groupby(['SUETstype'])['Shape_Leng'].agg('sum').to_frame()\n",
    "plt.rcParams.update({'font.size': 18})\n",
    "colors = ['green', 'blue']\n",
    "explode = (0, 0.1)\n",
    "plt.pie(starkey_count['Shape_Leng'], \n",
    "        startangle=90, \n",
    "        colors=colors, \n",
    "        wedgeprops={'edgecolor': 'black'}, \n",
    "        autopct='%1.f%%', \n",
    "        explode=explode,\n",
    "        labels = starkey_count.index)\n",
    "plt.savefig('../docs/starkey_SUETNPpie.png',dpi=600,bbox_inches = \"tight\")"
   ]
  },
  {
   "cell_type": "code",
   "execution_count": null,
   "id": "1ff7f68a-0b6b-4181-a6a3-19594f2e54c5",
   "metadata": {},
   "outputs": [],
   "source": [
    "from affine import Affine\n",
    "import xarray as xr\n",
    "\n",
    "dataarray = xr.open_rasterio('../data/starkey/SPP_MEAN.tif')\n",
    "\n",
    "# df = dataarray[0].to_pandas()ii\n",
    "\n",
    "transform = Affine.from_gdal(*dataarray.attrs['transform'])\n",
    "# Create meshgrid from geotiff\n",
    "nx, ny = dataarray.sizes['x'], dataarray.sizes['y']\n",
    "x, y = np.meshgrid(np.arange(nx), np.arange(ny)) * transform\n"
   ]
  },
  {
   "cell_type": "code",
   "execution_count": null,
   "id": "e75cb5aa-cd3f-48af-892f-16eb62dbbbfa",
   "metadata": {},
   "outputs": [],
   "source": [
    "fig = plt.figure(figsize=(16,8))\n",
    "ax = fig.add_subplot(111, projection=crs)\n",
    "ax.coastlines(resolution='10m', alpha=0.1)\n",
    "ax.contourf(x, y, da.variable.data[0], cmap='Greys')\n",
    "ax.set_extent([lon_min, lon_max, lat_min, lat_max])\n",
    "plt.show()"
   ]
  },
  {
   "cell_type": "code",
   "execution_count": 5,
   "id": "ec639b56-20e3-4f88-b151-8cb26f46a31b",
   "metadata": {
    "tags": []
   },
   "outputs": [],
   "source": [
    "## https://github.com/hyriver/pynhd\n",
    "\n",
    "\n",
    "usfs = geopandas.read_file(\"../../data/starkey/S_USA.AdministrativeForest/S_USA.AdministrativeForest.shp\")\n",
    "# starkey_repro = starkey.to_crs(epsg=4269)\n",
    "usfs = usfs[usfs['REGION']=='06']\n",
    "walwat = usfs[usfs['FORESTNUMB']=='16']"
   ]
  },
  {
   "cell_type": "code",
   "execution_count": null,
   "id": "f8fb8b46-3be9-4860-b9ff-c9c1e7f8598f",
   "metadata": {
    "tags": []
   },
   "outputs": [],
   "source": [
    "walwat = walwat.reset_index(drop=True)\n",
    "\n",
    "hr = nhd.NHD(\"flowline_hr\")\n",
    "nhdp_hr = hr.bygeom(walwat.geometry[0].bounds)\n",
    "nhdp_hr = nhdp_hr.to_crs(epsg=4269)"
   ]
  },
  {
   "cell_type": "code",
   "execution_count": null,
   "id": "50a1c45b-1b51-4acf-ada9-8167fbf889ed",
   "metadata": {
    "tags": []
   },
   "outputs": [],
   "source": [
    "## Just \n",
    "nhdp_hrNP = nhdp_hr[(nhdp_hr[\"fcode\"]<=46007) & (nhdp_hr[\"ftype\"]==460)]\n",
    "s_type = {46000: 'perennial',\n",
    "             46006:'perennial',\n",
    "          46003: 'non-perennial' ,\n",
    "          46007: 'non-perennial'}\n",
    "\n",
    "nhdp_hrNP['stype']=nhdp_hrNP['fcode'].map(s_type)\n"
   ]
  },
  {
   "cell_type": "code",
   "execution_count": null,
   "id": "0afeb73a-5c83-49ea-ab77-6ea560a87cc2",
   "metadata": {
    "tags": []
   },
   "outputs": [],
   "source": [
    "nhdp_hr"
   ]
  },
  {
   "cell_type": "code",
   "execution_count": null,
   "id": "c39a8e96-3d41-4da7-a8ef-d7a0a91ab32b",
   "metadata": {},
   "outputs": [],
   "source": [
    "walwatNP = geopandas.clip(nhdp_hrNP, walwat)"
   ]
  },
  {
   "cell_type": "code",
   "execution_count": null,
   "id": "e0b7acd9-5a1a-4713-a5c7-b4ddd1cec264",
   "metadata": {},
   "outputs": [],
   "source": [
    "f,ax = plt.subplots(figsize=(15, 15))\n",
    "\n",
    "walwatNP_repro = walwatNP.to_crs(epsg=3857)\n",
    "walwat_repro = walwat.to_crs(epsg=3857)\n",
    "\n",
    "# walwatNP.plot(ax=ax,alpha = 0.5,color = walwatNP['stype'].map(color_map))\n",
    "# walwat.plot(ax=ax,edgecolor=\"black\",facecolor=\"none\")\n",
    "\n",
    "# plt.rcParams.update({'font.size': 18})\n",
    "# ax.set_xlabel(\"Longitude (decDeg)\")\n",
    "# ax.set_ylabel(\"Latitude (decDeg)\")\n",
    "# ax.yaxis.set_major_formatter(FormatStrFormatter('%.1f'))\n",
    "# ax.xaxis.set_major_formatter(FormatStrFormatter('%.1f'))\n",
    "\n",
    "# starkey_repro = starkey.to_crs(epsg=3857)\n",
    "\n",
    "plt.rcParams.update({'font.size': 18})\n",
    "\n",
    "color_map = {'perennial': 'blue',\n",
    "          'non-perennial': 'green'}\n",
    "\n",
    "walwatNP_repro.plot(ax=ax,legend=True,color = walwatNP_repro['stype'].map(color_map))\n",
    "\n",
    "\n",
    "ax.arrow(-13220000, 5785000, 0, 20000, length_includes_head=True,\n",
    "          head_width=5000, head_length=10000, overhang=.25, facecolor='k')\n",
    "ax.text(x=-13224500, y=5775000, s='N', fontsize=30)\n",
    "ax.set_xlabel(\"UTM Easting (m)\")\n",
    "ax.set_ylabel(\"UTM Northing (m)\")\n",
    "ax.yaxis.set_major_formatter(FormatStrFormatter('%.1f'))\n",
    "ax.xaxis.set_major_formatter(FormatStrFormatter('%.1f'))\n",
    "plt.locator_params(axis='y', nbins=6)\n",
    "plt.locator_params(axis='x', nbins=4)\n",
    "cx.add_basemap(ax ,reset_extent= False,zoom=12,source=cx.providers.USGS.USTopo)\n",
    "plt.savefig('../docs/wilwit_NPmap.png',dpi=300)"
   ]
  },
  {
   "cell_type": "code",
   "execution_count": null,
   "id": "e933ee4c-b2f1-4fbe-9a3c-aeca726bec2d",
   "metadata": {},
   "outputs": [],
   "source": [
    "f,ax = plt.subplots(figsize=(7, 7))\n",
    "# sns.countplot(walwatNP['stype'],\n",
    "#               palette=color_map)\n",
    "\n",
    "\n",
    "walwatNP_count = walwatNP.groupby(['stype'])['lengthkm'].agg('sum').to_frame()\n",
    "plt.rcParams.update({'font.size': 18})\n",
    "colors = ['green', 'blue']\n",
    "explode = (0, 0.1)\n",
    "plt.pie(walwatNP_count['lengthkm'], \n",
    "        startangle=90, \n",
    "        colors=colors, \n",
    "        wedgeprops={'edgecolor': 'black'}, \n",
    "        autopct='%1.f%%', \n",
    "        explode=explode,\n",
    "        labels = walwatNP_count.index)\n",
    "\n",
    "plt.savefig('../docs/wilwit_NPpie.png',dpi=600,bbox_inches = \"tight\")"
   ]
  },
  {
   "cell_type": "code",
   "execution_count": null,
   "id": "742124a8-c589-44e1-86b8-4da941073a45",
   "metadata": {},
   "outputs": [],
   "source": [
    "import netCDF4 as nc\n",
    "import pandas as pd\n",
    "import numpy as np\n",
    "import matplotlib.pyplot as plt\n",
    "import geopandas\n",
    "import xarray as xr\n",
    "import matplotlib.colors as pltc\n",
    "import geopandas\n",
    "import datetime as dt\n",
    "from scipy import stats\n",
    "from sklearn import preprocessing\n",
    "import s3fs\n",
    "import matplotlib as mpl\n",
    "mpl.rcParams['pdf.fonttype'] = 42\n",
    "\n",
    "## Cubic feet to cubic meters conversion factor\n",
    "cfs_2_cms = 0.0283168466\n",
    "\n",
    "\n",
    "## Open NWM from NOAA AWS bucket\n",
    "s3_path = 's3://noaa-nwm-retro-v2-zarr-pds' #nwm 2.0\n",
    "\n",
    "# Connect to S3\n",
    "s3 = s3fs.S3FileSystem(anon=True)\n",
    "store = s3fs.S3Map(root=s3_path, s3=s3, check=False)\n",
    "\n",
    "# load the dataset\n",
    "ds = xr.open_zarr(store=store, consolidated=True)"
   ]
  },
  {
   "cell_type": "code",
   "execution_count": null,
   "id": "b2ecb818-92b1-40e5-aff7-da8253a6887c",
   "metadata": {},
   "outputs": [],
   "source": [
    "## Get NWM 2.0 data\n",
    "# slice all data using a specific reach identifier and time range\n",
    "timerange = slice('1979-01-31', '2020-12-31')\n",
    "reach_id = 23428720\n",
    "dat = ds.sel(feature_id=reach_id,\n",
    "             time=timerange).streamflow.persist() \n",
    "\n",
    "# This step takes a bit longer because it's actually returning the data\n",
    "dat = dat.resample(time='1d').mean()\n",
    "\n",
    "tetNWM = pd.DataFrame(dat.to_pandas())\n",
    "tetNWM['time'] = pd.to_datetime(tetNWM.index)\n",
    "tetNWM.columns = [\"streamflow_NWM2d0\",\"time\"]\n",
    "tetNWM = tetNWM.reset_index(drop=True)"
   ]
  },
  {
   "cell_type": "code",
   "execution_count": null,
   "id": "60c6a4ac-c7c8-4817-a6c6-35011b420d0b",
   "metadata": {},
   "outputs": [],
   "source": [
    "tt = pd.read_excel(\"../data/starkey/station_13318060_mdfDaily_time_series.xlsx\")\n",
    "tt['time'] = pd.to_datetime(tt['Record Date'])\n",
    "tt = tt.replace(r'^\\s*$',np.nan, regex=True)\n",
    "# tt['streamflow_ODWR'] = tt[\"Mean Daily Discharge\"].convert_objects(convert_numeric=True)\n",
    "tt[['streamflow_ODWR']]  = tt[['Mean Daily Discharge']] .apply(pd.to_numeric)\n",
    "starData = tt[['time','streamflow_ODWR']]"
   ]
  },
  {
   "cell_type": "code",
   "execution_count": null,
   "id": "5d27a39a-a98e-4c8a-88ba-0d07e7cb5201",
   "metadata": {},
   "outputs": [],
   "source": [
    "starALL = pd.merge(tetNWM,starData, on='time',how='inner')"
   ]
  },
  {
   "cell_type": "code",
   "execution_count": null,
   "id": "26a7742d-a317-4dec-bfa1-f6f87e4dbc3a",
   "metadata": {},
   "outputs": [],
   "source": [
    "plt.rcParams.update({'font.size': 18})\n",
    "\n",
    "ax = starALL.plot(x = \"time\",figsize = (25,10),logy=True,alpha=0.5, color = ['crimson','grey'])\n",
    "plt.hlines(y=0.1,xmin = '1993-01-01', xmax = '2018-12-31',color = \"purple\", alpha = 0.5, linestyle='--')\n",
    "plt.hlines(y=0.06,xmin = '1993-01-01', xmax = '2018-12-31',color = \"green\", alpha = 0.5, linestyle='--')\n",
    "ax.set_xlabel('Time')\n",
    "ax.set_ylabel('Streamflow $(m^3/s)$')\n",
    "ax.set_title(\"Meadow Creek Above Bear Creek Near Starkey, Oregon\")\n",
    "plt.savefig(\"../docs/starkey_streamflow.pdf\")"
   ]
  },
  {
   "cell_type": "code",
   "execution_count": null,
   "id": "6fabd098-f414-4b8e-b2bc-933c6fee28b0",
   "metadata": {},
   "outputs": [],
   "source": [
    "tt = starALL\n",
    "tt.index = starALL['time']\n",
    "tt =  tt.drop('time',axis=1)\n",
    "tt = pd.DataFrame(preprocessing.minmax_scale(tt))\n",
    "tt.index = starALL['time']\n",
    "tt.columns = [\"streamflow_NWM2d0\",\"streamflow_ODWR\"]"
   ]
  },
  {
   "cell_type": "code",
   "execution_count": null,
   "id": "ccf1023c-253d-4921-92d0-b24b9d0603e3",
   "metadata": {},
   "outputs": [],
   "source": [
    "fig, axs = plt.subplots(figsize=(18,6),subplot_kw=dict(box_aspect=1))\n",
    "fig.suptitle('Meadow Creek Above Bear Creek Near Starkey, Oregon')\n",
    "\n",
    "\n",
    "axs.scatter(x = tt[\"streamflow_ODWR\"],y=tt[\"streamflow_NWM2d0\"],alpha = 0.5,color = 'crimson',s=10)\n",
    "axs.axline(pt,slope=1, color='black')\n",
    "axs.set_ylabel('Normalized NWM 2.0 Streamflow')\n",
    "axs.set_xlabel('Normalized USGS NWIS Streamflow')\n",
    "axs.set_ylim(0,1)\n",
    "axs.set_xlim(0,1)\n",
    "\n",
    "\n",
    "plt.savefig(\"../docs/Starkey_1to1.pdf\",bbox_inches='tight')"
   ]
  },
  {
   "cell_type": "code",
   "execution_count": null,
   "id": "a5749ea8-d996-4c9f-a566-f0bc8a57e82f",
   "metadata": {},
   "outputs": [],
   "source": [
    "nhdp_pie = nhdp_hrNP.groupby(['stype'])['lengthkm'].agg('sum').to_frame()\n",
    "\n",
    "f,ax = plt.subplots(figsize=(7, 7))\n",
    "plt.rcParams.update({'font.size': 18})\n",
    "colors = ['green', 'blue']\n",
    "explode = (0, 0.1)\n",
    "\n",
    "plt.pie(nhdp_pie['lengthkm'], \n",
    "        startangle=90, \n",
    "        colors=colors, \n",
    "        wedgeprops={'edgecolor': 'black'}, \n",
    "        autopct='%1.f%%', \n",
    "        explode=explode,\n",
    "        labels = nhdp_pie.index,\n",
    "        shadow=True)\n",
    "plt.show()"
   ]
  },
  {
   "cell_type": "code",
   "execution_count": null,
   "id": "df9b4fd9-32e5-42f0-b783-b431130ac9eb",
   "metadata": {},
   "outputs": [],
   "source": [
    "color_map = {'perennial': 'blue',\n",
    "          'non-perennial': 'green'}\n",
    "\n",
    "\n",
    "f,ax = plt.subplots(figsize=(15, 15))\n",
    "nhdp_hrNP.plot(ax=ax,alpha = 0.5, color = nhdp_hrNP['stype'].map(color_map))\n",
    "walwat.plot(ax=ax,edgecolor=\"black\",facecolor=\"none\")\n",
    "\n",
    "plt.rcParams.update({'font.size': 18})\n",
    "ax.set_xlabel(\"Longitude (decDeg)\")\n",
    "ax.set_ylabel(\"Latitude (decDeg)\")\n",
    "ax.yaxis.set_major_formatter(FormatStrFormatter('%.1f'))\n",
    "ax.xaxis.set_major_formatter(FormatStrFormatter('%.1f'))"
   ]
  },
  {
   "cell_type": "code",
   "execution_count": null,
   "id": "cc66c22c-39ca-4d96-8275-4afca6dec7ca",
   "metadata": {},
   "outputs": [],
   "source": []
  }
 ],
 "metadata": {
  "kernelspec": {
   "display_name": "Python 3 (ipykernel)",
   "language": "python",
   "name": "python3"
  },
  "language_info": {
   "codemirror_mode": {
    "name": "ipython",
    "version": 3
   },
   "file_extension": ".py",
   "mimetype": "text/x-python",
   "name": "python",
   "nbconvert_exporter": "python",
   "pygments_lexer": "ipython3",
   "version": "3.11.3"
  }
 },
 "nbformat": 4,
 "nbformat_minor": 5
}
