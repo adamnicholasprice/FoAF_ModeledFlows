{
 "cells": [
  {
   "cell_type": "code",
   "execution_count": null,
   "metadata": {
    "collapsed": false,
    "jupyter": {
     "outputs_hidden": false
    }
   },
   "outputs": [],
   "source": [
    "%matplotlib inline"
   ]
  },
  {
   "cell_type": "markdown",
   "metadata": {},
   "source": [
    "\n",
    "# Download Data with StreamStats\n",
    "\n",
    "Learn how to use StreamStats python library to download watershed boundary data\n",
    "available in USGS StreamStats API. StreamStats provides information including\n",
    "HUC code, a GeoJSON representation of the polygon associated with the watershed,\n",
    "and basin characteristics.\n"
   ]
  },
  {
   "cell_type": "markdown",
   "metadata": {},
   "source": [
    "## Import Packages\n",
    "Download the necessary Python packages. The ``GeoPandas`` package is an open\n",
    "source project that assists in working with geospatial data in Python. Learn\n",
    "more about `GeoPandas <https://geopandas.org/index.html>`_.\n",
    "\n"
   ]
  },
  {
   "cell_type": "code",
   "execution_count": null,
   "metadata": {
    "collapsed": false,
    "jupyter": {
     "outputs_hidden": false
    }
   },
   "outputs": [],
   "source": [
    "import streamstats\n",
    "import geopandas as gpd"
   ]
  },
  {
   "cell_type": "markdown",
   "metadata": {},
   "source": [
    "## Identify watershed\n",
    "To identify a HUC, use a latitude and longitude value to select a specific watershed.\n",
    "Assign cordinates to variables ``lat`` and ``lon``. Using StreamStat's data,\n",
    "assign location to a variable that will represent the\n",
    "delineated watershed using the USGS StreamStats API.\n",
    "\n"
   ]
  },
  {
   "cell_type": "code",
   "execution_count": null,
   "metadata": {
    "collapsed": false,
    "jupyter": {
     "outputs_hidden": false
    }
   },
   "outputs": [],
   "source": [
    "lat, lon = 39.966256, -105.482227\n",
    "ws = streamstats.Watershed(lat=lat, lon=lon)"
   ]
  },
  {
   "cell_type": "markdown",
   "metadata": {},
   "source": [
    "## Find boundary properties of the watershed\n",
    "``ws.boundary`` is a stored variable in the watershed object and will return\n",
    "the full watershed GeoJSON as a dictionary. You can access the CRS through\n",
    "the GeoJSON object.\n",
    "\n"
   ]
  },
  {
   "cell_type": "code",
   "execution_count": null,
   "metadata": {
    "collapsed": false,
    "jupyter": {
     "outputs_hidden": false
    }
   },
   "outputs": [],
   "source": [
    "ws.boundary\n",
    "ws.boundary['crs']"
   ]
  },
  {
   "cell_type": "markdown",
   "metadata": {},
   "source": [
    "## Create plot of the Watershed\n",
    "Open the GeoJSON with GeoPandas and plot the data.\n",
    "\n"
   ]
  },
  {
   "cell_type": "code",
   "execution_count": null,
   "metadata": {
    "collapsed": false,
    "jupyter": {
     "outputs_hidden": false
    }
   },
   "outputs": [],
   "source": [
    "ws.boundary\n",
    "poly = gpd.GeoDataFrame.from_features(ws.boundary[\"features\"], crs=\"EPSG:4326\")\n",
    "ax = poly.plot(figsize=(20, 10), edgecolor='k')\n",
    "ax.set_title(\"Single Watershed\", fontsize=30, fontweight = 'bold')\n",
    "ax.set_axis_off()"
   ]
  }
 ],
 "metadata": {
  "kernelspec": {
   "display_name": "Python 3",
   "language": "python",
   "name": "python3"
  },
  "language_info": {
   "codemirror_mode": {
    "name": "ipython",
    "version": 3
   },
   "file_extension": ".py",
   "mimetype": "text/x-python",
   "name": "python",
   "nbconvert_exporter": "python",
   "pygments_lexer": "ipython3",
   "version": "3.9.5"
  }
 },
 "nbformat": 4,
 "nbformat_minor": 4
}
