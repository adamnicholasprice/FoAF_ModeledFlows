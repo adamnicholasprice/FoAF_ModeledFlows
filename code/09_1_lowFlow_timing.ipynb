{
 "cells": [
  {
   "cell_type": "code",
   "execution_count": 53,
   "id": "7db31996-92ed-4a94-8d8f-daa51592c3db",
   "metadata": {
    "executionInfo": {
     "elapsed": 2973,
     "status": "ok",
     "timestamp": 1695243252761,
     "user": {
      "displayName": "Kendra Kaiser",
      "userId": "10128260765068656454"
     },
     "user_tz": 360
    },
    "id": "37a1fda1-a706-49c2-ae51-fa994c371dae",
    "tags": []
   },
   "outputs": [],
   "source": [
    "import pandas as pd\n",
    "import numpy as np\n",
    "import matplotlib.pyplot as plt\n",
    "import matplotlib.colors as pltc\n",
    "import datetime as dt\n",
    "from scipy import stats\n",
    "from sklearn import preprocessing\n",
    "import matplotlib as mpl\n",
    "from scipy.stats import skew\n",
    "import geopandas\n",
    "import seaborn as sns\n",
    "\n",
    "## Plotting parameters\n",
    "mpl.rcParams['pdf.fonttype'] = 42\n",
    "\n",
    "## Cubic feet to cubic meters conversion factor\n",
    "cfs_2_cms = 0.0283168466"
   ]
  },
  {
   "cell_type": "code",
   "execution_count": 54,
   "id": "47e5d77c-6064-4604-a8d0-2d90f41c5bec",
   "metadata": {
    "tags": []
   },
   "outputs": [],
   "source": [
    "def readModelFile(i):\n",
    "    try:\n",
    "        df = pd.read_csv('../data/pnwNP_modeledData_NWM3/'+str(pnwNP['gage'][i])+\".csv\")\n",
    "        df['time'] = pd.to_datetime(df['time'])\n",
    "       \n",
    "    ### Deliniate time periods\n",
    "        df['climate_year'] = df.time.dt.year.where(df.time.dt.month < 4, df.time.dt.year + 1)\n",
    "        df.loc[(df.time.dt.month > 7) & (df.time.dt.month < 10), \"flow_season\"] = \"late_summer\"\n",
    "        df.loc[(df.time.dt.month > 2) & (df.time.dt.month < 6), \"season\"] = \"spring\"\n",
    "        df.loc[(df.time.dt.month > 5) & (df.time.dt.month < 9), \"season\"] = \"summer\"\n",
    "        df.loc[(df.time.dt.month > 8) & (df.time.dt.month < 12), \"season\"] = \"fall\"\n",
    "        df.loc[(df.time.dt.month > 11), \"season\"]  = \"winter\"\n",
    "        df.loc[(df.time.dt.month < 3), \"season\"] = \"winter\"\n",
    "        df['month'] = df.time.dt.month\n",
    "        df[\"DOY\"] = df.time.dt.day_of_year\n",
    "        \n",
    "        # df = df.drop(['Unnamed: 0.1'],axis=1)\n",
    "        df = df[df[\"streamflow_NWIS\"].notna()].reset_index(drop=True)\n",
    "        return df\n",
    "\n",
    "    except:\n",
    "        pass"
   ]
  },
  {
   "cell_type": "code",
   "execution_count": 55,
   "id": "f9121918-6806-4c89-b073-4ba878e63d47",
   "metadata": {
    "tags": []
   },
   "outputs": [],
   "source": [
    "def calcLowFlowTiming(df):\n",
    "    import warnings\n",
    "    warnings.filterwarnings(\"ignore\")\n",
    "    '''\n",
    "    Read in data files for gages and calculate low flow timing\n",
    "    '''\n",
    "    \n",
    "    out7Q = pd.DataFrame()\n",
    "    outLowFLow = pd.DataFrame()\n",
    "\n",
    "    for column in df[[\"streamflow_VIC\",\"streamflow_PRMS\",'streamflow_NWM2d1','streamflow_NWM3','streamflow_NWIS']]:\n",
    "        \n",
    "        ## Find date of 7-day low flow\n",
    "        stat = \"7Q_\"\n",
    "        df['7Q'] = df[column].rolling(window=7).mean()\n",
    "        tt = df[['climate_year','DOY','time','7Q']]\n",
    "        tt = tt.loc[tt.groupby(['climate_year'])[\"7Q\"].idxmin()].set_index('climate_year').dropna()\n",
    "        tt = tt[df['7Q'].isnull().groupby(df['climate_year']).sum() <= 36.6]        \n",
    "        # tt = tt[[\"DOY\",\"time\"]].reset_index(drop=True).rename(columns={'DOY': column + \"_\" + stat + \"DOY\", 'time': column + \"_\" + stat + \"time\"})\n",
    "        tt = tt[[\"DOY\"]].reset_index(drop=True).rename(columns={'DOY': column + \"_\" + stat + \"DOY\"})\n",
    "        \n",
    "        out7Q  = pd.concat([out7Q,tt],axis=1)\n",
    "        \n",
    "        ## Find first date of annual low-flow\n",
    "        stat = \"LowFlow_Start_\"\n",
    "\n",
    "        df.loc[df[column]<=(df[column].quantile(0.25)),\"new\"] = 1\n",
    "        tt = df[['climate_year','DOY','time','new']].dropna()\n",
    "        tt = tt.loc[tt.groupby(['climate_year'])[\"new\"].idxmin()].set_index('climate_year').dropna()\n",
    "        tt = tt[df[column].isnull().groupby(df['climate_year']).sum() <= 36.6]\n",
    "        # tt = tt[[\"DOY\",\"time\"]].reset_index(drop=True).rename(columns={'DOY': column + \"_\" + stat + \"DOY\", 'time': column + \"_\" + stat + \"time\"})\n",
    "        tt = tt[[\"DOY\"]].reset_index(drop=True).rename(columns={'DOY': column + \"_\" + stat + \"DOY\"})\n",
    "        \n",
    "        outLowFLow  = pd.concat([outLowFLow,tt],axis=1)\n",
    "        \n",
    "\n",
    "    outLowFLow[\"gage\"] = int(df[\"gage\"][0])\n",
    "    out7Q[\"gage\"] = int(df[\"gage\"][0])\n",
    "    \n",
    "    out7Q = out7Q.melt(id_vars=[\"gage\"]).dropna()\n",
    "    outLowFLow = outLowFLow.melt(id_vars=[\"gage\"]).dropna()\n",
    "    return out7Q, outLowFLow\n"
   ]
  },
  {
   "cell_type": "code",
   "execution_count": 57,
   "id": "dca179a7-cdaa-4526-92d4-e5edbe381008",
   "metadata": {
    "tags": []
   },
   "outputs": [
    {
     "name": "stderr",
     "output_type": "stream",
     "text": [
      "100%|████████████████████████████████████████████████████████████████████████████████| 166/166 [00:20<00:00,  8.06it/s]\n"
     ]
    }
   ],
   "source": [
    "from tqdm import tqdm\n",
    "\n",
    "pnwNP = pd.read_csv(\"../data/KGE_gages.csv\")\n",
    "\n",
    "out7Q_comp = pd.DataFrame([])\n",
    "outLowFLow_comp = pd.DataFrame([])\n",
    "\n",
    "for i in tqdm(range(len(pnwNP))):\n",
    "    df = readModelFile(i)\n",
    "    out7Q, outLowFLow  = calcLowFlowTiming(df)\n",
    "    output = pd.concat([output, out], ignore_index=True)\n",
    "    out7Q_comp = pd.concat([out7Q_comp, out7Q], ignore_index=True)\n",
    "    outLowFLow_comp = pd.concat([outLowFLow_comp, outLowFLow], ignore_index=True)\n",
    "    del(out7Q,outLowFLow,df)\n",
    "    \n"
   ]
  },
  {
   "cell_type": "code",
   "execution_count": 58,
   "id": "2b275ea6-3433-4c4e-92b7-c0f0cbcf23f2",
   "metadata": {
    "tags": []
   },
   "outputs": [],
   "source": [
    "out7Q_comp.to_csv(\"../data/LowFlow7QTiming_stats.csv\",index_label=None)\n",
    "outLowFLow_comp.to_csv(\"../data/LowFlowTiming_stats.csv\")"
   ]
  }
 ],
 "metadata": {
  "kernelspec": {
   "display_name": "Python 3 (ipykernel)",
   "language": "python",
   "name": "python3"
  },
  "language_info": {
   "codemirror_mode": {
    "name": "ipython",
    "version": 3
   },
   "file_extension": ".py",
   "mimetype": "text/x-python",
   "name": "python",
   "nbconvert_exporter": "python",
   "pygments_lexer": "ipython3",
   "version": "3.12.4"
  }
 },
 "nbformat": 4,
 "nbformat_minor": 5
}
