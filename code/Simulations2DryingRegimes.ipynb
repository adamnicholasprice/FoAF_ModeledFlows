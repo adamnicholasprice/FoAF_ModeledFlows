{
 "cells": [
  {
   "cell_type": "code",
   "execution_count": 169,
   "id": "af63b234-f07f-4243-95af-73af50793ded",
   "metadata": {},
   "outputs": [],
   "source": [
    "import pandas as pd\n",
    "import numpy as np\n",
    "import datetime as dt\n",
    "import glob\n",
    "from tqdm import tqdm\n",
    "import os\n",
    "pd.set_option(\"display.max_rows\", 20)"
   ]
  },
  {
   "cell_type": "markdown",
   "id": "cf12f4d7-5637-4c47-9567-8c01ca3dd63d",
   "metadata": {},
   "source": [
    "### Load drying regimes data and non-perennial gages from PNW"
   ]
  },
  {
   "cell_type": "code",
   "execution_count": 37,
   "id": "798f1b82-db3d-4f00-87cf-ae7ceddd7a32",
   "metadata": {},
   "outputs": [],
   "source": [
    "dryReg = pd.read_csv(\"../data/dryingRegimes_data_RF.csv\")\n",
    "pnwNP = pd.read_csv(\"../data/pnwNP_Info.csv\")"
   ]
  },
  {
   "cell_type": "markdown",
   "id": "68e7d0c9-e9cd-4415-b3a3-55b2a704b6c3",
   "metadata": {},
   "source": [
    "### Make columns in \"YYYY-MM-DD\" format for each drying event"
   ]
  },
  {
   "cell_type": "code",
   "execution_count": 25,
   "id": "34fb4a01-7bf8-4e0c-b478-49018adb2d02",
   "metadata": {},
   "outputs": [],
   "source": [
    "dryReg[\"dryStart\"] = pd.to_datetime(dryReg[\"calendar_year\"], format='%Y')+ pd.to_timedelta(dryReg[\"dry_date_start\"], unit='days')\n",
    "dryReg[\"dryEnd\"] = dryReg[\"dryStart\"]+ pd.to_timedelta(dryReg[\"dry_dur\"], unit='days')\n",
    "dryReg[\"dryPeakDate\"] = pd.to_datetime(dryReg[\"calendar_year\"], format='%Y')+ pd.to_timedelta(dryReg[\"peak_date\"], unit='days')"
   ]
  },
  {
   "cell_type": "markdown",
   "id": "3452d692-b1ee-4e54-bffb-86740ddaf96f",
   "metadata": {},
   "source": [
    "### Subset drying regimes data to PNW gages"
   ]
  },
  {
   "cell_type": "code",
   "execution_count": 27,
   "id": "3ead006b-dbab-4b08-b6e3-592e390fa5f7",
   "metadata": {},
   "outputs": [],
   "source": [
    "pnwNPdry = dryReg[dryReg[\"gage\"].isin(pnwNP['gage'])].reset_index()"
   ]
  },
  {
   "cell_type": "markdown",
   "id": "a7f8472f-4d38-4197-9024-25a456b59a70",
   "metadata": {},
   "source": [
    "### Load, subset to drying events, and save the modeled data"
   ]
  },
  {
   "cell_type": "code",
   "execution_count": 173,
   "id": "4438ba2b-16f9-4cac-bd6a-58dfddc5caf6",
   "metadata": {},
   "outputs": [
    {
     "name": "stderr",
     "output_type": "stream",
     "text": [
      "100%|██████████| 20/20 [00:00<00:00, 30.81it/s]\n"
     ]
    }
   ],
   "source": [
    "path =r'../data/pnwNP_modeledData/'\n",
    "\n",
    "for i in tqdm(range(90,110)):\n",
    "    filename = glob.glob(path + str(pnwNPdry['gage'][i])+\"*wNWM2d1.csv\")\n",
    "    \n",
    "    df = pd.read_csv(filename[0]).drop([\"Unnamed: 0\",\"Unnamed: 0.1\",\"gage_x\",\"gage_y\"],axis=1)\n",
    "    df[\"time\"] = pd.to_datetime(df[\"time\"])\n",
    "    \n",
    "    df = df[(df['time'] >= pnwNPdry[\"dryPeakDate\"][i])&(df['time'] <= pnwNPdry[\"dryEnd\"][i])]\n",
    "    df['state'] = 0\n",
    "    df.loc[(df['time'] >= pnwNPdry[\"dryPeakDate\"][i])&(df['time'] < pnwNPdry[\"dryStart\"][i]),'state'] = \"drying\"\n",
    "    df.loc[(df['time'] >= pnwNPdry[\"dryStart\"][i])&(df['time'] <= pnwNPdry[\"dryEnd\"][i]),'state'] = \"dry\"\n",
    "    \n",
    "    \n",
    "    if os.path.isfile(str(pnwNPdry['gage'][i])+\"dryingEvent.csv\"):\n",
    "        df.to_csv(\"../data/pnwDrying_model/\" + str(pnwNPdry['gage'][i])+\"dryingEvent.csv\", mode='a', index=False, header=None)\n",
    "    else:\n",
    "        df.to_csv(\"../data/pnwDrying_model/\" + str(pnwNPdry['gage'][i])+\"dryingEvent.csv\", index=False)"
   ]
  },
  {
   "cell_type": "code",
   "execution_count": null,
   "id": "43200af4-1e7b-4938-9ac9-6a65d601b415",
   "metadata": {},
   "outputs": [],
   "source": []
  }
 ],
 "metadata": {
  "kernelspec": {
   "display_name": "Python 3",
   "language": "python",
   "name": "python3"
  },
  "language_info": {
   "codemirror_mode": {
    "name": "ipython",
    "version": 3
   },
   "file_extension": ".py",
   "mimetype": "text/x-python",
   "name": "python",
   "nbconvert_exporter": "python",
   "pygments_lexer": "ipython3",
   "version": "3.9.5"
  }
 },
 "nbformat": 4,
 "nbformat_minor": 5
}
