{
 "cells": [
  {
   "cell_type": "code",
   "execution_count": 1,
   "id": "da9e272c-591a-42c2-a9f0-13071a258b94",
   "metadata": {},
   "outputs": [],
   "source": [
    "import glob\n",
    "import os\n",
    "import pandas as pd\n",
    "import numpy as np\n",
    "import datetime as dt\n",
    "import dataretrieval as nwis\n",
    "from tqdm import tqdm"
   ]
  },
  {
   "cell_type": "code",
   "execution_count": null,
   "id": "eacfc698-04ce-44ae-8433-3772c9f35687",
   "metadata": {
    "tags": []
   },
   "outputs": [],
   "source": [
    "path = \"../data/pnwNP_modeledData/\"\n",
    "files = glob.glob(path+'*.csv')\n",
    "\n",
    "\n",
    "dvstats = pd.DataFrame(columns= ['gage','numZero','numOne','propZero','propOne','startDate','endDate'])\n",
    "\n",
    "for i in tqdm(range(len(files))):\n",
    "    # print(i)\n",
    "    df = pd.read_csv(files[i])\n",
    "    df['streamflow_NWIS'] = np.round(df['streamflow_NWIS'],1)\n",
    "    dvstats.loc[i] = (df[\"gage\"][0],\n",
    "                      len(df[df[\"streamflow_NWIS\"]==0]),\n",
    "                      len(df[(df[\"streamflow_NWIS\"]<=1) & (df[\"streamflow_NWIS\"]>0)]),\n",
    "                      len(df[df[\"streamflow_NWIS\"]==0])/len(df),\n",
    "                      len(df[(df[\"streamflow_NWIS\"]<=1) & (df[\"streamflow_NWIS\"]>0)])/len(df),\n",
    "                      df[\"time\"].iloc[0],\n",
    "                      df[\"time\"].iloc[-1])\n",
    "    del(df)\n",
    "\n",
    "# dvstats.to_csv(\"../data/pnwNWall_DailyStats_newROUNDED240317.csv\")"
   ]
  },
  {
   "cell_type": "code",
   "execution_count": 115,
   "id": "0ad1eb42-4a2c-4a14-aa19-5525d7bbc7e8",
   "metadata": {},
   "outputs": [],
   "source": [
    "pnwNPall = pd.read_csv(\"../data/pnwNPall_InfowStats.csv\")\n",
    "siteID = list(pnwNPall['gage'].astype(str))\n",
    "df = nwis.get_info(sites = siteID)[0]\n",
    "dvstats = pd.read_csv(\"../data/pnwNWall_DailyStats_newROUNDED240317.csv\")"
   ]
  },
  {
   "cell_type": "code",
   "execution_count": 116,
   "id": "aa5c531b-99a1-450c-86b7-1cad043f06eb",
   "metadata": {},
   "outputs": [],
   "source": [
    "df = df[['site_no','dec_lat_va','dec_long_va']]\n",
    "df['site_no'] = df['site_no'].astype(np.int64)\n",
    "df = pd.merge(df,dvstats, right_on='gage',left_on='site_no',how='inner')\n",
    "df['numObs'] = pd.to_datetime(df['endDate']) - pd.to_datetime(df['startDate'])\n",
    "df['numObs'] = df['numObs'].dt.days\n",
    "df['propZero'] = df['numZero']/df['numObs']\n",
    "df['propOne'] = df['numOne']/df['numObs']\n",
    "df.to_csv(\"../data/pnwNP_StatsLocations.csv\",index=False)"
   ]
  },
  {
   "cell_type": "code",
   "execution_count": 2,
   "id": "78900f0d-f5d5-4b9c-ac3b-365e55ed49ae",
   "metadata": {},
   "outputs": [],
   "source": [
    "df = pd.read_csv(\"../data/pnwNP_StatsLocations.csv\")"
   ]
  },
  {
   "cell_type": "code",
   "execution_count": 38,
   "id": "6d69756e-5d6b-4ad9-95e1-5c8c1d33744d",
   "metadata": {
    "tags": []
   },
   "outputs": [],
   "source": [
    "tt = df[(df[\"startDate\"]<= \"1993-01-01\")&(df[\"endDate\"]>= \"2011-12-31\")]"
   ]
  },
  {
   "cell_type": "code",
   "execution_count": 40,
   "id": "9ba99ecf-4ee4-4b11-b7cb-d5ac3586d487",
   "metadata": {
    "tags": []
   },
   "outputs": [
    {
     "data": {
      "text/plain": [
       "array([[<Axes: title={'center': 'numObs'}>]], dtype=object)"
      ]
     },
     "execution_count": 40,
     "metadata": {},
     "output_type": "execute_result"
    },
    {
     "data": {
      "image/png": "[encoded data removed]",
      "text/plain": [
       "<Figure size 640x480 with 1 Axes>"
      ]
     },
     "metadata": {},
     "output_type": "display_data"
    }
   ],
   "source": [
    "tt.hist(\"numObs\")"
   ]
  },
  {
   "cell_type": "code",
   "execution_count": null,
   "id": "dbd1c2f8-b42b-4ab6-9379-515928c7aaae",
   "metadata": {},
   "outputs": [],
   "source": []
  },
  {
   "cell_type": "code",
   "execution_count": 5,
   "id": "977892a7-b3dc-4eb2-8e20-c5df82cf8d7b",
   "metadata": {
    "tags": []
   },
   "outputs": [
    {
     "data": {
      "text/html": [
       "<div>\n",
       "<style scoped>\n",
       "    .dataframe tbody tr th:only-of-type {\n",
       "        vertical-align: middle;\n",
       "    }\n",
       "\n",
       "    .dataframe tbody tr th {\n",
       "        vertical-align: top;\n",
       "    }\n",
       "\n",
       "    .dataframe thead th {\n",
       "        text-align: right;\n",
       "    }\n",
       "</style>\n",
       "<table border=\"1\" class=\"dataframe\">\n",
       "  <thead>\n",
       "    <tr style=\"text-align: right;\">\n",
       "      <th></th>\n",
       "      <th>site_no</th>\n",
       "      <th>dec_lat_va</th>\n",
       "      <th>dec_long_va</th>\n",
       "      <th>Unnamed: 0</th>\n",
       "      <th>gage</th>\n",
       "      <th>numZero</th>\n",
       "      <th>numOne</th>\n",
       "      <th>propZero</th>\n",
       "      <th>propOne</th>\n",
       "      <th>startDate</th>\n",
       "      <th>endDate</th>\n",
       "      <th>numObs</th>\n",
       "    </tr>\n",
       "  </thead>\n",
       "  <tbody>\n",
       "    <tr>\n",
       "      <th>0</th>\n",
       "      <td>10361700</td>\n",
       "      <td>41.722116</td>\n",
       "      <td>-119.373258</td>\n",
       "      <td>0</td>\n",
       "      <td>10361700</td>\n",
       "      <td>3237</td>\n",
       "      <td>49</td>\n",
       "      <td>0.154799</td>\n",
       "      <td>0.002343</td>\n",
       "      <td>1963-10-01</td>\n",
       "      <td>2020-12-31</td>\n",
       "      <td>20911</td>\n",
       "    </tr>\n",
       "    <tr>\n",
       "      <th>1</th>\n",
       "      <td>10366000</td>\n",
       "      <td>42.072111</td>\n",
       "      <td>-119.962725</td>\n",
       "      <td>1</td>\n",
       "      <td>10366000</td>\n",
       "      <td>215</td>\n",
       "      <td>10682</td>\n",
       "      <td>0.008291</td>\n",
       "      <td>0.411923</td>\n",
       "      <td>1950-01-01</td>\n",
       "      <td>2020-12-31</td>\n",
       "      <td>25932</td>\n",
       "    </tr>\n",
       "    <tr>\n",
       "      <th>2</th>\n",
       "      <td>10378500</td>\n",
       "      <td>42.424883</td>\n",
       "      <td>-119.923285</td>\n",
       "      <td>2</td>\n",
       "      <td>10378500</td>\n",
       "      <td>3330</td>\n",
       "      <td>8447</td>\n",
       "      <td>0.128413</td>\n",
       "      <td>0.325737</td>\n",
       "      <td>1950-01-01</td>\n",
       "      <td>2020-12-31</td>\n",
       "      <td>25932</td>\n",
       "    </tr>\n",
       "    <tr>\n",
       "      <th>3</th>\n",
       "      <td>10389500</td>\n",
       "      <td>43.110973</td>\n",
       "      <td>-121.069165</td>\n",
       "      <td>3</td>\n",
       "      <td>10389500</td>\n",
       "      <td>4673</td>\n",
       "      <td>4049</td>\n",
       "      <td>0.231566</td>\n",
       "      <td>0.200644</td>\n",
       "      <td>1965-10-01</td>\n",
       "      <td>2020-12-31</td>\n",
       "      <td>20180</td>\n",
       "    </tr>\n",
       "    <tr>\n",
       "      <th>4</th>\n",
       "      <td>10390001</td>\n",
       "      <td>43.110973</td>\n",
       "      <td>-121.069165</td>\n",
       "      <td>4</td>\n",
       "      <td>10390001</td>\n",
       "      <td>274</td>\n",
       "      <td>6154</td>\n",
       "      <td>0.013578</td>\n",
       "      <td>0.304955</td>\n",
       "      <td>1965-10-01</td>\n",
       "      <td>2020-12-31</td>\n",
       "      <td>20180</td>\n",
       "    </tr>\n",
       "    <tr>\n",
       "      <th>...</th>\n",
       "      <td>...</td>\n",
       "      <td>...</td>\n",
       "      <td>...</td>\n",
       "      <td>...</td>\n",
       "      <td>...</td>\n",
       "      <td>...</td>\n",
       "      <td>...</td>\n",
       "      <td>...</td>\n",
       "      <td>...</td>\n",
       "      <td>...</td>\n",
       "      <td>...</td>\n",
       "      <td>...</td>\n",
       "    </tr>\n",
       "    <tr>\n",
       "      <th>498</th>\n",
       "      <td>14375400</td>\n",
       "      <td>42.031501</td>\n",
       "      <td>-123.737848</td>\n",
       "      <td>498</td>\n",
       "      <td>14375400</td>\n",
       "      <td>77</td>\n",
       "      <td>1260</td>\n",
       "      <td>0.005030</td>\n",
       "      <td>0.082305</td>\n",
       "      <td>1979-02-01</td>\n",
       "      <td>2020-12-31</td>\n",
       "      <td>15309</td>\n",
       "    </tr>\n",
       "    <tr>\n",
       "      <th>499</th>\n",
       "      <td>433247110491701</td>\n",
       "      <td>43.546317</td>\n",
       "      <td>-110.822154</td>\n",
       "      <td>499</td>\n",
       "      <td>433247110491701</td>\n",
       "      <td>53</td>\n",
       "      <td>58</td>\n",
       "      <td>0.003462</td>\n",
       "      <td>0.003789</td>\n",
       "      <td>1979-02-01</td>\n",
       "      <td>2020-12-31</td>\n",
       "      <td>15309</td>\n",
       "    </tr>\n",
       "    <tr>\n",
       "      <th>500</th>\n",
       "      <td>452755122234100</td>\n",
       "      <td>45.465120</td>\n",
       "      <td>-122.395923</td>\n",
       "      <td>500</td>\n",
       "      <td>452755122234100</td>\n",
       "      <td>1143</td>\n",
       "      <td>905</td>\n",
       "      <td>0.074662</td>\n",
       "      <td>0.059116</td>\n",
       "      <td>1979-02-01</td>\n",
       "      <td>2020-12-31</td>\n",
       "      <td>15309</td>\n",
       "    </tr>\n",
       "    <tr>\n",
       "      <th>501</th>\n",
       "      <td>452807122215001</td>\n",
       "      <td>45.468667</td>\n",
       "      <td>-122.363972</td>\n",
       "      <td>501</td>\n",
       "      <td>452807122215001</td>\n",
       "      <td>925</td>\n",
       "      <td>161</td>\n",
       "      <td>0.060422</td>\n",
       "      <td>0.010517</td>\n",
       "      <td>1979-02-01</td>\n",
       "      <td>2020-12-31</td>\n",
       "      <td>15309</td>\n",
       "    </tr>\n",
       "    <tr>\n",
       "      <th>502</th>\n",
       "      <td>480608115242901</td>\n",
       "      <td>48.102226</td>\n",
       "      <td>-115.408919</td>\n",
       "      <td>502</td>\n",
       "      <td>480608115242901</td>\n",
       "      <td>2190</td>\n",
       "      <td>1190</td>\n",
       "      <td>0.143053</td>\n",
       "      <td>0.077732</td>\n",
       "      <td>1979-02-01</td>\n",
       "      <td>2020-12-31</td>\n",
       "      <td>15309</td>\n",
       "    </tr>\n",
       "  </tbody>\n",
       "</table>\n",
       "<p>503 rows × 12 columns</p>\n",
       "</div>"
      ],
      "text/plain": [
       "             site_no  dec_lat_va  dec_long_va  Unnamed: 0             gage  \\\n",
       "0           10361700   41.722116  -119.373258           0         10361700   \n",
       "1           10366000   42.072111  -119.962725           1         10366000   \n",
       "2           10378500   42.424883  -119.923285           2         10378500   \n",
       "3           10389500   43.110973  -121.069165           3         10389500   \n",
       "4           10390001   43.110973  -121.069165           4         10390001   \n",
       "..               ...         ...          ...         ...              ...   \n",
       "498         14375400   42.031501  -123.737848         498         14375400   \n",
       "499  433247110491701   43.546317  -110.822154         499  433247110491701   \n",
       "500  452755122234100   45.465120  -122.395923         500  452755122234100   \n",
       "501  452807122215001   45.468667  -122.363972         501  452807122215001   \n",
       "502  480608115242901   48.102226  -115.408919         502  480608115242901   \n",
       "\n",
       "     numZero  numOne  propZero   propOne   startDate     endDate  numObs  \n",
       "0       3237      49  0.154799  0.002343  1963-10-01  2020-12-31   20911  \n",
       "1        215   10682  0.008291  0.411923  1950-01-01  2020-12-31   25932  \n",
       "2       3330    8447  0.128413  0.325737  1950-01-01  2020-12-31   25932  \n",
       "3       4673    4049  0.231566  0.200644  1965-10-01  2020-12-31   20180  \n",
       "4        274    6154  0.013578  0.304955  1965-10-01  2020-12-31   20180  \n",
       "..       ...     ...       ...       ...         ...         ...     ...  \n",
       "498       77    1260  0.005030  0.082305  1979-02-01  2020-12-31   15309  \n",
       "499       53      58  0.003462  0.003789  1979-02-01  2020-12-31   15309  \n",
       "500     1143     905  0.074662  0.059116  1979-02-01  2020-12-31   15309  \n",
       "501      925     161  0.060422  0.010517  1979-02-01  2020-12-31   15309  \n",
       "502     2190    1190  0.143053  0.077732  1979-02-01  2020-12-31   15309  \n",
       "\n",
       "[503 rows x 12 columns]"
      ]
     },
     "execution_count": 5,
     "metadata": {},
     "output_type": "execute_result"
    }
   ],
   "source": [
    "fig, ax = plt.subplots(1, figsize=(16,6))\n",
    "ax.barh(df.gage, df.days_start_to_end, left=df.start_num)\n",
    "plt.show()"
   ]
  },
  {
   "cell_type": "code",
   "execution_count": 36,
   "id": "d7160a77-cd03-470d-a9e3-fb7c17929f2e",
   "metadata": {
    "tags": []
   },
   "outputs": [],
   "source": [
    "df['startDate'] = pd.to_datetime(df['startDate'])\n",
    "df['endDate'] = pd.to_datetime(df['endDate'])\n",
    "\n",
    "# project start date\n",
    "proj_start  = df.startDate.min()\n",
    "# proj_start = \"1993-01-01\"\n",
    "\n",
    "# number of days from project start to task start\n",
    "df['start_num'] = (df.startDate-proj_start).dt.days\n",
    "\n",
    "# number of days from project start to end of tasks\n",
    "df['end_num'] = (df.endDate-proj_start).dt.days\n",
    "\n",
    "# days between start and end of each task\n",
    "df['days_start_to_end'] = df.end_num - df.start_num"
   ]
  },
  {
   "cell_type": "code",
   "execution_count": 37,
   "id": "24f4ccdc-2ee9-4083-bf82-3808cbcb7ab2",
   "metadata": {
    "tags": []
   },
   "outputs": [
    {
     "data": {
      "image/png": "[encoded data removed]",
      "text/plain": [
       "<Figure size 1600x600 with 1 Axes>"
      ]
     },
     "metadata": {},
     "output_type": "display_data"
    }
   ],
   "source": [
    "import matplotlib.pyplot as plt\n",
    "\n",
    "fig, ax = plt.subplots(1, figsize=(16,6))\n",
    "ax.barh(df.index, df.days_start_to_end, left=df.start_num)\n",
    "plt.show()"
   ]
  },
  {
   "cell_type": "code",
   "execution_count": null,
   "id": "7d3a0cde-66e0-4fe2-84fb-1122024d8e7d",
   "metadata": {},
   "outputs": [],
   "source": []
  }
 ],
 "metadata": {
  "kernelspec": {
   "display_name": "Python 3 (ipykernel)",
   "language": "python",
   "name": "python3"
  },
  "language_info": {
   "codemirror_mode": {
    "name": "ipython",
    "version": 3
   },
   "file_extension": ".py",
   "mimetype": "text/x-python",
   "name": "python",
   "nbconvert_exporter": "python",
   "pygments_lexer": "ipython3",
   "version": "3.12.3"
  }
 },
 "nbformat": 4,
 "nbformat_minor": 5
}
