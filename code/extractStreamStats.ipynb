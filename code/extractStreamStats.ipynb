{
 "cells": [
  {
   "cell_type": "code",
   "execution_count": null,
   "id": "534a93b3-351e-4daa-9831-c7a1c5b4a612",
   "metadata": {},
   "outputs": [],
   "source": [
    "import pandas as pd\n",
    "import requests\n",
    "import json\n",
    "from tqdm import tqdm"
   ]
  },
  {
   "cell_type": "code",
   "execution_count": null,
   "id": "98266219-9365-405c-9648-de82037d61f9",
   "metadata": {},
   "outputs": [],
   "source": [
    "dat = pd.read_csv(\"../data/pnwNP_StatsLocations.csv\")\n",
    "\n",
    "StreamStatsServiceURLS = {\n",
    "    'gage': 'https://streamstats.usgs.gov/gagestatsservices/statistics'\n",
    "    }\n",
    "\n",
    "https://streamstats.usgs.gov/gagestatsservices/characteristics"
   ]
  },
  {
   "cell_type": "code",
   "execution_count": null,
   "id": "336dec48-6b64-40d1-ad69-bc10293b3c61",
   "metadata": {
    "tags": []
   },
   "outputs": [],
   "source": [
    "for i in tqdm(range(len(dat))):\n",
    "    gageURLParams = {\n",
    "        \"stationIDOrCode\": dat[\"gage\"][i]\n",
    "    }\n",
    "    print(\"Gage = \" + str(dat[\"gage\"][i]))\n",
    "    \n",
    "    gageResponse = requests.get(url = StreamStatsServiceURLS['gage'], params = gageURLParams)\n",
    "    \n",
    "    if gageResponse.status_code == 200:\n",
    "        cookies = gageResponse.cookies\n",
    "        try:\n",
    "            gageStats = pd.DataFrame(json.loads(gageResponse.content.decode('utf-8')))\n",
    "\n",
    "\n",
    "            gageStats['statName'] = pd.DataFrame(list(gageStats[\"regressionType\"]))['name']\n",
    "            gageStats['statCode'] = pd.DataFrame(list(gageStats[\"regressionType\"]))['code']\n",
    "            gageStats['statDesc'] = pd.DataFrame(list(gageStats[\"regressionType\"]))['description']\n",
    "\n",
    "\n",
    "            gageStats = gageStats[['value','statName','statCode','statDesc','statisticErrors','yearsofRecord','comments']].to_csv(\"../data/StreamStats_GageStats/\"+str(dat[\"gage\"][i])+\".csv\",index=False)\n",
    "            del(gageStats)\n",
    "        except:\n",
    "            pass\n",
    "    else:\n",
    "        pass"
   ]
  },
  {
   "cell_type": "code",
   "execution_count": null,
   "id": "a3bf9348-6008-4614-8b17-88fa831c3a13",
   "metadata": {},
   "outputs": [],
   "source": [
    "i=2\n",
    "\n",
    "gageURLParams = {\n",
    "    \"stationIDOrCode\": dat[\"gage\"][i]\n",
    "}\n",
    "\n",
    "\n",
    "gageResponse = requests.get(url = StreamStatsServiceURLS['gage'], params = gageURLParams)\n",
    "\n",
    "if gageResponse.status_code == 200:\n",
    "    cookies = gageResponse.cookies\n",
    "    try:\n",
    "        gageStats = pd.DataFrame(json.loads(gageResponse.content.decode('utf-8')))\n",
    "\n",
    "\n",
    "        gageStats['statName'] = pd.DataFrame(list(gageStats[\"regressionType\"]))['name']\n",
    "        gageStats['statCode'] = pd.DataFrame(list(gageStats[\"regressionType\"]))['code']\n",
    "        gageStats['statDesc'] = pd.DataFrame(list(gageStats[\"regressionType\"]))['description']\n",
    "\n",
    "\n",
    "#         gageStats = gageStats[['value','statName','statCode','statDesc','statisticErrors','yearsofRecord','comments']].to_csv(\"../data/StreamStats_GageStats/\"+str(dat[\"gage\"][i])+\".csv\",index=False)\n",
    "#         del(gageStats)\n",
    "    except:\n",
    "        pass\n",
    "    \n",
    "else:\n",
    "    pass"
   ]
  },
  {
   "cell_type": "code",
   "execution_count": null,
   "id": "28613479-2990-4c4e-bb40-28b59b920da2",
   "metadata": {},
   "outputs": [],
   "source": [
    "gageStats"
   ]
  },
  {
   "cell_type": "code",
   "execution_count": null,
   "id": "b7850d0b-b332-415a-abcb-ee960ceece64",
   "metadata": {},
   "outputs": [],
   "source": []
  }
 ],
 "metadata": {
  "kernelspec": {
   "display_name": "Python 3",
   "language": "python",
   "name": "python3"
  },
  "language_info": {
   "codemirror_mode": {
    "name": "ipython",
    "version": 3
   },
   "file_extension": ".py",
   "mimetype": "text/x-python",
   "name": "python",
   "nbconvert_exporter": "python",
   "pygments_lexer": "ipython3",
   "version": "3.9.5"
  }
 },
 "nbformat": 4,
 "nbformat_minor": 5
}
