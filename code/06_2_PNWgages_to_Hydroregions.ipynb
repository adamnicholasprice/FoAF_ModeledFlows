{
 "cells": [
  {
   "cell_type": "code",
   "execution_count": 6,
   "id": "59b680b8-6623-470e-a72e-55135920dc5b",
   "metadata": {
    "tags": []
   },
   "outputs": [],
   "source": [
    "import pandas as pd\n",
    "import numpy as np\n",
    "import datetime as dt\n",
    "import matplotlib.pyplot as plt\n",
    "import seaborn as sns\n",
    "from matplotlib.ticker import FormatStrFormatter\n",
    "import matplotlib as mpl\n",
    "import matplotlib.colors as pltc\n",
    "import geopandas\n",
    "import mapclassify\n",
    "from shapely.geometry import Polygon, LineString, MultiPoint, Point\n",
    "mpl.rcParams['pdf.fonttype'] = 42"
   ]
  },
  {
   "cell_type": "code",
   "execution_count": 3,
   "id": "34d0043e-a66d-48b9-838b-a689c463bc1a",
   "metadata": {
    "tags": []
   },
   "outputs": [],
   "source": [
    "df = pd.read_csv(\"../data/pnwNP_StatsLocations.csv\")\n",
    "df = geopandas.GeoDataFrame(df, geometry=geopandas.points_from_xy(df.dec_long_va,df.dec_lat_va)).set_crs('epsg:4269')"
   ]
  },
  {
   "cell_type": "code",
   "execution_count": 4,
   "id": "3d079be5-032a-4467-809e-a2bdd4d735e3",
   "metadata": {
    "tags": []
   },
   "outputs": [],
   "source": [
    "pnw_hydro = geopandas.read_file(\"../data/mapping/pnw_hydrologic_landscape_class/PNW Hydrologic Landscape Class.shp\")\n",
    "pnw_hydro_repro = pnw_hydro.to_crs(epsg=4269)\n",
    "pnw_hydro_repro.CLASS = pnw_hydro['CLASS'].astype(str).str[0:1]"
   ]
  },
  {
   "cell_type": "code",
   "execution_count": 12,
   "id": "092eac19-f93c-48f1-b424-1ceffaa4c83d",
   "metadata": {
    "tags": []
   },
   "outputs": [],
   "source": [
    "tt = geopandas.sjoin(df, pnw_hydro_repro, predicate='within')"
   ]
  },
  {
   "cell_type": "code",
   "execution_count": 43,
   "id": "2cc93c85-92ce-4b35-99ef-a8ee58b8c8df",
   "metadata": {
    "tags": []
   },
   "outputs": [],
   "source": [
    "key = {'W': 'wet',\n",
    "          'V': 'very_wet' ,\n",
    "          'D': 'dry',\n",
    "          'M': 'moist',\n",
    "          'S': 'semi_arid' ,\n",
    "          'A': 'arid' ,\n",
    "          'B': 'NA' }\n",
    "\n",
    "tt[\"HydroLandClass\"] = tt[\"CLASS\"].map(key)"
   ]
  },
  {
   "cell_type": "code",
   "execution_count": 35,
   "id": "727a80ab-9957-4a19-9ab0-748016a04431",
   "metadata": {
    "tags": []
   },
   "outputs": [],
   "source": [
    "tt.to_csv(\"../data/pnwNP_StatsLocations_HydroClass.csv\")"
   ]
  },
  {
   "cell_type": "code",
   "execution_count": 52,
   "id": "e54b4d3d-c8d3-4dd1-b3d9-6f379faf49ed",
   "metadata": {
    "tags": []
   },
   "outputs": [
    {
     "data": {
      "image/png": "[encoded data removed]",
      "text/plain": [
       "<Figure size 640x480 with 1 Axes>"
      ]
     },
     "metadata": {},
     "output_type": "display_data"
    }
   ],
   "source": [
    "sort = {'V': '1' ,\n",
    "        'W': '2',\n",
    "        'M': '3',\n",
    "        'D': '4',\n",
    "        'S': '5' ,\n",
    "        'A': '6'}\n",
    "\n",
    "tt[\"sort\"] = tt[\"CLASS\"].map(sort)\n",
    "\n",
    "tt = tt.sort_values(['sort']).reset_index(drop=True)\n",
    "\n",
    "color_map = {'W': 'lightskyblue',\n",
    "          'V': 'dodgerblue' ,\n",
    "          'D': 'navajowhite',\n",
    "          'M': 'papayawhip',\n",
    "          'S': 'salmon' ,\n",
    "          'A': 'orangered' ,\n",
    "          'B': 'hotpink' }\n",
    "\n",
    "ax = sns.countplot(x=\"HydroLandClass\", data=tt,\n",
    "                  hue= \"CLASS\", palette=color_map)"
   ]
  }
 ],
 "metadata": {
  "kernelspec": {
   "display_name": "Python 3 (ipykernel)",
   "language": "python",
   "name": "python3"
  },
  "language_info": {
   "codemirror_mode": {
    "name": "ipython",
    "version": 3
   },
   "file_extension": ".py",
   "mimetype": "text/x-python",
   "name": "python",
   "nbconvert_exporter": "python",
   "pygments_lexer": "ipython3",
   "version": "3.11.4"
  }
 },
 "nbformat": 4,
 "nbformat_minor": 5
}
