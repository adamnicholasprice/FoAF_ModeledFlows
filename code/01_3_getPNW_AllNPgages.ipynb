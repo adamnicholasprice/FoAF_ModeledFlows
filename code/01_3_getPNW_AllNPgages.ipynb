{
 "cells": [
  {
   "cell_type": "code",
   "execution_count": null,
   "id": "d1ce040b-c1a8-4e9e-b726-8be59a0ef0d0",
   "metadata": {},
   "outputs": [],
   "source": [
    "import pandas as pd\n",
    "import numpy as np\n",
    "import matplotlib.pyplot as plt\n",
    "import dataretrieval as nwis\n",
    "from tqdm import tqdm\n",
    "import datetime as dt"
   ]
  },
  {
   "cell_type": "code",
   "execution_count": null,
   "id": "dd36f2a1-6a9c-4c15-93fb-6c598b279fc0",
   "metadata": {},
   "outputs": [],
   "source": [
    "NPSites = nwis.get_info(huc = '17',parameterCd = '00060', startDt = '1950-01-01',endDt = '2020-12-31',siteType='ST',seriesCatalogOutput = True)[0]\n",
    "NPSites = NPSites[(NPSites[\"count_nu\"]>365*2)&(NPSites[\"agency_cd\"]==\"USGS\")] # More than 2 years of data and operated by USGS\n",
    "siteNum = NPSites[\"site_no\"].unique() ## Get unique site numbers from the above dataset"
   ]
  },
  {
   "cell_type": "code",
   "execution_count": null,
   "id": "a160a098-463f-4f4e-8bd4-873bd5044c8c",
   "metadata": {},
   "outputs": [],
   "source": [
    "startDate = \"1950-01-01\"\n",
    "endDate = \"2020-12-31\"\n",
    "\n",
    "dvstats = pd.DataFrame(columns= ['numZero','numOne','startDate','endDate'])\n",
    "ivstats = pd.DataFrame(columns= ['numZero','numOne','startDate','endDate'])\n",
    "\n",
    "for i in tqdm(siteNum,leave=True):\n",
    "    print(i)\n",
    "    df = nwis.get_dv(sites=str(i),\n",
    "           start = startDate,\n",
    "           end = endDate)[0]\n",
    "    \n",
    "    \n",
    "    if '00060_Mean' in df.columns and len(df[df['00060_Mean'] < 1]) >= 7:\n",
    "        dvstats.loc[str(i)] = (len(df[df[\"00060_Mean\"]==0]),len(df[df[\"00060_Mean\"]<=1]),df.index[1],df.index[-1])\n",
    "        df.to_csv(\"/Users/adamprice/Desktop/NWIS_streamflow/daily/\"+str(i)+\"_daily.csv\")\n",
    "        del(df)\n",
    "        \n",
    "#         iv = nwis.get_iv(sites=str(i),\n",
    "#            start = startDate,\n",
    "#            end = endDate)[0]\n",
    "        \n",
    "#         if len(iv) == 0:\n",
    "#             continue\n",
    "#         else:\n",
    "#             try:\n",
    "#                 ivstats.loc[str(i)] = (len(iv[iv[\"00060\"]==0]),len(iv[iv[\"00060\"]<=1]),iv.index[1],iv.index[-1])\n",
    "#                 iv.to_csv(\"/Users/adamprice/Desktop/NWIS_streamflow/unitVal/\"+str(i)+\"_unitVal.csv\")\n",
    "#                 del(iv)\n",
    "#             except:\n",
    "# #                 ivstats.loc[str(i)] = (\"n/a\",\"n/a\",\"n/a\",\"n/a\")\n",
    "#                 continue\n",
    "        \n",
    "    else:\n",
    "        continue\n",
    "        \n",
    "dvstats['startDate'] = dvstats['startDate'].dt.tz_localize(None)\n",
    "dvstats['endDate'] = dvstats['endDate'].dt.tz_localize(None)\n",
    "dvstats.to_csv(\"../data/pnwNWall_DailyStats.csv\")\n",
    "# ivstats.to_csv(\"../data/pnwNWall_UnitStats.csv\")\n",
    "        "
   ]
  }
 ],
 "metadata": {
  "kernelspec": {
   "display_name": "Python 3",
   "language": "python",
   "name": "python3"
  },
  "language_info": {
   "codemirror_mode": {
    "name": "ipython",
    "version": 3
   },
   "file_extension": ".py",
   "mimetype": "text/x-python",
   "name": "python",
   "nbconvert_exporter": "python",
   "pygments_lexer": "ipython3",
   "version": "3.9.5"
  }
 },
 "nbformat": 4,
 "nbformat_minor": 5
}
